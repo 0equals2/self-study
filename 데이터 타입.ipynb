{
 "cells": [
  {
   "cell_type": "markdown",
   "metadata": {},
   "source": [
    "# 데이터 타입\n",
    "프로그램은 데이터를 가공해 결과를 생성  \n",
    "데이터 타입은 가공에 필요한 연산 구분  \n",
    "파이썬은 사용자 관점의 추상화된 데이터 표현 제공  \n",
    "파이썬 기본 타입 : 숫자(정수 실수 복소수), 논리(boolean), 시퀀스, 연관, 클래스  \n",
    "구조체, 공용체는 지원하지 않음"
   ]
  },
  {
   "cell_type": "markdown",
   "metadata": {},
   "source": [
    "## 숫자와 논리타입\n",
    "숫자 타입은 정수, 실수, 복소수로 구분  \n",
    "정수 타입은 메모리가 허용하는 한도에서 매우 큰 정수 표현  \n",
    "부호가 있는 정수 표현을 사용하므로 signed, unsigned 속성이 없음  \n",
    "복소수 타입은 복소수 표현  \n",
    "실수 타입은 배정도 실수 표현  \n",
    "논리 타입은 논리 연산 결과 표현"
   ]
  },
  {
   "cell_type": "markdown",
   "metadata": {},
   "source": [
    "## 열거타입\n",
    "열거 타입은 가능한 값의 범위가 나열 형태로 정의되는 이름이 부여된 읽기 전용 상수 표현  \n",
    "파이썬은 기본 타입으로 지원하지 않고 enum 모듈의 Enum 클래스로 지원"
   ]
  },
  {
   "cell_type": "code",
   "execution_count": 1,
   "metadata": {},
   "outputs": [
    {
     "name": "stdout",
     "output_type": "stream",
     "text": [
      "1\n",
      "2\n",
      "3\n"
     ]
    }
   ],
   "source": [
    "from enum import Enum\n",
    "class Color(Enum):\n",
    "    red = 1\n",
    "    green = 2\n",
    "    blue = 3\n",
    "    \n",
    "print(Color.red.value)\n",
    "print(Color.green.value)\n",
    "print(Color.blue.value|Color.red.value)"
   ]
  },
  {
   "cell_type": "markdown",
   "metadata": {},
   "source": [
    "## 컨테이너 타입\n",
    "컬렉션의 일종인 컨테이너는 구조화된 저장소로 시퀀스와 연관으로 구분  \n",
    "시퀀스는 배열과 같이 순서를 갖는 데이터 구조로 문자열, 리스트, 튜플로 구분  \n",
    "문자열 타입은 문자열만 관리하는 추상 타입  \n",
    "연관은 고유한 키로 값의 저장 위치를 결정하며 딕셔너리와 집합으로 구분  \n",
    "컨테이너에 포함되는 대상을 요소라 하며 내장함수 len()으로 개수 파악"
   ]
  },
  {
   "cell_type": "markdown",
   "metadata": {},
   "source": [
    "## 사용자 정의 타입\n",
    "사용자 정의 타입은 클래스로 표현하며 객체지향 개념 지원 > 클래스 멤버는 속성(변수)과 메소드(함수)로 구분  \n",
    "파이썬은 정의한 클래스 자체도 하나의 객체!  \n",
    "실체화는 클래스 객체를 복제해 동일 타입의 새로운 객체를 만드는 행위 > 인스턴스 객체  \n",
    "인스턴스 객체는 자신만의 속성을 가질 수 없다 > C언어의 구조체와 호환"
   ]
  },
  {
   "cell_type": "code",
   "execution_count": 2,
   "metadata": {},
   "outputs": [],
   "source": [
    "class Person:\n",
    "    def __init__(self):\n",
    "        self.name = None\n",
    "        self.tel = None\n",
    "        self.addr = None\n",
    "        \n",
    "one = Person()\n",
    "two = Person()\n",
    "\n",
    "one.name = \"youngeun\"\n",
    "one.tel = \"01012345678\"\n",
    "two.name = \"youngho\"\n",
    "two.tel = \"01087654321\""
   ]
  },
  {
   "cell_type": "code",
   "execution_count": 3,
   "metadata": {},
   "outputs": [
    {
     "data": {
      "text/plain": [
       "<__main__.Person at 0x2036a4f5e48>"
      ]
     },
     "execution_count": 3,
     "metadata": {},
     "output_type": "execute_result"
    }
   ],
   "source": [
    "one"
   ]
  },
  {
   "cell_type": "code",
   "execution_count": 4,
   "metadata": {},
   "outputs": [
    {
     "data": {
      "text/plain": [
       "<__main__.Person at 0x2036a4eabe0>"
      ]
     },
     "execution_count": 4,
     "metadata": {},
     "output_type": "execute_result"
    }
   ],
   "source": [
    "two"
   ]
  },
  {
   "cell_type": "code",
   "execution_count": 5,
   "metadata": {},
   "outputs": [
    {
     "data": {
      "text/plain": [
       "'youngeun'"
      ]
     },
     "execution_count": 5,
     "metadata": {},
     "output_type": "execute_result"
    }
   ],
   "source": [
    "one.name"
   ]
  },
  {
   "cell_type": "code",
   "execution_count": 6,
   "metadata": {},
   "outputs": [
    {
     "data": {
      "text/plain": [
       "'youngho'"
      ]
     },
     "execution_count": 6,
     "metadata": {},
     "output_type": "execute_result"
    }
   ],
   "source": [
    "two.name"
   ]
  },
  {
   "cell_type": "markdown",
   "metadata": {},
   "source": [
    "## 타입 검사\n",
    "객체의 타입은 클래스 객체  \n",
    "내장 함수 type()은 클래스 객체의 이름인 타입 반환  \n",
    "int(정수), float(실수), complex(복소수), str(문자열), bool(논리), list(리스트), tuple(튜플), dict(딕셔너리)`, set(집합)"
   ]
  },
  {
   "cell_type": "code",
   "execution_count": 7,
   "metadata": {},
   "outputs": [
    {
     "data": {
      "text/plain": [
       "int"
      ]
     },
     "execution_count": 7,
     "metadata": {},
     "output_type": "execute_result"
    }
   ],
   "source": [
    "type(1)"
   ]
  },
  {
   "cell_type": "code",
   "execution_count": 11,
   "metadata": {},
   "outputs": [
    {
     "data": {
      "text/plain": [
       "float"
      ]
     },
     "execution_count": 11,
     "metadata": {},
     "output_type": "execute_result"
    }
   ],
   "source": [
    "type(1.2)"
   ]
  },
  {
   "cell_type": "code",
   "execution_count": 12,
   "metadata": {},
   "outputs": [
    {
     "data": {
      "text/plain": [
       "complex"
      ]
     },
     "execution_count": 12,
     "metadata": {},
     "output_type": "execute_result"
    }
   ],
   "source": [
    "type(1+2j)"
   ]
  },
  {
   "cell_type": "code",
   "execution_count": 8,
   "metadata": {},
   "outputs": [
    {
     "data": {
      "text/plain": [
       "str"
      ]
     },
     "execution_count": 8,
     "metadata": {},
     "output_type": "execute_result"
    }
   ],
   "source": [
    "type(\"love you\")"
   ]
  },
  {
   "cell_type": "code",
   "execution_count": 10,
   "metadata": {},
   "outputs": [
    {
     "data": {
      "text/plain": [
       "bool"
      ]
     },
     "execution_count": 10,
     "metadata": {},
     "output_type": "execute_result"
    }
   ],
   "source": [
    "type(True)"
   ]
  },
  {
   "cell_type": "code",
   "execution_count": 13,
   "metadata": {},
   "outputs": [
    {
     "data": {
      "text/plain": [
       "list"
      ]
     },
     "execution_count": 13,
     "metadata": {},
     "output_type": "execute_result"
    }
   ],
   "source": [
    "type([1, 2, 3])"
   ]
  },
  {
   "cell_type": "code",
   "execution_count": 14,
   "metadata": {},
   "outputs": [
    {
     "data": {
      "text/plain": [
       "tuple"
      ]
     },
     "execution_count": 14,
     "metadata": {},
     "output_type": "execute_result"
    }
   ],
   "source": [
    "type((1, 2))"
   ]
  },
  {
   "cell_type": "code",
   "execution_count": 16,
   "metadata": {},
   "outputs": [
    {
     "data": {
      "text/plain": [
       "dict"
      ]
     },
     "execution_count": 16,
     "metadata": {},
     "output_type": "execute_result"
    }
   ],
   "source": [
    "type({\"I\":10})"
   ]
  },
  {
   "cell_type": "code",
   "execution_count": 17,
   "metadata": {},
   "outputs": [
    {
     "data": {
      "text/plain": [
       "set"
      ]
     },
     "execution_count": 17,
     "metadata": {},
     "output_type": "execute_result"
    }
   ],
   "source": [
    "type({1,2,3})"
   ]
  },
  {
   "cell_type": "markdown",
   "metadata": {},
   "source": [
    "## 타입 크기\n",
    "타입의 크기는 sys 모듈의 getsizeof()함수로 확인  \n",
    "타입이 적용된 객체의 크리를 바이트로 반환함"
   ]
  },
  {
   "cell_type": "code",
   "execution_count": 18,
   "metadata": {},
   "outputs": [
    {
     "data": {
      "text/plain": [
       "28"
      ]
     },
     "execution_count": 18,
     "metadata": {},
     "output_type": "execute_result"
    }
   ],
   "source": [
    "from sys import getsizeof\n",
    "getsizeof(10)"
   ]
  },
  {
   "cell_type": "code",
   "execution_count": 19,
   "metadata": {},
   "outputs": [
    {
     "data": {
      "text/plain": [
       "28"
      ]
     },
     "execution_count": 19,
     "metadata": {},
     "output_type": "execute_result"
    }
   ],
   "source": [
    "getsizeof(True)"
   ]
  },
  {
   "cell_type": "code",
   "execution_count": 20,
   "metadata": {},
   "outputs": [
    {
     "data": {
      "text/plain": [
       "72"
      ]
     },
     "execution_count": 20,
     "metadata": {},
     "output_type": "execute_result"
    }
   ],
   "source": [
    "getsizeof((1,2,3))"
   ]
  },
  {
   "cell_type": "markdown",
   "metadata": {},
   "source": [
    "## 객체 고유 속성\n",
    "모든 객체는 식별자 및 참조 개수와 같은 속성을 가짐  \n",
    "식별자는 객체의 고유성을 나타내는 정수로 식별자가 같으면 동일한 객체  \n",
    "변수에는 식별자가 대입됨  \n",
    "참조 개수는 얼마나 많은 곳에서 객체를 참조하는지 알려주는 정수이다"
   ]
  },
  {
   "cell_type": "markdown",
   "metadata": {},
   "source": [
    "## 바인딩\n",
    "바인딩은 속성과 객체 또는 기호와 연산을 연관시키는 행위  \n",
    "파이썬은 실행 시간에 바인딩 발생 > 동적 바인딩  \n",
    "변수는 대상의 참조를 저장하므로 실행 중에 대상이 바뀌면 의미도 바뀜"
   ]
  },
  {
   "cell_type": "code",
   "execution_count": 21,
   "metadata": {},
   "outputs": [
    {
     "name": "stdout",
     "output_type": "stream",
     "text": [
      "1\n"
     ]
    }
   ],
   "source": [
    "def you(): print(\"it's you\")\n",
    "def me(): print(\"it's me\")\n",
    "    \n",
    "box = 1\n",
    "print(box)"
   ]
  },
  {
   "cell_type": "code",
   "execution_count": 22,
   "metadata": {},
   "outputs": [
    {
     "name": "stdout",
     "output_type": "stream",
     "text": [
      "it's you\n"
     ]
    }
   ],
   "source": [
    "box = you\n",
    "box()"
   ]
  },
  {
   "cell_type": "code",
   "execution_count": 23,
   "metadata": {},
   "outputs": [
    {
     "name": "stdout",
     "output_type": "stream",
     "text": [
      "it's me\n"
     ]
    }
   ],
   "source": [
    "box = me\n",
    "box()"
   ]
  },
  {
   "cell_type": "markdown",
   "metadata": {},
   "source": [
    "## 존속 시간\n",
    "존속 시간은 객체를 위해 할당한 메모리 공간이 회수되기 전까지 바인딩을 유지하는 시간  \n",
    "정수, 실수 ,문자열은 리터럴 표현에 따라 미리 생성한 객체를 사용하거나 최초 사용될 때 새로운 객체 생성  \n",
    "함수가 클래스는 정의할 때 객체 생성  \n",
    "해당 객체를 참조하는 곳이 없으면 내장된 쓰레기 수집기가 유휴 시간에 객체 제거  \n",
    "키워드 del 은 참조 변수의 이름 사용을 막아 빠른 객체 소멸 유도  \n",
    "\n",
    "## 존속 시간과 참조 카운트\n",
    "sys 모듈의 getrefcount() 함수는 존속 시간을 파악할 수 있는 객체의 참조 카운트 반환  \n",
    "객체가 생성되거나 생성된 객체를 참조하는 곳이 생길 때마다 1씩 증가  \n",
    "참조 카운트의 초기 값은 대상의 재사용 화귤(높을 수록 큰 값)에 따라 다름  \n",
    "객체를 참조하는 곳이 없어질 때마다 1씩 감소  \n",
    "참조 카운트가 0이면 쓰레기 수집기에 의해 해당 객체 제거"
   ]
  },
  {
   "cell_type": "code",
   "execution_count": 24,
   "metadata": {},
   "outputs": [
    {
     "data": {
      "text/plain": [
       "2539"
      ]
     },
     "execution_count": 24,
     "metadata": {},
     "output_type": "execute_result"
    }
   ],
   "source": [
    "from sys import getrefcount\n",
    "a = 1\n",
    "getrefcount(a)"
   ]
  },
  {
   "cell_type": "code",
   "execution_count": 25,
   "metadata": {},
   "outputs": [
    {
     "data": {
      "text/plain": [
       "2541"
      ]
     },
     "execution_count": 25,
     "metadata": {},
     "output_type": "execute_result"
    }
   ],
   "source": [
    "b = a\n",
    "getrefcount(a)"
   ]
  },
  {
   "cell_type": "code",
   "execution_count": 26,
   "metadata": {},
   "outputs": [
    {
     "data": {
      "text/plain": [
       "2539"
      ]
     },
     "execution_count": 26,
     "metadata": {},
     "output_type": "execute_result"
    }
   ],
   "source": [
    "del b\n",
    "getrefcount(a)"
   ]
  },
  {
   "cell_type": "markdown",
   "metadata": {},
   "source": [
    "## 초기 참조 카운트 값\n",
    "정수 0 ~ 256 은 파이썬 전체에서 중복 사용될 확률이 매우 높으므로 초기 참조 카운트 값이 매우 큼  \n",
    "클래스처럼 인스턴스를 통해 복제될 확률이 높은 객체는 초기 참조 카운트 값이 큼  \n",
    "리스트, 집합, 딕셔너리, 함수와 같이 재사용성이 낮은 객체는 참조 카운트가 1부터 시작\n",
    "\n",
    "## 객체의 참조 카운트 확인\n",
    "gerrefcount() 함수는 실제 참조 카운트보다 1 큰 값을 반환  \n",
    "2보다 큰 값은 기존 객체를 재사용하거나 명령어 해석기 내부에서 관리 목적으로 추가 연결된 것을 의미"
   ]
  },
  {
   "cell_type": "markdown",
   "metadata": {},
   "source": [
    "## 타입 변환\n",
    "타입 변환은 타입의 의미를 계산 과정에서 변경하는 것  \n",
    "축소 변환은 변환 후 값이 그대로 유지된느 것을 보장하지 않음  \n",
    "확정 변환은 변환 후 값이 그대로 유지된는 것을 보장  \n",
    "일반적으로 정수를 실수로 확장 변환하는 것은 안전하나 실수 표현에 따른 오차가 발생할 수 있다는 점을 유의해야 함  \n",
    "암시적 변환은 별도 구문없이 파이썬 명령어 해석기가 피연산자의 타입을 탐지해 변환  \n",
    "명시적 변환은 사용자가 필요에 따라 타입 변환 내장 함수를 적용해 변환  \n",
    "파이썬은 2가지 나눗셈 연산자를 지원하며 피연산자의 타입에 관계없이 연산자에 따라 정수 또는 실수 결과 반환"
   ]
  },
  {
   "cell_type": "code",
   "execution_count": 28,
   "metadata": {},
   "outputs": [
    {
     "data": {
      "text/plain": [
       "2.5"
      ]
     },
     "execution_count": 28,
     "metadata": {},
     "output_type": "execute_result"
    }
   ],
   "source": [
    "5/2"
   ]
  },
  {
   "cell_type": "code",
   "execution_count": 29,
   "metadata": {},
   "outputs": [
    {
     "data": {
      "text/plain": [
       "2"
      ]
     },
     "execution_count": 29,
     "metadata": {},
     "output_type": "execute_result"
    }
   ],
   "source": [
    "5//2"
   ]
  },
  {
   "cell_type": "markdown",
   "metadata": {},
   "source": [
    "## 타입 변환 내장 함수\n",
    "파이썬은 내장 함수를 통해 사용자 타입 변환 지원  \n",
    "int()는 실수나 \"123\"과 같이 정수로 변환할 수 있는 문자열을 정수로 변환  \n",
    "float()는 정수나 \"3.14\"와 같이 실수로 변환할 수 있는 문자열을 실수로 변환\n",
    "str()는 대상을 문자열로 변환\n",
    "list()는 문자열, 튜플, 딕셔너리, 집합을 리스트로 변환  \n",
    "tuple()은 문자열, 리스트, 딕셔너리, 집합을 튜플로 변환  \n",
    "dict()는 쌍으로 묶인 튜플 시퀀스를 딕셔너리로 변환  \n",
    "set()은 문자열, 리스트, 튜플, 딕셔너리를 집합으로 변환"
   ]
  },
  {
   "cell_type": "markdown",
   "metadata": {},
   "source": [
    "### 정수 타입 변환\n",
    "내장 함수 int()는 정수로 변환할 수 있는 대상을 정수로 변환 > 실수, 문자열  \n",
    "실수는 소수점을 제거하는 축소 변환  \n",
    "문자열은 '0'~'9' 사이 문자열로만 구성된 대상만을 변환"
   ]
  },
  {
   "cell_type": "code",
   "execution_count": 30,
   "metadata": {},
   "outputs": [
    {
     "data": {
      "text/plain": [
       "1"
      ]
     },
     "execution_count": 30,
     "metadata": {},
     "output_type": "execute_result"
    }
   ],
   "source": [
    "int(\"123\")\n",
    "int(1.23)"
   ]
  },
  {
   "cell_type": "markdown",
   "metadata": {},
   "source": [
    "### 실수 타입 변환\n",
    "내장 함순 float()는 실수로 변환할 수 있는 대상을 실수로 변환 > 정수, 문자열  \n",
    "정수와 실수로 변환 가능한 문자열은 확장 변환에 의해 소수점 0 추가  \n",
    "round()는 반올림할 자리의 숫자가 0 ~ 4 이면 버리고 6 ~ 9 이면 올림. 5는 앞자리가 짝수면 버리고 홀수로 올림  \n",
    "math 모듈의 floor() 함수는 대상보다 크지 않은 가장 큰 값으로 변환, ceil() 은 대상보다 작지 않은 가장 작은 값으로 변환"
   ]
  },
  {
   "cell_type": "code",
   "execution_count": 32,
   "metadata": {},
   "outputs": [
    {
     "data": {
      "text/plain": [
       "1"
      ]
     },
     "execution_count": 32,
     "metadata": {},
     "output_type": "execute_result"
    }
   ],
   "source": [
    "from math import floor, ceil\n",
    "round(1.5)\n",
    "round(2.5)\n",
    "floor(1.75)\n",
    "ceil(0.17)"
   ]
  },
  {
   "cell_type": "markdown",
   "metadata": {},
   "source": [
    "### 문자열 타입 변환\n",
    "모든 객체에는 문자열을 반환하는 메소드가 구현되어 있는데 내장 함수 str()은 이를 호출  \n",
    "내장 함수 chr()과 ord()는 코드 값에 대한 문자를 반환하거나 역으로 문자에 대한 코드 값 반환"
   ]
  },
  {
   "cell_type": "code",
   "execution_count": 33,
   "metadata": {},
   "outputs": [
    {
     "data": {
      "text/plain": [
       "'1234'"
      ]
     },
     "execution_count": 33,
     "metadata": {},
     "output_type": "execute_result"
    }
   ],
   "source": [
    "str(1234)"
   ]
  },
  {
   "cell_type": "code",
   "execution_count": 34,
   "metadata": {},
   "outputs": [
    {
     "data": {
      "text/plain": [
       "'(1, 2, 3)'"
      ]
     },
     "execution_count": 34,
     "metadata": {},
     "output_type": "execute_result"
    }
   ],
   "source": [
    "str((1, 2, 3))"
   ]
  },
  {
   "cell_type": "code",
   "execution_count": 35,
   "metadata": {},
   "outputs": [
    {
     "data": {
      "text/plain": [
       "'{1: 2, 3: 4, 5: 6}'"
      ]
     },
     "execution_count": 35,
     "metadata": {},
     "output_type": "execute_result"
    }
   ],
   "source": [
    "str({1:2, 3:4, 5:6})"
   ]
  },
  {
   "cell_type": "code",
   "execution_count": 36,
   "metadata": {},
   "outputs": [
    {
     "data": {
      "text/plain": [
       "'한'"
      ]
     },
     "execution_count": 36,
     "metadata": {},
     "output_type": "execute_result"
    }
   ],
   "source": [
    "chr(0xD55C)"
   ]
  },
  {
   "cell_type": "code",
   "execution_count": 37,
   "metadata": {},
   "outputs": [
    {
     "data": {
      "text/plain": [
       "54620"
      ]
     },
     "execution_count": 37,
     "metadata": {},
     "output_type": "execute_result"
    }
   ],
   "source": [
    "ord(\"한\")"
   ]
  },
  {
   "cell_type": "markdown",
   "metadata": {},
   "source": [
    "### 바이트 문자열 타입 변환\n",
    "문자열 객체의 encode() 메소드는 문자열을 바이트 문자열로 변환  \n",
    "바이트 문자열 객체의 decode() 메소드는 바이트 문자열을 문자열로 변환"
   ]
  },
  {
   "cell_type": "code",
   "execution_count": 39,
   "metadata": {},
   "outputs": [],
   "source": [
    "a = \"\"\"\n",
    "안녕하세요!\n",
    "\"\"\"\n",
    "b = a.encode()\n",
    "c = b\"Python\"\n",
    "d = c.decode()\n",
    "e = bytearray(c) #바이트문자열을 바이트 배열로 변경 , 수정 가능\n",
    "e[0] = ord('p')"
   ]
  },
  {
   "cell_type": "code",
   "execution_count": 44,
   "metadata": {},
   "outputs": [
    {
     "data": {
      "text/plain": [
       "'\\n안녕하세요!\\n'"
      ]
     },
     "execution_count": 44,
     "metadata": {},
     "output_type": "execute_result"
    }
   ],
   "source": [
    "a"
   ]
  },
  {
   "cell_type": "code",
   "execution_count": 41,
   "metadata": {
    "scrolled": true
   },
   "outputs": [
    {
     "data": {
      "text/plain": [
       "b'\\n\\xec\\x95\\x88\\xeb\\x85\\x95\\xed\\x95\\x98\\xec\\x84\\xb8\\xec\\x9a\\x94!\\n'"
      ]
     },
     "execution_count": 41,
     "metadata": {},
     "output_type": "execute_result"
    }
   ],
   "source": [
    "b #utf기반의 시퀀스"
   ]
  },
  {
   "cell_type": "code",
   "execution_count": 42,
   "metadata": {},
   "outputs": [
    {
     "data": {
      "text/plain": [
       "b'Python'"
      ]
     },
     "execution_count": 42,
     "metadata": {},
     "output_type": "execute_result"
    }
   ],
   "source": [
    "c"
   ]
  },
  {
   "cell_type": "code",
   "execution_count": 43,
   "metadata": {},
   "outputs": [
    {
     "data": {
      "text/plain": [
       "'Python'"
      ]
     },
     "execution_count": 43,
     "metadata": {},
     "output_type": "execute_result"
    }
   ],
   "source": [
    "d"
   ]
  },
  {
   "cell_type": "code",
   "execution_count": 40,
   "metadata": {},
   "outputs": [
    {
     "data": {
      "text/plain": [
       "bytearray(b'python')"
      ]
     },
     "execution_count": 40,
     "metadata": {},
     "output_type": "execute_result"
    }
   ],
   "source": [
    "e"
   ]
  },
  {
   "cell_type": "markdown",
   "metadata": {},
   "source": [
    "## 타입변환\n",
    "내장 함수 list()는 문자열, 튜플, 딕셔너리, 집합을 리스트로 변환  \n",
    "문자열은 각 문자를 분리해 리스트 요소로 변환  \n",
    "딕셔너리는 키만 변환"
   ]
  },
  {
   "cell_type": "code",
   "execution_count": 45,
   "metadata": {},
   "outputs": [],
   "source": [
    "a = list(\"Python\")\n",
    "b = list((1, (2, (3, None))))\n",
    "c = list({1:2, 3:4, 5:6})\n",
    "d = list({3, 1, 2, 1, 3})\n",
    "e = list()"
   ]
  },
  {
   "cell_type": "code",
   "execution_count": 46,
   "metadata": {},
   "outputs": [
    {
     "data": {
      "text/plain": [
       "['P', 'y', 't', 'h', 'o', 'n']"
      ]
     },
     "execution_count": 46,
     "metadata": {},
     "output_type": "execute_result"
    }
   ],
   "source": [
    "a"
   ]
  },
  {
   "cell_type": "code",
   "execution_count": 47,
   "metadata": {},
   "outputs": [
    {
     "data": {
      "text/plain": [
       "[1, (2, (3, None))]"
      ]
     },
     "execution_count": 47,
     "metadata": {},
     "output_type": "execute_result"
    }
   ],
   "source": [
    "b"
   ]
  },
  {
   "cell_type": "code",
   "execution_count": 48,
   "metadata": {},
   "outputs": [
    {
     "data": {
      "text/plain": [
       "[1, 3, 5]"
      ]
     },
     "execution_count": 48,
     "metadata": {},
     "output_type": "execute_result"
    }
   ],
   "source": [
    "c"
   ]
  },
  {
   "cell_type": "code",
   "execution_count": 49,
   "metadata": {},
   "outputs": [
    {
     "data": {
      "text/plain": [
       "[1, 2, 3]"
      ]
     },
     "execution_count": 49,
     "metadata": {},
     "output_type": "execute_result"
    }
   ],
   "source": [
    "d"
   ]
  },
  {
   "cell_type": "code",
   "execution_count": 50,
   "metadata": {},
   "outputs": [
    {
     "data": {
      "text/plain": [
       "[]"
      ]
     },
     "execution_count": 50,
     "metadata": {},
     "output_type": "execute_result"
    }
   ],
   "source": [
    "e"
   ]
  },
  {
   "cell_type": "markdown",
   "metadata": {},
   "source": [
    "### 튜플 타입 변환\n",
    "내장 함수 tuple()은 문자열, 리스트, 딕셔너리, 집합을 튜플로 변환  \n",
    "문자열은 각 문자를 분리해 튜플 요소로 변환  \n",
    "딕셔너리는 키만 변환"
   ]
  },
  {
   "cell_type": "code",
   "execution_count": 51,
   "metadata": {},
   "outputs": [
    {
     "data": {
      "text/plain": [
       "('H', 'e', 'l', 'l', 'o', ' ', 'W', 'o', 'r', 'l', 'd')"
      ]
     },
     "execution_count": 51,
     "metadata": {},
     "output_type": "execute_result"
    }
   ],
   "source": [
    "tuple(\"Hello World\") # 각 요소가 튜플의 요소가 됨"
   ]
  },
  {
   "cell_type": "code",
   "execution_count": 52,
   "metadata": {},
   "outputs": [
    {
     "data": {
      "text/plain": [
       "(1, [2, [3, None]])"
      ]
     },
     "execution_count": 52,
     "metadata": {},
     "output_type": "execute_result"
    }
   ],
   "source": [
    "tuple([1, [2, [3, None]]])"
   ]
  },
  {
   "cell_type": "code",
   "execution_count": 53,
   "metadata": {},
   "outputs": [
    {
     "data": {
      "text/plain": [
       "(1, 3, 5)"
      ]
     },
     "execution_count": 53,
     "metadata": {},
     "output_type": "execute_result"
    }
   ],
   "source": [
    "tuple({1:2, 3:4, 5:6}) # 키값만 튜플로"
   ]
  },
  {
   "cell_type": "code",
   "execution_count": 56,
   "metadata": {},
   "outputs": [
    {
     "data": {
      "text/plain": [
       "(1, 2, 3)"
      ]
     },
     "execution_count": 56,
     "metadata": {},
     "output_type": "execute_result"
    }
   ],
   "source": [
    "tuple({1, 2, 3, 3, 2, 1}) #중복을 허용하지 않는 집합"
   ]
  },
  {
   "cell_type": "markdown",
   "metadata": {},
   "source": [
    "### 딕셔너리 타입 변환\n",
    "내장 함수 dict()는 쌍으로 묶인 튜플 시퀀스를 딕셔너리로 변환  \n",
    "기존 객체들을 으로 묶어서 변환할 때, 내장함수 zip() 사용 > 튜플  \n",
    "내장함수 zip()은 2개의 시퀀스에서 차례로 요소를 하나씩 가져와 튜플 시퀀스로 변환"
   ]
  },
  {
   "cell_type": "code",
   "execution_count": 57,
   "metadata": {},
   "outputs": [
    {
     "data": {
      "text/plain": [
       "{1: 2, 3: 4, 5: 6}"
      ]
     },
     "execution_count": 57,
     "metadata": {},
     "output_type": "execute_result"
    }
   ],
   "source": [
    "dict(((1, 2), (3, 4), (5, 6)))"
   ]
  },
  {
   "cell_type": "code",
   "execution_count": 58,
   "metadata": {},
   "outputs": [
    {
     "data": {
      "text/plain": [
       "<zip at 0x2036a5a8f48>"
      ]
     },
     "execution_count": 58,
     "metadata": {},
     "output_type": "execute_result"
    }
   ],
   "source": [
    "zip([1, 3, 4], [2, 4, 6])"
   ]
  },
  {
   "cell_type": "code",
   "execution_count": 59,
   "metadata": {},
   "outputs": [
    {
     "data": {
      "text/plain": [
       "{1: 2, 3: 4, 4: 6}"
      ]
     },
     "execution_count": 59,
     "metadata": {},
     "output_type": "execute_result"
    }
   ],
   "source": [
    "dict(zip([1, 3, 4], [2, 4, 6]))"
   ]
  },
  {
   "cell_type": "code",
   "execution_count": 60,
   "metadata": {},
   "outputs": [
    {
     "data": {
      "text/plain": [
       "<zip at 0x2036a5aa448>"
      ]
     },
     "execution_count": 60,
     "metadata": {},
     "output_type": "execute_result"
    }
   ],
   "source": [
    "zip(\"python\", [[1, 2], [3, 4], [5, 6]])"
   ]
  },
  {
   "cell_type": "code",
   "execution_count": 61,
   "metadata": {},
   "outputs": [
    {
     "data": {
      "text/plain": [
       "{'p': [1, 2], 'y': [3, 4], 't': [5, 6]}"
      ]
     },
     "execution_count": 61,
     "metadata": {},
     "output_type": "execute_result"
    }
   ],
   "source": [
    "dict(zip(\"python\", [[1, 2], [3, 4], [5, 6]]))"
   ]
  },
  {
   "cell_type": "markdown",
   "metadata": {},
   "source": [
    "### 집합 타입 변환\n",
    "내장 함수 set()은 문자열, 리스트, 튜플, 딕셔너리를 집합으로 변환  \n",
    "집합의 특성상 변환 대상에 포함된 중복 요소 제거  \n",
    "참조를 포함하거나 연결 구조로 표횐된 리스트와 튜플은 변환 안 됨  \n",
    "문자열은 각 문자를 분리해 집합 요소로 변환  \n",
    "딕셔너리는 키만 변환"
   ]
  },
  {
   "cell_type": "code",
   "execution_count": 63,
   "metadata": {},
   "outputs": [
    {
     "data": {
      "text/plain": [
       "{1, 2, 3, 4}"
      ]
     },
     "execution_count": 63,
     "metadata": {},
     "output_type": "execute_result"
    }
   ],
   "source": [
    "set([1, 1, 2, 3, 4, 1])"
   ]
  },
  {
   "cell_type": "code",
   "execution_count": 64,
   "metadata": {},
   "outputs": [
    {
     "data": {
      "text/plain": [
       "{'e', 'h', 'l', 'o'}"
      ]
     },
     "execution_count": 64,
     "metadata": {},
     "output_type": "execute_result"
    }
   ],
   "source": [
    "set(\"hello\")"
   ]
  },
  {
   "cell_type": "code",
   "execution_count": 66,
   "metadata": {},
   "outputs": [
    {
     "ename": "TypeError",
     "evalue": "'type' object is not subscriptable",
     "output_type": "error",
     "traceback": [
      "\u001b[1;31m---------------------------------------------------------------------------\u001b[0m",
      "\u001b[1;31mTypeError\u001b[0m                                 Traceback (most recent call last)",
      "\u001b[1;32m<ipython-input-66-012c1a30758b>\u001b[0m in \u001b[0;36m<module>\u001b[1;34m\u001b[0m\n\u001b[1;32m----> 1\u001b[1;33m \u001b[0mset\u001b[0m\u001b[1;33m[\u001b[0m\u001b[1;33m[\u001b[0m\u001b[1;36m1\u001b[0m\u001b[1;33m,\u001b[0m \u001b[1;36m2\u001b[0m\u001b[1;33m]\u001b[0m\u001b[1;33m,\u001b[0m \u001b[1;33m[\u001b[0m\u001b[1;36m2\u001b[0m\u001b[1;33m,\u001b[0m \u001b[1;36m3\u001b[0m\u001b[1;33m]\u001b[0m\u001b[1;33m]\u001b[0m\u001b[1;33m\u001b[0m\u001b[1;33m\u001b[0m\u001b[0m\n\u001b[0m",
      "\u001b[1;31mTypeError\u001b[0m: 'type' object is not subscriptable"
     ]
    }
   ],
   "source": [
    "set[[1, 2], [2, 3]] #참조를 포함하면 오류 발생"
   ]
  },
  {
   "cell_type": "code",
   "execution_count": 67,
   "metadata": {},
   "outputs": [
    {
     "data": {
      "text/plain": [
       "{1, 2, 3}"
      ]
     },
     "execution_count": 67,
     "metadata": {},
     "output_type": "execute_result"
    }
   ],
   "source": [
    "set({1:\"apple\", 2:\"banana\", 3:\"grape\"})"
   ]
  },
  {
   "cell_type": "code",
   "execution_count": null,
   "metadata": {},
   "outputs": [],
   "source": []
  }
 ],
 "metadata": {
  "kernelspec": {
   "display_name": "Python 3",
   "language": "python",
   "name": "python3"
  },
  "language_info": {
   "codemirror_mode": {
    "name": "ipython",
    "version": 3
   },
   "file_extension": ".py",
   "mimetype": "text/x-python",
   "name": "python",
   "nbconvert_exporter": "python",
   "pygments_lexer": "ipython3",
   "version": "3.6.8"
  }
 },
 "nbformat": 4,
 "nbformat_minor": 2
}
