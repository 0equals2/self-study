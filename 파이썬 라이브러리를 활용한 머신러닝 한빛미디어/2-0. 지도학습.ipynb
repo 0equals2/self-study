{
 "cells": [
  {
   "cell_type": "code",
   "execution_count": 11,
   "metadata": {
    "ExecuteTime": {
     "end_time": "2019-09-23T10:57:50.520442Z",
     "start_time": "2019-09-23T10:57:39.631708Z"
    }
   },
   "outputs": [
    {
     "name": "stderr",
     "output_type": "stream",
     "text": [
      "C:\\ProgramData\\Anaconda3\\lib\\site-packages\\sklearn\\externals\\six.py:31: DeprecationWarning: The module is deprecated in version 0.21 and will be removed in version 0.23 since we've dropped support for Python 2.7. Please rely on the official version of six (https://pypi.org/project/six/).\n",
      "  \"(https://pypi.org/project/six/).\", DeprecationWarning)\n",
      "C:\\ProgramData\\Anaconda3\\lib\\site-packages\\sklearn\\externals\\joblib\\__init__.py:15: DeprecationWarning: sklearn.externals.joblib is deprecated in 0.21 and will be removed in 0.23. Please import this functionality directly from joblib, which can be installed with: pip install joblib. If this warning is raised when loading pickled models, you may need to re-serialize those models with scikit-learn 0.21+.\n",
      "  warnings.warn(msg, category=DeprecationWarning)\n"
     ]
    }
   ],
   "source": [
    "from IPython.display import Image\n",
    "from IPython.core.display import HTML\n",
    "import mglearn\n",
    "from IPython.display import display\n",
    "import numpy as np\n",
    "import matplotlib.pyplot as plt\n",
    "import pandas as pd"
   ]
  },
  {
   "cell_type": "markdown",
   "metadata": {
    "toc": true
   },
   "source": [
    "<h1>Table of Contents<span class=\"tocSkip\"></span></h1>\n",
    "<div class=\"toc\"><ul class=\"toc-item\"><li><span><a href=\"#지도학습\" data-toc-modified-id=\"지도학습-1\"><span class=\"toc-item-num\">1&nbsp;&nbsp;</span>지도학습</a></span><ul class=\"toc-item\"><li><span><a href=\"#분류와-회귀\" data-toc-modified-id=\"분류와-회귀-1.1\"><span class=\"toc-item-num\">1.1&nbsp;&nbsp;</span>분류와 회귀</a></span></li><li><span><a href=\"#일반화,-관대적합,-과소적합\" data-toc-modified-id=\"일반화,-관대적합,-과소적합-1.2\"><span class=\"toc-item-num\">1.2&nbsp;&nbsp;</span>일반화, 관대적합, 과소적합</a></span><ul class=\"toc-item\"><li><span><a href=\"#모델-복잡도와-데이터셋-크기의-관계\" data-toc-modified-id=\"모델-복잡도와-데이터셋-크기의-관계-1.2.1\"><span class=\"toc-item-num\">1.2.1&nbsp;&nbsp;</span>모델 복잡도와 데이터셋 크기의 관계</a></span></li></ul></li><li><span><a href=\"#지도학습-알고리즘\" data-toc-modified-id=\"지도학습-알고리즘-1.3\"><span class=\"toc-item-num\">1.3&nbsp;&nbsp;</span>지도학습 알고리즘</a></span><ul class=\"toc-item\"><li><span><a href=\"#데이터셋\" data-toc-modified-id=\"데이터셋-1.3.1\"><span class=\"toc-item-num\">1.3.1&nbsp;&nbsp;</span>데이터셋</a></span></li></ul></li></ul></li></ul></div>"
   ]
  },
  {
   "cell_type": "markdown",
   "metadata": {},
   "source": [
    "# 지도학습\n",
    "지도학습은 머신러닝 방법 중 하나로, 붓꽃의 실제 측정값을 이용해 품종을 구분하는 지도 학습 애플리케이션을 하나 보았다. \n",
    "\n",
    "지도학습은 입력과 출력 샘플 데이터가 있고, 주어진 입력으로부터 출력을 예측하고자 할 때 사용한다! 입력/출력 샘플 데이터, 즉 훈련 세트로부터 머신러닝 모델을 만든다. 목표는 이전에 본 적 없는 새로운 데이터에 대해 정확한 출력을 예측하는 것이다. 지도 학습은 종종 훈련 데이터를 만드는 데 사람의 노력이 필요하지만 자동화하면 힘들고 어려운 작업의 속도를 높일 수 있다.\n",
    "\n",
    "## 분류와 회귀\n",
    "지도학습에는 분류classification 와 회귀regression 가 있다.\n",
    "\n",
    "미리 정의된, 가능성 있는 여러 **클래스 레이블** 중 하나를 예측하는 것이 분류! 두 개의 클래스로 분류하는 **이진 분류binary classification**와 셋 이상의 클래스로 분류하는 **다중 분류multiclass classification**로 나뉜다. 이진 분류는 질문의 답이 예/아니오만 나올 수 있도록 하는 것으로 생각해 볼 수 있다. 예) 이메일의 스팸인가요?\n",
    "\n",
    "    ! 이진 분류에서 한 클래스를 양성 클래스, 다른 하나를 음성 클래스라고도 한다. 양성 클래스라고 해서 좋은 값이나 장점을 뜻하는 것이 아니다. 어떤 것을 양성이라 할지는 보통 주관적인 문제이며 분야에 따라 달라진다\n",
    "    \n",
    "붓꽃의 예는 다중 분류 문제, 다른 예는 웹사이트의 글로부터 어떤 언어의 웹 사이트인지를 예측하는 것이 있다. 여기서 클래스는 미리 만들어놓은 언어 목록이 된다.\n",
    "\n",
    "회귀는 연속적인 숫자, 또는 프로그래밍 용어로 말하면 부동소수점수 (수학 용어로는 실수)를 예측하는 것이다. 어떤 사람의 교육 수준, 나이, 주거지를 바탕으로 연간 소득을 예측한느 것이 회귀 문제의 한 예시. 소득을 예측할 때 예측된 값은 어떤 양으로서, 일정 범위 안의 어떤 숫자도 될 수 있다. 옥수수 농장에서 전년도 수확량과 날씨, 고용 인원수 등으로 올해 수확량을 예측하는 예도 회귀 문제이다. 수확량 역시 어떤 숫자든 될 수 있다.\n",
    "\n",
    "출력 값에 연속성이 있는지 알아보면 회귀와 분류 문제를 쉽게 구분 가능하다. 예상 출력 값 사이에 연속성이 있다면 회귀 문제이다. 연소득 예측을 하는 경우, 출력에 확실하게 연속성이 있다.\n",
    "\n",
    "반면 웹사이트가 어떤 언어로 되어 있는지 인식하는 작업에는 어떤 정도라는 것이 없다.\n",
    "즉 웹사이트 언어는 한 언어가 아니면 다른 언어이다. 언어들 사이에 연속성이 없고, 영어와 프랑스어 사이에 다른 언어가 존재하지 않는다."
   ]
  },
  {
   "cell_type": "markdown",
   "metadata": {},
   "source": [
    "## 일반화, 관대적합, 과소적합\n",
    "지도 학습에서 훈련 데이터로 학습한 모델이 훈련 데이터와 특성이 같다면 처음 보는 새로운 데이터가 주어져도 정확히 예측할 것이라 기대한다. 모델이 처음 보는 데이터에 대해 정확하게 예측할 수 있으면 이를 훈련 세트에서 테스트 세트로 일반화되었다고 한다. 그래서 모델을 만들 때는 가능한 정확하게 일반화되도록 해야 한다.\n",
    "\n",
    "보통 훈련 세트에 대해 정확히 예측하도록 모델을 구축한다. 훈련 세트와 테스트 세트가 매우 비슷하다면 그 모델이 테스트 세트에도 정확히 예측하리라 기대할 수 있다. 항상 그런 것은 아니다. 예를 들어, 아주 복잡한 모델을 만든다면 훈련 세트에만 정확한 모델이 되어버린다."
   ]
  },
  {
   "cell_type": "markdown",
   "metadata": {},
   "source": [
    "예) 초보 데이터 과학자가 요트를 구매한 고객과 구매 의사가 없는 고객의 데이터를 이용해 누가 요트를 살지 예측하려 한다. 그래서 관심없는 고객을 배제하고 실제 구매할 것 같은 고객에게만 홍보 메일을 보내는 것이 목표이다."
   ]
  },
  {
   "cell_type": "markdown",
   "metadata": {},
   "source": [
    "초보 데이터 과학자가 데이터에서 \"45세 이상이고 자녀가 셋 미만이며 이혼하지 않은 고객은 요트를 살 것이다\"라는 규칙을 발견했다. 이 규칙의 정확도에 대해 100%라고 생각할 것이다. 그런데 이 데이터셋에서 요트를 사려고 하는 사람을 완벽하게 묘사하는 규칙은 많다. 이렇게 데이터를 만족하는 규칙은 많이 만들 수 있지만, 우리가 예측하려는 대상은 이 데이터 셋이 아니다. 이 고객들에 대한 답은 이미 알고 있고, 알고 싶은 것은 새로운 고객이 요트를 구매할 것인가 이다. 그러므로 새로운 고객에도 잘 작동하는 규칙을 찾아야 하며 훈련 세트에서 100% 정확도를 달성하는 것은 크게 의미가 없다. "
   ]
  },
  {
   "cell_type": "markdown",
   "metadata": {},
   "source": [
    "알고리즘이 새로운 데이터도 잘 처리하는지 측정하는 방법은 테스트 세트로 평가해보는 것 밖에 없다. 그러나 직관적으로 보더라도 간단한 모델이 새로운 데이터에 더 잘 일반화될 것이라고 예상할 수 있다. 만약 \"50세 이상인 사람은 보트를 사려한다\"라는 규칙을 만들었다면 이 규칙은 모든 고객 데이터를 만족시킬 뿐 아니라, 나이 외에 자녀 수나 혼인 상태를 추가한 규칙보다 더 신뢰할 수 있다. 그렇기 때문에 우리는 언제나 가장 간단한 모델을 찾으려고 한다. 초보 데이터 과학자가 했던 것 처럼 가진 정보를 모두 사용해서 너무 복잡한 모델을 만드는 것은 **과대적합overfitting** 이라고 한다. 과대적합 모델이 훈련 세트의 각 샘플에 너무 가깝게 맞춰져서 새로운 데이터에 일반화되기 어려울 때 일어난다. 반대로 모델이 너무 간단하면, \"집이 있는 사람은 모두 요트를 사려고 한다\"와 같은 경우에는 데이터의 면면과 다양성을 잡아내지 못할 것이고 훈련 세트에도 잘 맞지 않을 것이다. 너무 간단한 모델이 선택되는 것을 **과소적합underfitting** 이라고 한다.\n",
    "\n",
    "모델을 복잡하게 할수록 훈련 데이터에 대해서는 더 정확히 예측할 수 있다. 그러나 너무 복잡해지면 훈련 세트의 곽 데이터 포인트에 너무 민감해져 새로운 데이터에 잘 일반화되지 못 한다. 따라서 일반화 성능이 최대가 되는 최대점에 있는 모델을 찾아야 한다."
   ]
  },
  {
   "cell_type": "code",
   "execution_count": 1,
   "metadata": {
    "ExecuteTime": {
     "end_time": "2019-09-22T04:59:13.415854Z",
     "start_time": "2019-09-22T04:59:13.354855Z"
    }
   },
   "outputs": [
    {
     "data": {
      "text/html": [
       "<img src=\"https://d3i71xaburhd42.cloudfront.net/92f20a1e21a20ab24ce7e335b6f1844b92515864/43-Figure2-1-1.png\"/>"
      ],
      "text/plain": [
       "<IPython.core.display.Image object>"
      ]
     },
     "execution_count": 1,
     "metadata": {},
     "output_type": "execute_result"
    }
   ],
   "source": [
    "Image(url= \"https://d3i71xaburhd42.cloudfront.net/92f20a1e21a20ab24ce7e335b6f1844b92515864/43-Figure2-1-1.png\")\n",
    "# 이미지 출처 : 파이썬 라이브러리를 활용한 머신러닝"
   ]
  },
  {
   "cell_type": "markdown",
   "metadata": {},
   "source": [
    "### 모델 복잡도와 데이터셋 크기의 관계\n",
    "모델의 복잡도는 훈련 데이터셋에 담긴 입력 데이터의 다양성과 관련이 깊다. 데이터셋에 다양한 데이터 포인트가 많을수록 과대적합 없이 더 복잡한 모델을 만들 수 있다. 보통 데이터 포인트를 더 많이 모으는 것이 다양성을 키워주므로 큰 데이터셋은 더 복잡한 모델을 만들 수 있게 해준다. 그러나 같은 데이터 포인트를 중복하거나 매우 비슷한 데이터를 모으는 것은 도움이 되지 않는다.\n",
    "\n",
    "요트 판매 예로 들자면, 고객 데이터를 만개 모았더니 전부 45세 이상이고 자녀가 셋 미만이며 이혼하지 않는 고객은 요트를 사려고 한다라는 규칙을  만족한다면 적은 데이터를 사용할 대보다 훨씬 좋은 규칙이라고 할 수 있다.\n",
    "\n",
    "데이터를 더 많이 수집하고 적절히 더 복잡한 모델을 만들면 지도학습에서 놀라운 결과를 얻기도 한다. 이 책에서는 고정 크기의 데이터셋을 사용하는 데 집중한다. 모델을 변경하거나 조정하는 것보다 이득일 수 있으므로 실제 환경에서는 데이터를 얼마나 많이 모을지 정해야 한다."
   ]
  },
  {
   "cell_type": "markdown",
   "metadata": {},
   "source": [
    "## 지도학습 알고리즘\n",
    "다양한 머신러닝 알고리즘과 장단점을 살펴보겠다. 분류와 회귀를 모두 가지고 있는 알고리즘도 살펴보겠다."
   ]
  },
  {
   "cell_type": "markdown",
   "metadata": {},
   "source": [
    "### 데이터셋\n",
    "여러 알고리즘을 설명하기 위해 데이터셋도 여러 개 사용한다. 어떤 데이터셋은 작고 인위적으로 만든 것이고, 알고리즘의 특징을 부각하기 위해 만든 것도 있다. 실제 샘플로 만든 큰 데이터셋도 있다.\n",
    "\n",
    "두개의 특성을 가진 forge 데이터셋은 인위적으로 만든 이진 분류 데이터셋이다. 다음 코드는 이 데이터셋의 모든 데이터 포인트를 산점도로 그린다. x축은 첫 번째 특성이고 y축은 두 번째 특성이다. 모든 산점도가 그렇듯 점 하나가 각 데이터 포인트를 나타낸다. 점의 색과 모양은 데이터 포인트가 속한 클래스를 나타낸다."
   ]
  },
  {
   "cell_type": "code",
   "execution_count": 7,
   "metadata": {
    "ExecuteTime": {
     "end_time": "2019-09-23T04:50:25.191975Z",
     "start_time": "2019-09-23T04:50:24.881986Z"
    }
   },
   "outputs": [
    {
     "name": "stderr",
     "output_type": "stream",
     "text": [
      "C:\\ProgramData\\Anaconda3\\lib\\site-packages\\sklearn\\utils\\deprecation.py:85: DeprecationWarning: Function make_blobs is deprecated; Please import make_blobs directly from scikit-learn\n",
      "  warnings.warn(msg, category=DeprecationWarning)\n"
     ]
    },
    {
     "data": {
      "text/plain": [
       "(26, 2)"
      ]
     },
     "execution_count": 7,
     "metadata": {},
     "output_type": "execute_result"
    },
    {
     "data": {
      "image/png": "[encoded data removed]",
      "text/plain": [
       "<Figure size 432x288 with 1 Axes>"
      ]
     },
     "metadata": {
      "needs_background": "light"
     },
     "output_type": "display_data"
    }
   ],
   "source": [
    "X, y = mglearn.datasets.make_forge()\n",
    "#산점도 그리기\n",
    "mglearn.discrete_scatter(X[:, 0], X[:, 1], y)\n",
    "plt.legend([\"클래스 0\",\"클래스1\"], loc=4)\n",
    "plt.xlabel(\"첫 번째 특성\")\n",
    "plt.ylabel(\"두 번째 특성\")\n",
    "X.shape"
   ]
  },
  {
   "cell_type": "markdown",
   "metadata": {},
   "source": [
    "X.shape 값에서 알 수 있듯이 이 데이터셋은 데이터 포인트 26개와 특성 2개를 가진다. 회귀 알고리즘 설명에는 인위적으로 만든 wave 데이터셋을 사용하겠다. wave 데이터셋은 입력 특성 하나와 모델링할 타깃 변수(또는 응답)를 가진다. "
   ]
  },
  {
   "cell_type": "code",
   "execution_count": 8,
   "metadata": {
    "ExecuteTime": {
     "end_time": "2019-09-23T04:53:03.792619Z",
     "start_time": "2019-09-23T04:53:03.615625Z"
    }
   },
   "outputs": [
    {
     "data": {
      "text/plain": [
       "Text(0, 0.5, '타깃')"
      ]
     },
     "execution_count": 8,
     "metadata": {},
     "output_type": "execute_result"
    },
    {
     "data": {
      "image/png": "[encoded data removed]",
      "text/plain": [
       "<Figure size 432x288 with 1 Axes>"
      ]
     },
     "metadata": {
      "needs_background": "light"
     },
     "output_type": "display_data"
    }
   ],
   "source": [
    "X, y = mglearn.datasets.make_wave(n_samples=40)\n",
    "plt.plot(X, y, 'o')\n",
    "plt.ylim(-3, 3)\n",
    "plt.xlabel(\"특성\")\n",
    "plt.ylabel(\"타깃\")"
   ]
  },
  {
   "cell_type": "markdown",
   "metadata": {},
   "source": [
    "2차원으로 쉽게 시각화하기 위해 간단한 저차원 데이터 셋을 사용한다. 특성이 적은 데이터셋(저차원 데이터셋)에서 얻은 직관이 특성이 많은 데이터 셋(고차원 데이터 셋)에서 그대로 유지되지 않을 수 있다. 하지만 이런 사실을 유념해둔다면 알고리즘을 배울 때 저차원 데이터셋을 사용하는 것이 매우 좋다\n",
    "\n",
    "인워적인 소규모 데이터셋 외에 사이킷런에 들어있는 실제 데이터셋도 사용해 보겠다. 하나는 유방암 종양의 임상 데이터를 기록해 놓은 위스콘신 유방암 Wisconsin Breast Cancer 데이터셋이다(줄여서 cancer). 각 종양은 양성benign(해롭지 않은 종양)과 악성malignant(암 종양)으로 레이블되어 있고, 조직 데이터를 기반으로 종양이 악성인지를 예측할 수 있도록 학습하는 것이 과제이다.\n",
    "\n",
    "이 데이터는 사이킷런에 있는 load_breast_cancer 함수로 불러올 수 있다."
   ]
  },
  {
   "cell_type": "code",
   "execution_count": 2,
   "metadata": {
    "ExecuteTime": {
     "end_time": "2019-09-23T10:45:05.180129Z",
     "start_time": "2019-09-23T10:45:05.159129Z"
    }
   },
   "outputs": [
    {
     "name": "stdout",
     "output_type": "stream",
     "text": [
      "dict_keys(['data', 'target', 'target_names', 'DESCR', 'feature_names', 'filename'])\n"
     ]
    }
   ],
   "source": [
    "from sklearn.datasets import load_breast_cancer\n",
    "cancer = load_breast_cancer()\n",
    "print(cancer.keys())"
   ]
  },
  {
   "cell_type": "code",
   "execution_count": 3,
   "metadata": {
    "ExecuteTime": {
     "end_time": "2019-09-23T10:45:29.793445Z",
     "start_time": "2019-09-23T10:45:29.781453Z"
    }
   },
   "outputs": [
    {
     "data": {
      "text/plain": [
       "(569, 30)"
      ]
     },
     "execution_count": 3,
     "metadata": {},
     "output_type": "execute_result"
    }
   ],
   "source": [
    "cancer.data.shape"
   ]
  },
  {
   "cell_type": "markdown",
   "metadata": {},
   "source": [
    "데이터셋은 569개의 데이터 포인트를 가지고 있고, 특성은 30개다."
   ]
  },
  {
   "cell_type": "code",
   "execution_count": 5,
   "metadata": {
    "ExecuteTime": {
     "end_time": "2019-09-23T10:47:11.739853Z",
     "start_time": "2019-09-23T10:47:11.733854Z"
    }
   },
   "outputs": [
    {
     "name": "stdout",
     "output_type": "stream",
     "text": [
      "클래스별 샘플 개수:\n",
      "{'malignant': 212, 'benign': 357}\n"
     ]
    }
   ],
   "source": [
    "print(\"클래스별 샘플 개수:\\n{}\".format(\n",
    "    {n: v for n, v in zip(cancer.target_names, np.bincount(cancer.target))}))"
   ]
  },
  {
   "cell_type": "markdown",
   "metadata": {},
   "source": [
    "596개 데이터 포인트 중 212개는 악성이고 357개는 양성이다."
   ]
  },
  {
   "cell_type": "code",
   "execution_count": 6,
   "metadata": {
    "ExecuteTime": {
     "end_time": "2019-09-23T10:48:17.236038Z",
     "start_time": "2019-09-23T10:48:17.230038Z"
    }
   },
   "outputs": [
    {
     "data": {
      "text/plain": [
       "array(['mean radius', 'mean texture', 'mean perimeter', 'mean area',\n",
       "       'mean smoothness', 'mean compactness', 'mean concavity',\n",
       "       'mean concave points', 'mean symmetry', 'mean fractal dimension',\n",
       "       'radius error', 'texture error', 'perimeter error', 'area error',\n",
       "       'smoothness error', 'compactness error', 'concavity error',\n",
       "       'concave points error', 'symmetry error',\n",
       "       'fractal dimension error', 'worst radius', 'worst texture',\n",
       "       'worst perimeter', 'worst area', 'worst smoothness',\n",
       "       'worst compactness', 'worst concavity', 'worst concave points',\n",
       "       'worst symmetry', 'worst fractal dimension'], dtype='<U23')"
      ]
     },
     "execution_count": 6,
     "metadata": {},
     "output_type": "execute_result"
    }
   ],
   "source": [
    "cancer.feature_names"
   ]
  },
  {
   "cell_type": "markdown",
   "metadata": {},
   "source": [
    "feature_names 속성을 확인하면 각 특성의 의미를 알 수 있다\n",
    "\n",
    "더 자세한 정보는 cancer.DESCR 에서 확인가능하다."
   ]
  },
  {
   "cell_type": "code",
   "execution_count": 8,
   "metadata": {
    "ExecuteTime": {
     "end_time": "2019-09-23T10:52:01.506589Z",
     "start_time": "2019-09-23T10:52:01.502589Z"
    }
   },
   "outputs": [
    {
     "name": "stdout",
     "output_type": "stream",
     "text": [
      ".. _breast_cancer_dataset:\n",
      "\n",
      "Breast cancer wisconsin (diagnostic) dataset\n",
      "--------------------------------------------\n",
      "\n",
      "**Data Set Characteristics:**\n",
      "\n",
      "    :Number of Instances: 569\n",
      "\n",
      "    :Number of Attributes: 30 numeric, predictive attributes and the class\n",
      "\n",
      "    :Attribute Information:\n",
      "        - radius (mean of distances from center to points on the perimeter)\n",
      "        - texture (standard deviation of gray-scale values)\n",
      "        - perimeter\n",
      "        - area\n",
      "        - smoothness (local variation in radius lengths)\n",
      "        - compactness (perimeter^2 / area - 1.0)\n",
      "        - concavity (severity of concave portions of the contour)\n",
      "        - concave points (number of concave portions of the contour)\n",
      "        - symmetry \n",
      "        - fractal dimension (\"coastline approximation\" - 1)\n",
      "\n",
      "        The mean, standard error, and \"worst\" or largest (mean of the three\n",
      "        largest values) of these features were computed for each image,\n",
      "        resulting in 30 features.  For instance, field 3 is Mean Radius, field\n",
      "        13 is Radius SE, field 23 is Worst Radius.\n",
      "\n",
      "        - class:\n",
      "                - WDBC-Malignant\n",
      "                - WDBC-Benign\n",
      "\n",
      "    :Summary Statistics:\n",
      "\n",
      "    ===================================== ====== ======\n",
      "                                           Min    Max\n",
      "    ===================================== ====== ======\n",
      "    radius (mean):                        6.981  28.11\n",
      "    texture (mean):                       9.71   39.28\n",
      "    perimeter (mean):                     43.79  188.5\n",
      "    area (mean):                          143.5  2501.0\n",
      "    smoothness (mean):                    0.053  0.163\n",
      "    compactness (mean):                   0.019  0.345\n",
      "    concavity (mean):                     0.0    0.427\n",
      "    concave points (mean):                0.0    0.201\n",
      "    symmetry (mean):                      0.106  0.304\n",
      "    fractal dimension (mean):             0.05   0.097\n",
      "    radius (standard error):              0.112  2.873\n",
      "    texture (standard error):             0.36   4.885\n",
      "    perimeter (standard error):           0.757  21.98\n",
      "    area (standard error):                6.802  542.2\n",
      "    smoothness (standard error):          0.002  0.031\n",
      "    compactness (standard error):         0.002  0.135\n",
      "    concavity (standard error):           0.0    0.396\n",
      "    concave points (standard error):      0.0    0.053\n",
      "    symmetry (standard error):            0.008  0.079\n",
      "    fractal dimension (standard error):   0.001  0.03\n",
      "    radius (worst):                       7.93   36.04\n",
      "    texture (worst):                      12.02  49.54\n",
      "    perimeter (worst):                    50.41  251.2\n",
      "    area (worst):                         185.2  4254.0\n",
      "    smoothness (worst):                   0.071  0.223\n",
      "    compactness (worst):                  0.027  1.058\n",
      "    concavity (worst):                    0.0    1.252\n",
      "    concave points (worst):               0.0    0.291\n",
      "    symmetry (worst):                     0.156  0.664\n",
      "    fractal dimension (worst):            0.055  0.208\n",
      "    ===================================== ====== ======\n",
      "\n",
      "    :Missing Attribute Values: None\n",
      "\n",
      "    :Class Distribution: 212 - Malignant, 357 - Benign\n",
      "\n",
      "    :Creator:  Dr. William H. Wolberg, W. Nick Street, Olvi L. Mangasarian\n",
      "\n",
      "    :Donor: Nick Street\n",
      "\n",
      "    :Date: November, 1995\n",
      "\n",
      "This is a copy of UCI ML Breast Cancer Wisconsin (Diagnostic) datasets.\n",
      "https://goo.gl/U2Uwz2\n",
      "\n",
      "Features are computed from a digitized image of a fine needle\n",
      "aspirate (FNA) of a breast mass.  They describe\n",
      "characteristics of the cell nuclei present in the image.\n",
      "\n",
      "Separating plane described above was obtained using\n",
      "Multisurface Method-Tree (MSM-T) [K. P. Bennett, \"Decision Tree\n",
      "Construction Via Linear Programming.\" Proceedings of the 4th\n",
      "Midwest Artificial Intelligence and Cognitive Science Society,\n",
      "pp. 97-101, 1992], a classification method which uses linear\n",
      "programming to construct a decision tree.  Relevant features\n",
      "were selected using an exhaustive search in the space of 1-4\n",
      "features and 1-3 separating planes.\n",
      "\n",
      "The actual linear program used to obtain the separating plane\n",
      "in the 3-dimensional space is that described in:\n",
      "[K. P. Bennett and O. L. Mangasarian: \"Robust Linear\n",
      "Programming Discrimination of Two Linearly Inseparable Sets\",\n",
      "Optimization Methods and Software 1, 1992, 23-34].\n",
      "\n",
      "This database is also available through the UW CS ftp server:\n",
      "\n",
      "ftp ftp.cs.wisc.edu\n",
      "cd math-prog/cpo-dataset/machine-learn/WDBC/\n",
      "\n",
      ".. topic:: References\n",
      "\n",
      "   - W.N. Street, W.H. Wolberg and O.L. Mangasarian. Nuclear feature extraction \n",
      "     for breast tumor diagnosis. IS&T/SPIE 1993 International Symposium on \n",
      "     Electronic Imaging: Science and Technology, volume 1905, pages 861-870,\n",
      "     San Jose, CA, 1993.\n",
      "   - O.L. Mangasarian, W.N. Street and W.H. Wolberg. Breast cancer diagnosis and \n",
      "     prognosis via linear programming. Operations Research, 43(4), pages 570-577, \n",
      "     July-August 1995.\n",
      "   - W.H. Wolberg, W.N. Street, and O.L. Mangasarian. Machine learning techniques\n",
      "     to diagnose breast cancer from fine-needle aspirates. Cancer Letters 77 (1994) \n",
      "     163-171.\n"
     ]
    }
   ],
   "source": [
    "print(cancer.DESCR)"
   ]
  },
  {
   "cell_type": "markdown",
   "metadata": {},
   "source": [
    "또 회귀 분석용 실제 데이터셋으로는 보스턴 주택 가격 Boston Housing 데이터셋을 사용한다. 이 데이터 셋으로 할 작업은 범죄율, 찰스강 인접도, 고속도로 접근성 등의 정보를 이용해 1970년대 보스턴 주변의 주택 평균 가격을 예측하는 것이다. 이 데이터 셋에는 데이터 포인트 506개와 특성 13개가 있다."
   ]
  },
  {
   "cell_type": "code",
   "execution_count": 10,
   "metadata": {
    "ExecuteTime": {
     "end_time": "2019-09-23T10:53:48.413338Z",
     "start_time": "2019-09-23T10:53:48.399337Z"
    }
   },
   "outputs": [
    {
     "name": "stdout",
     "output_type": "stream",
     "text": [
      "(506, 13)\n"
     ]
    }
   ],
   "source": [
    "from sklearn.datasets import load_boston\n",
    "boston = load_boston()\n",
    "print(boston.data.shape)"
   ]
  },
  {
   "cell_type": "markdown",
   "metadata": {},
   "source": [
    "이 데이터셋에서도 boston 객체의 DESCR 속성에서 더 자세한 정보를 확인할 수 있다. 이 데이터셋에는 13개의 입력 특성뿐 아니라 특성끼리 곱하여 (또는 상호작용이라 부름) 의도적으로 확장하겠다. 다시 말하면 범죄율과 고속도로 접근성의 개별 특성은 물론, 범죄율과 고속도로 접근성의 곱도 특성으로 생각한다는 뜻이다. 이처럼 특성을 유도해내는 것을 특성 공학feature engineering이라고 한다. 유도된 데이터셋은 load_entended_boston 함수를 사용하여 불러들일 수 있다."
   ]
  },
  {
   "cell_type": "code",
   "execution_count": 12,
   "metadata": {
    "ExecuteTime": {
     "end_time": "2019-09-23T10:57:50.564441Z",
     "start_time": "2019-09-23T10:57:50.544443Z"
    }
   },
   "outputs": [
    {
     "name": "stdout",
     "output_type": "stream",
     "text": [
      "(506, 104)\n"
     ]
    }
   ],
   "source": [
    "X, y = mglearn.datasets.load_extended_boston()\n",
    "print(X.shape)"
   ]
  },
  {
   "cell_type": "markdown",
   "metadata": {},
   "source": [
    "13개의 원래 특성에 13개에서 2개씩 (중복을 포함해) 짝지은 91개의 특성을 더해 총 104개의 특성이다."
   ]
  }
 ],
 "metadata": {
  "kernelspec": {
   "display_name": "Python 3",
   "language": "python",
   "name": "python3"
  },
  "language_info": {
   "codemirror_mode": {
    "name": "ipython",
    "version": 3
   },
   "file_extension": ".py",
   "mimetype": "text/x-python",
   "name": "python",
   "nbconvert_exporter": "python",
   "pygments_lexer": "ipython3",
   "version": "3.7.3"
  },
  "toc": {
   "base_numbering": 1,
   "nav_menu": {},
   "number_sections": true,
   "sideBar": true,
   "skip_h1_title": false,
   "title_cell": "Table of Contents",
   "title_sidebar": "Contents",
   "toc_cell": true,
   "toc_position": {},
   "toc_section_display": true,
   "toc_window_display": true
  },
  "varInspector": {
   "cols": {
    "lenName": 16,
    "lenType": 16,
    "lenVar": 40
   },
   "kernels_config": {
    "python": {
     "delete_cmd_postfix": "",
     "delete_cmd_prefix": "del ",
     "library": "var_list.py",
     "varRefreshCmd": "print(var_dic_list())"
    },
    "r": {
     "delete_cmd_postfix": ") ",
     "delete_cmd_prefix": "rm(",
     "library": "var_list.r",
     "varRefreshCmd": "cat(var_dic_list()) "
    }
   },
   "types_to_exclude": [
    "module",
    "function",
    "builtin_function_or_method",
    "instance",
    "_Feature"
   ],
   "window_display": false
  }
 },
 "nbformat": 4,
 "nbformat_minor": 2
}
