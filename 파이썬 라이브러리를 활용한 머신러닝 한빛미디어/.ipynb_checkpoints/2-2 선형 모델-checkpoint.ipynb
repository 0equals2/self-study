{
 "cells": [
  {
   "cell_type": "markdown",
   "metadata": {
    "toc": true
   },
   "source": [
    "<h1>Table of Contents<span class=\"tocSkip\"></span></h1>\n",
    "<div class=\"toc\"><ul class=\"toc-item\"><li><span><a href=\"#선형-모델\" data-toc-modified-id=\"선형-모델-1\"><span class=\"toc-item-num\">1&nbsp;&nbsp;</span>선형 모델</a></span><ul class=\"toc-item\"><li><span><a href=\"#회귀-선형-모델\" data-toc-modified-id=\"회귀-선형-모델-1.1\"><span class=\"toc-item-num\">1.1&nbsp;&nbsp;</span>회귀 선형 모델</a></span><ul class=\"toc-item\"><li><span><a href=\"#선형-회귀(최소제곱법)\" data-toc-modified-id=\"선형-회귀(최소제곱법)-1.1.1\"><span class=\"toc-item-num\">1.1.1&nbsp;&nbsp;</span>선형 회귀(최소제곱법)</a></span></li><li><span><a href=\"#릿지-회귀\" data-toc-modified-id=\"릿지-회귀-1.1.2\"><span class=\"toc-item-num\">1.1.2&nbsp;&nbsp;</span>릿지 회귀</a></span></li></ul></li></ul></li></ul></div>"
   ]
  },
  {
   "cell_type": "code",
   "execution_count": 4,
   "metadata": {
    "ExecuteTime": {
     "end_time": "2019-09-24T05:49:09.052628Z",
     "start_time": "2019-09-24T05:49:09.047631Z"
    }
   },
   "outputs": [],
   "source": [
    "from IPython.display import Image\n",
    "from IPython.core.display import HTML\n",
    "import mglearn\n",
    "from IPython.display import display\n",
    "import numpy as np\n",
    "import matplotlib.pyplot as plt\n",
    "import pandas as pd\n",
    "from sklearn.model_selection import train_test_split\n"
   ]
  },
  {
   "cell_type": "markdown",
   "metadata": {},
   "source": [
    "# 선형 모델\n",
    "선형 모델linear model은 100여 년 전에 개발되었고, 지난 몇십 년 동안 폭넓게 연구되고 현재도 널리 쓰인다. 선형 모델은 입력 특성에 대한 선형 함수를 만들어 예측을 수행한다. \n",
    "\n",
    "## 회귀 선형 모델\n",
    "회귀의 경우 선형 모델을 위한 일반화된 예측 함수는 다음과 같다.  \n",
    "\n",
    "        ŷ = w[0]×x[0]+w[1]×x[1]+ … +w[p]×x[p] + b\n",
    "\n",
    "이 식에서 x[0]부터 x[p]까지는 하나의 **데이터 포인트에 대한 특성**을 나타내며 (특성의 개수는 p+1), **w와 b는 모델이 학습할 파라미터**이다. 그리고 **ŷ은 모델이 만들어낸 예측값**이다. 특성이 하나인 데이터셋이라면 이 식은 다음과 같다.\n",
    "\n",
    "        ŷ = w[0]×x[0]+b\n",
    "\n",
    "이 식에서 w[0]는 기울기이고 b는 y축과 만나는 절편이다. 특성이 많아지면 w는 각 특성에 해당하는 기울기를 모두 가진다. 다르게 생각하면 예측값은 입력 특성에 w의 각 가중치(음수일 수도 있다)를 곱해서 더한 가중치 합으로 볼 수 있다.\n",
    "\n",
    "1차원 wave 데이터셋으로 파라미터 w[0]와 b를 다음 그래프의 직선과 같이 되도록 학습시켜 보겠다."
   ]
  },
  {
   "cell_type": "code",
   "execution_count": 2,
   "metadata": {
    "ExecuteTime": {
     "end_time": "2019-09-24T05:12:36.684914Z",
     "start_time": "2019-09-24T05:12:36.251927Z"
    }
   },
   "outputs": [
    {
     "name": "stdout",
     "output_type": "stream",
     "text": [
      "w[0]: 0.393906  b: -0.031804\n"
     ]
    },
    {
     "data": {
      "image/png": "[encoded data removed]",
      "text/plain": [
       "<Figure size 576x576 with 1 Axes>"
      ]
     },
     "metadata": {
      "needs_background": "light"
     },
     "output_type": "display_data"
    }
   ],
   "source": [
    "mglearn.plots.plot_linear_regression_wave()"
   ]
  },
  {
   "cell_type": "markdown",
   "metadata": {},
   "source": [
    "직선 방정식을 이해하기 쉽도록 그래프의 중앙을 가로질러서 x,y 축을 그렸다. w[0]값을 보면 기울기는 대략 0.4 정도여야 하며, 그래프에서 이를 눈으로 확인할 수 있다.\n",
    "\n",
    "회귀를 위한 선형 모델은 특성이 하나일 땐 직선, 두 개일 땐 평면이 되며, 더 높은 차원 (특성이 더 많음) 에서는 초평면 hyperplane이 되는 회귀 모델의 특징을 가지고 있다.\n",
    "\n",
    "이 직선과 KNeighborsRegressor를 사용해 만든 선과 비교해보면 직선을 사용한 예측이 더 제약이 많아 보인다. 즉 데이터의 상세 정보를 모두 잃어버린 것처럼 보인다. 타깃 y가 특성들의 선형 조합이라는 것은 매우 과한(때론 비현실적인) 가정이다. 하지만 1차원 데이터만 놓고 봐서 생긴 편견일 수 있다. 특성이 많은 데이터셋이라면 선형 모델은 매우 훌륭한 성능을 낼 수 있다. 특히 훈련 데이터보다 특성이 더 많은 경우엔 어떤 타깃 y도 완벽하게 (훈련 세트에 대해서) 선형 함수로 모델링할 수 있다.\n",
    "\n",
    "회귀를 위한 선형 모델은 다양하다. 이 모델들은 훈련 데이터로부터 모델 파라미터 w와 b를 학습하는 방법과 모델의 복잡도를 제어하는 방법에서 차이가 난다. 회귀에서 가장 일반적인 선형 모델들을 살펴보자. : 선형, 릿지, 라쏘, 분류형"
   ]
  },
  {
   "cell_type": "markdown",
   "metadata": {},
   "source": [
    "### 선형 회귀(최소제곱법)\n",
    "선형 회귀linear regression 또는 최소 제곱법OLS, ordinary least squares 은 가장 간단하고 오래된 회귀용 선형 알고리즘이다. 선형 회귀는 예측과 훈련 세트에 있는 타깃 y 사이의 평균제곱오차 mean squared error를 최소화하는 파라미터 w와 b를 찾는다. 평균 제곱 오차는 예측값과 타깃값의 차이를 제곱하여 더한 후에 샘플의 개수로 나눈 것이다. 선형 회귀는 매개변수가 없는 것이 장점이지만, 그래서 모델의 복잡도를 제어할 방법도 없다."
   ]
  },
  {
   "cell_type": "code",
   "execution_count": 5,
   "metadata": {
    "ExecuteTime": {
     "end_time": "2019-09-24T05:49:14.222629Z",
     "start_time": "2019-09-24T05:49:14.215630Z"
    }
   },
   "outputs": [],
   "source": [
    "from sklearn.linear_model import LinearRegression\n",
    "X, y = mglearn.datasets.make_wave(n_samples=60)\n",
    "X_train, X_test, y_train, y_test = train_test_split(X, y, random_state=42)\n",
    "\n",
    "lr = LinearRegression().fit(X_train, y_train)"
   ]
  },
  {
   "cell_type": "markdown",
   "metadata": {},
   "source": [
    "기울기 파라미터w는 가중치weight 또는 계수coefficient라고 하며 lr 객체의 coef_ 속성에 저장되어 있고 편향offset 또는 절편intercept 파라미터b는 intercept_ 속성에 저장되어 있다.\n",
    "\n",
    "끝의 밑줄은 매개변수와의 구분을 위해 훈련데이터에서 유도된 속성 끝에 밑줄을 붙인다"
   ]
  },
  {
   "cell_type": "code",
   "execution_count": 6,
   "metadata": {
    "ExecuteTime": {
     "end_time": "2019-09-24T06:03:33.693522Z",
     "start_time": "2019-09-24T06:03:33.685525Z"
    }
   },
   "outputs": [
    {
     "name": "stdout",
     "output_type": "stream",
     "text": [
      "[0.39390555]\n",
      "-0.031804343026759746\n"
     ]
    }
   ],
   "source": [
    "print(lr.coef_)\n",
    "print(lr.intercept_)"
   ]
  },
  {
   "cell_type": "markdown",
   "metadata": {},
   "source": [
    "intercept_속성은 항상 실수 float 값 하나이지만, coef_ 속성은 각 입력 특성에 하나씩 대응되는 NumPy 배열이다. wave 데이터셋에는 입력 특성이 하나뿐 이므로 lr.coef_ 도 원소를 하나만 가지고 있다."
   ]
  },
  {
   "cell_type": "code",
   "execution_count": 7,
   "metadata": {
    "ExecuteTime": {
     "end_time": "2019-09-24T06:55:12.694004Z",
     "start_time": "2019-09-24T06:55:12.673004Z"
    }
   },
   "outputs": [
    {
     "name": "stdout",
     "output_type": "stream",
     "text": [
      "0.6700890315075756\n",
      "0.65933685968637\n"
     ]
    }
   ],
   "source": [
    "#훈련 세트와 테스트 세트의 성능 확인\n",
    "print(lr.score(X_train, y_train))\n",
    "print(lr.score(X_test, y_test))"
   ]
  },
  {
   "cell_type": "markdown",
   "metadata": {
    "ExecuteTime": {
     "end_time": "2019-09-24T06:59:44.087462Z",
     "start_time": "2019-09-24T06:59:44.073461Z"
    }
   },
   "source": [
    "결정계수값이 0.66인 것은 그리 좋은 결과는 아니지만, 훈련 세트와 테스트 세트의 점수가 매우 비슷한 것을 알 수 있다. 이는 과대적합이 아니라 과소적합인 상태를 의미한다. 1차원 데이터셋에서는 모델이 매우 단순하므로 (혹은 제한적) 과대적합을 걱정할 필요가 없다. 그러나 (특성이 많은) 고차원 데이터셋에서는 선형 모델의 성능이 매우 높아져서 과대적합될 가능성이 높다. LinearRegression 모델이 보스턴 주택가격 데이터셋 같은 복잡한 데이터셋에서 어떻게 동작하는지 한번 살펴보자. 이 데이터셋에는 샘플이 506개가 있고 특성은 유도된 것을 합쳐 105개 이다. 먼저 데이터셋을 읽어 들이고 훈련 세트와 테스트 세트로 나눈다. 그런 다음 이전과 같은 방식으로 선형 모델을 만든다."
   ]
  },
  {
   "cell_type": "code",
   "execution_count": 9,
   "metadata": {
    "ExecuteTime": {
     "end_time": "2019-09-24T07:00:43.129853Z",
     "start_time": "2019-09-24T07:00:43.041858Z"
    }
   },
   "outputs": [],
   "source": [
    "X, y = mglearn.datasets.load_extended_boston()\n",
    "X_train, X_test, y_train, y_test = train_test_split(X, y, random_state=0)\n",
    "lr = LinearRegression().fit(X_train, y_train)"
   ]
  },
  {
   "cell_type": "markdown",
   "metadata": {},
   "source": [
    "훈련 세트와 테스트 세트의 점수를 비교해보면 훈련 세트에서는 예측이 매우 정확한 반면 테스트 세트에서는 R제곱 값이 매우 낮다."
   ]
  },
  {
   "cell_type": "code",
   "execution_count": 10,
   "metadata": {
    "ExecuteTime": {
     "end_time": "2019-09-24T07:01:45.604792Z",
     "start_time": "2019-09-24T07:01:45.593794Z"
    }
   },
   "outputs": [
    {
     "name": "stdout",
     "output_type": "stream",
     "text": [
      "0.9520519609032729\n",
      "0.607472195966589\n"
     ]
    }
   ],
   "source": [
    "print(lr.score(X_train,y_train))\n",
    "print(lr.score(X_test, y_test))"
   ]
  },
  {
   "cell_type": "markdown",
   "metadata": {},
   "source": [
    "훈련 데이터와 테스트 데이터 사이의 이런 성능 차이는 모델이 과대적합되었다는 확실한 신호이므로 복잡도를 제어할 수 있는 모델을 사용해야 한다. 기본 선형 회귀 방식 대신 가장 널리 쓰이는 모델은 릿지 회귀이다."
   ]
  },
  {
   "cell_type": "markdown",
   "metadata": {},
   "source": [
    "### 릿지 회귀\n",
    "릿지Ridge 도 회귀를 위한 선형 모델이므로 최소적합법에서 사용한 것과 같은 예측 함수를 사용하지만, 릿지 회귀에서의 가중치 선택은 훈련 데이터를 잘 예측하기 위해서 뿐 아니라 추가 제약 조건을 만족시키기 위한 목적도 있다. 가중치의 절대값을 가능한 한 작게 만드는 것이다. 다시 말해 w의 모든 원소가 0에 가깝게 되길 원한다. 직관적으로 생각하면 이는 모든 특성이 출력에 주는 영향을 최소한으로 만든다. (기울기가 작게) 이런 제약을 규제 regularization라고 한다. 규제란 과대적합이 되지 않도록 모델을 강제로 제한한다는 의미이다. 릿지 회귀에 사용하는 규제 방식을 L2 규제라고 한다.\n",
    "\n",
    "릿지 회귀는 linear_model.Ridge에 구현되어 있다. 릿지 회귀가 확장된 보스턴 주택 가격 데이터셋에 어떻게 적용되는지 살펴보자."
   ]
  },
  {
   "cell_type": "code",
   "execution_count": 11,
   "metadata": {
    "ExecuteTime": {
     "end_time": "2019-09-24T07:07:22.454780Z",
     "start_time": "2019-09-24T07:07:22.431780Z"
    }
   },
   "outputs": [
    {
     "name": "stdout",
     "output_type": "stream",
     "text": [
      "0.885796658517094\n",
      "0.7527683481744755\n"
     ]
    }
   ],
   "source": [
    "from sklearn.linear_model import Ridge\n",
    "\n",
    "ridge = Ridge().fit(X_train, y_train)\n",
    "print(ridge.score(X_train, y_train)) #훈련 세트 점수\n",
    "print(ridge.score(X_test, y_test)) # 테스트 세트 점수"
   ]
  },
  {
   "cell_type": "markdown",
   "metadata": {},
   "source": [
    "결과를 보니 훈련 세트에서의 점수는 LinearRegression 보다 낮지만 기대한 대로 테스트 세트에 대한 점수는 더 높다. 선형 회귀는 이 데이터셋에 과대적합되지만 Ridge는 덜 자유로운 모델이기 때문에 과대적합이 적어진다. 모델의 복잡도가 낮아지면 훈련 세트에서의 성능은 나빠지지만 더 일반화된 모델이 된다. 관심 있는 것은 **테스트 세트에 대한 성능**이기 때문에, Ridge 모델을 선택해야 한다.\n",
    "\n",
    "**Ridge는 모델을 단순하게 (계수를 0에 가깝게)** 해주고 훈련 세트에 대한 성능 사이를 절충할 수 있는 방법을 제공한다. 사용자는 **alpha 매개변수**로 훈련 세트의 성능 대비 모델을 얼마나 단순화할지 지정할 수 있다. 앞의 예제에서는 기본값인 alpha=1.0을 사용했다. 하지만 이 값이 최적이라고 생각할 수는 없다. 최적의 alpha값은 사용하는 데이터셋에 달려있다. 알파값을 높이면 계수를 0에 더 가깝게 만들어서 훈련 세트의 성능은 나빠지지만 일반화에는 도움을 줄 수 있다."
   ]
  },
  {
   "cell_type": "code",
   "execution_count": 12,
   "metadata": {
    "ExecuteTime": {
     "end_time": "2019-09-24T07:33:46.268211Z",
     "start_time": "2019-09-24T07:33:46.257210Z"
    }
   },
   "outputs": [
    {
     "name": "stdout",
     "output_type": "stream",
     "text": [
      "0.7882787115369614\n",
      "0.6359411489177311\n"
     ]
    }
   ],
   "source": [
    "ridge10 = Ridge(alpha=10).fit(X_train, y_train)\n",
    "print(ridge10.score(X_train, y_train)) #훈련 세트 점수\n",
    "print(ridge10.score(X_test, y_test)) # 테스트 세트 점수"
   ]
  },
  {
   "cell_type": "markdown",
   "metadata": {},
   "source": [
    "알파 값을 줄이면 계수에 대한 제약이 그만큼 풀리면서 오른쪽으로 이동하게 된다(위의 회귀선형 모델 그래프에서). 아주 작은 알파 값은 계수를 거의 제한하지 않으므로 LinearRegression으로 만든 모델과 거의 같아진다."
   ]
  },
  {
   "cell_type": "code",
   "execution_count": 13,
   "metadata": {
    "ExecuteTime": {
     "end_time": "2019-09-24T09:24:26.748036Z",
     "start_time": "2019-09-24T09:24:26.735037Z"
    }
   },
   "outputs": [
    {
     "name": "stdout",
     "output_type": "stream",
     "text": [
      "0.9282273685001988\n",
      "0.7722067936479806\n"
     ]
    }
   ],
   "source": [
    "ridge01 = Ridge(alpha=0.1).fit(X_train, y_train)\n",
    "print(ridge01.score(X_train, y_train)) #훈련 세트 점수\n",
    "print(ridge01.score(X_test, y_test)) # 테스트 세트 점수"
   ]
  },
  {
   "cell_type": "markdown",
   "metadata": {},
   "source": [
    "이 코드에서 alpha=0.1이 꽤 좋은 성능을 낸 것 같습니다. 테스트 세트에 대한 성능이 높아질 때까지 알파값을 줄일 수 있다. "
   ]
  }
 ],
 "metadata": {
  "kernelspec": {
   "display_name": "Python 3",
   "language": "python",
   "name": "python3"
  },
  "language_info": {
   "codemirror_mode": {
    "name": "ipython",
    "version": 3
   },
   "file_extension": ".py",
   "mimetype": "text/x-python",
   "name": "python",
   "nbconvert_exporter": "python",
   "pygments_lexer": "ipython3",
   "version": "3.7.3"
  },
  "toc": {
   "base_numbering": 1,
   "nav_menu": {},
   "number_sections": true,
   "sideBar": true,
   "skip_h1_title": false,
   "title_cell": "Table of Contents",
   "title_sidebar": "Contents",
   "toc_cell": true,
   "toc_position": {},
   "toc_section_display": true,
   "toc_window_display": true
  },
  "varInspector": {
   "cols": {
    "lenName": 16,
    "lenType": 16,
    "lenVar": 40
   },
   "kernels_config": {
    "python": {
     "delete_cmd_postfix": "",
     "delete_cmd_prefix": "del ",
     "library": "var_list.py",
     "varRefreshCmd": "print(var_dic_list())"
    },
    "r": {
     "delete_cmd_postfix": ") ",
     "delete_cmd_prefix": "rm(",
     "library": "var_list.r",
     "varRefreshCmd": "cat(var_dic_list()) "
    }
   },
   "types_to_exclude": [
    "module",
    "function",
    "builtin_function_or_method",
    "instance",
    "_Feature"
   ],
   "window_display": false
  }
 },
 "nbformat": 4,
 "nbformat_minor": 2
}
