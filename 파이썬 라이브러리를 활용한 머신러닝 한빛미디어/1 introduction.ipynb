{
 "cells": [
  {
   "cell_type": "markdown",
   "metadata": {},
   "source": [
    "# 소개\n",
    "머신러닝은 데이터에서 지식을 추출하는 작업으로, **통계학, 인공지능 그리고 컴퓨터 과학**의 합작이다. **예측 분석**이나 **통계적 머신러닝**으로도 불린다. 여러 상업적 어플리케이션 외에도 오늘날 데이터 기반 연구에 큰 영향을 끼쳐왔다. 별 탐구, 새로운 행성, 새로운 미립자의 발견, DNA 서열 분석 등 다양한 과학 분야에도 적용되었다. 머신러닝이 왜 유명해졌고, 어떤 문제를 해결할 수 있는지 알아보자."
   ]
  },
  {
   "cell_type": "markdown",
   "metadata": {},
   "source": [
    "## 왜?\n",
    "초창기엔 지능형 어플리케이션의 시스템은 **하드 코딩**된 if와 else명령으로 데이터를 처리했다.  \n",
    "이런 시스템의 단점:\n",
    "* 결정에 필요한 로직이 한 분야 혹은 작업에 국한, 작업이 바뀌면 전체 시스템을 다시 개발해야 함\n",
    "* 규칙을 설계하려면 분야 전문가들이 내리는 결정 방식을 잘 알아야 함  \n",
    "\n",
    "요즘엔 스마트폰이 이미지로부터 얼굴을 찾아낼 수 있지만, 2001년 이전에는 얼굴인식은 풀 수 없는 문제였다. 얼굴인식은 규칙을 직접 만드는 데 실패한 대표적 예시이다. 사람이 얼굴을 인식하는 방식과 컴퓨터가 인식하는 방식이 다르기 때문에, 디지털 이미지에서 얼굴 구성 요소를 일련의 규칙으로 표현하는 것은이 근본적으로 불가능하다. 그러나 머신 러닝으로 아주 많은 얼굴이미지를 제공하면 얼굴을 특정하는 요소를 찾아낼 수 있다"
   ]
  },
  {
   "cell_type": "markdown",
   "metadata": {},
   "source": [
    "### 머신러닝으로 풀 수 있는 문제\n",
    "**지도학습** : 이미 알려진 사례를 바탕으로 일반화된 모델을 만들어 의사 결정 프로세스를 자동화  \n",
    "사용자는 알고리즘에 입력과 기대되는 출력을 제공  \n",
    "알고리즘은 주어진 입력에서 원하는 출력을 만드는 방법 모색  \n",
    "입력 데이터로부터 기대한 출력이 나오도록 가르치기 때문에, 입력과 출력으로부터 학습하는 머신러닝 알고리즘을 **지도 학습(supervised)** 알고리즘이라 한다.  \n",
    "입출력 데이터는 종종 수작업이 필요하지만, 지도학습 알고리즘은 분석하기에 좋고 성능을 측정하기도 쉽다.  "
   ]
  },
  {
   "cell_type": "markdown",
   "metadata": {},
   "source": [
    "**지도학습의 예**  \n",
    "\n",
    "1) **편지봉투 손으로 쓴 우편번호 판별**   \n",
    "*입력* : 손글씨 스캔이미지  \n",
    "기대하는 *출력* : 우편번호 숫자\n",
    "\n",
    "2) **의료영상 이미지에 기반한 종양 판단**  \n",
    "*입력* : 이미지  \n",
    "*출력* : 종양이 양성인지 아닌지  \n",
    "모델 구축을 위해 의료 영상 데이터베이스와 전문가의 의견이 필요  \n",
    "\n",
    "3) **의심되는 신용카드 거래 감지**  \n",
    "*입력* : 신용카드 거래 내역  \n",
    "*출력* : 부정 거래 여부  "
   ]
  },
  {
   "cell_type": "markdown",
   "metadata": {},
   "source": [
    "**비지도 학습** :알고리즘에 입력은 주어지지만 **출력은 제공되지 않는다.** 성공사례는 많지만 비지도 학습을 이해하거나 평가하기가 어렵다.\n",
    "\n",
    "**비지도학습의 예**  \n",
    "\n",
    "1) **블로그 글의 주제 구분**  \n",
    "입력 : 블로그 글 (텍스트 데이터)   \n",
    "사전에 어떤 주제인지, 몇 개의 주제가 있는지 알 수 없다.  \n",
    "\n",
    "2) **취향이 비슷한 고객 그룹으로 묶기**  \n",
    "쇼핑 사이트라면 부모, 독서광, 게이머 등의 그룹으로 묶을 수 있다. 어떤 그룹이 있는지 미리 알 수 없고 얼마나 많은 그룹이 있는지 알 수 없으므로 출력을 가지고 있지 않다.  \n",
    "\n",
    "3) **비정상적인 웹사이트 접근 탐지**  \n",
    "일상적이지 않은 접근 패턴을 찾으면 부정행위나 버그를 구별하는데 도움이 된다. 각각의 비정상 패턴은 서로 다를 수 있고 이미 가지고 있는 비정상 데이터도 없을 수 있다. 웹 트래픽만을 관찰 가능, 어떤 것이 정상인지 비정상인지 알지 못하므로 비지도 학습  "
   ]
  },
  {
   "cell_type": "markdown",
   "metadata": {},
   "source": [
    ">! point : 지도 학습, 비지도 학습 모두 **데이터 준비가 중요** (컴퓨터가 **인식 가능**한)  \n",
    "대부분 행과 열로 구성된 **테이블 형태**  (엑셀과 같이)  \n",
    "행 : 판별해야 할 각각의 데이터 (개개의 이메일, 고객, 거래)    \n",
    "열 : 데이터를 구성하는 각 속성 (고객의 나이, 거래 가격, 지역)  \n",
    "\n",
    ">예시) 고객 데이터 (나이, 성별, 계정 생성일, 구매빈도)  \n",
    "        종양 데이터 (크기나 모양, 색상의 진하기 등) - 흑백이미지"
   ]
  },
  {
   "cell_type": "markdown",
   "metadata": {},
   "source": [
    "머신러닝에서는 **하나의 개체(행)**을 **샘플 sample** 또는 **데이터 포인트 data point** 라고 부른다.  \n",
    "**샘플의 속성(열)**을 **특성 feature**이라고 한다. \n",
    "\n",
    "후에 좋은 입력 데이터를 만들어내는 특성 추출 feature extraction 혹은 특성 공학 feature engineering 도 다룰 것이다."
   ]
  },
  {
   "cell_type": "markdown",
   "metadata": {},
   "source": [
    "### 문제와 데이터 이해\n",
    "데이터를 이해하고, 데이터로 해결할 문제와의 연관을 이해하는 것이 가장 중요! 다음과 같은 질문을 상기하자.\n",
    "\n",
    "* 어떤 질문에 대한 답을 찾는가? 확보 데이터가 원하는 답을 줄 수 있는가?\n",
    "* 질문을 머신러닝의 문제로 가장 잘 기술하는 방법은?\n",
    "* 충분한 데이터를 수집했는가?\n",
    "* 추출한 데이터의 특성은 무엇이고, 좋은 예측을 만들 수 있는가?\n",
    "* 머신러닝 어플의 성과를 어떻게 측정할 수 있나?\n",
    "* 머신러닝 솔루션이 다른 연구나 제품과 어떻게 협력할 수 있는가?\n",
    "\n",
    "결국 문제를 푸는 건 사람. 전체 시스템에 대한 큰 그림을 가지고 있어야 한다."
   ]
  },
  {
   "cell_type": "markdown",
   "metadata": {},
   "source": [
    "## 왜 파이썬?\n",
    "파이썬 python은 데이터 과학의 표준 프로그래밍 언어처럼 여겨진다. \n",
    "\n",
    "그 이유는?\n",
    "* 범용 프로그래밍 언어의 장점 + 매트랩 MATLAB 과 R 같은 특정 분야를 위한 스크립팅 언어의 편리함\n",
    "* 데이터 적재, 시각화, 통계, 자연어 처리, 이미지 처리 등에 필요한 라이브러리\n",
    "* 터미널이나 주피터 노트북 jupyter notebook 같은 도구로 대화하듯 프로그래밍 가능\n",
    "* 머신러닝과 데이터 분석을 위한 반복작업을 빠르고 손쉽게 처리 가능\n",
    "* 복잡한 그래픽 사용자 인터페이스나 웹 서비스도 만들 수 있음\n",
    "* 기존 시스템과의 통합이 용이함"
   ]
  },
  {
   "cell_type": "markdown",
   "metadata": {},
   "source": [
    "## scikit-learn\n",
    "오픈 소스 scikit-learn 사이킷런: 자유롭게 배포가능, 누구나 소스코드를 보고 실제로 어떻게 동작하는지 쉽게 확인 가능\n",
    "\n",
    "### 설치\n",
    "scikit-learn은 두 개의 다른 파이썬 패키지 NumPy 넘파이 와 SciPy 사이파이 를 사용한다. 그래프를 그리기 위해 matplotlib 맷플롯립, 대화식 개발을 위해 IPython 아이파이썬 과 주피터 노트북이 필요하다.  \n",
    "필요한 패키지를 모아놓은 파이썬 배포판 설치:  \n",
    "* Anaconda (https://www.continuum.io/anaconda-overview)  \n",
    "* Enthought Canopy (https://www.enthought.com/products/canopy/)  \n",
    "* Python(x,y) (https://python-xy.github.io/)  \n",
    "\n",
    "이미 파이썬을 설치했다면 pip 명령을 이용해 필요한 패키지를 설치한다  \n",
    "$ pip install numpy scipy matplotlib ipython scikit-learn pandas pillow"
   ]
  },
  {
   "cell_type": "markdown",
   "metadata": {},
   "source": [
    "## 필수 라이브러리와 도구들\n",
    "사이킷런을 구성하는 NumPy 와 SciPy와 pandas, matplotlib, mglearn에 대해서 알아보자."
   ]
  },
  {
   "cell_type": "markdown",
   "metadata": {},
   "source": [
    "### NumPy\n",
    "Numpy 는 파이썬으로 과학 계산을 하려면 꼭 필요한 패키지이다. 다차원 배열을 위한 기능, 선형 대수 연산과 푸리에 변환 같은 고수준 수학 함수와 유사 난수 생성기를 포함한다.  \n",
    "* 선형대수 : 벡터, 행렬, 선형 변환을 연구하는 수학 분야\n",
    "* 푸리에 변환 : 시간의 함수인 신호 등을 주파수 성분으로 분해하는 변환  \n",
    "* 유사 난수 : 초깃값을 이용하여 이미 결정되어 있는 메커니즘에 의해 생성되는 난수로, 초깃값을 알면 언제든 같은 값을 다시 만들 수 있으므로 진짜 난수와 구별하여 유사 난수라 한다.  \n",
    "\n",
    "scikit-learn에서 NumPy 배열은 기본데이터 구조이다. scikit-learn은 NumPy 배열 형태의 데이터를 입력받는다. (우리가 사용할 데이터는 NumPy 배열로 변환되어야 함) 핵심기능은 다차원(*n*-차원) 배열인 ndarray 클래스입니다. 이 배열의 모든 원소는 동일한 데이터 타입이어야 한다. "
   ]
  },
  {
   "cell_type": "code",
   "execution_count": 2,
   "metadata": {},
   "outputs": [
    {
     "name": "stdout",
     "output_type": "stream",
     "text": [
      "x:\n",
      "[[1 2 3]\n",
      " [4 5 6]]\n"
     ]
    }
   ],
   "source": [
    "import numpy as np\n",
    "\n",
    "x = np.array([[1, 2, 3], [4, 5, 6]])\n",
    "print(\"x:\\n{}\".format(x))"
   ]
  },
  {
   "cell_type": "markdown",
   "metadata": {},
   "source": [
    "### SciPy\n",
    "Scipy는 과학 계산용 함수를 모아놓은 파이썬 패키지. 고성능 선형 대수, 함수 최적화, 신호 처리, 특수한 수학 함수와 통계 분포등의 기능 제공. scikit-learn은 알고리즘을 수현할 때 SciPy의 여러 함수를 사용하는데, 그 중 scipy.sparse가 가장 중요하다. 데이터 표현의 하나의 방법인 희소 행렬 기능을 제공한다. 희소행렬은 0을 많이 포함한 2차원 배열을 저장할 때 사용한다."
   ]
  },
  {
   "cell_type": "code",
   "execution_count": 3,
   "metadata": {},
   "outputs": [
    {
     "name": "stdout",
     "output_type": "stream",
     "text": [
      "NumPy 배열:\n",
      "[[1. 0. 0. 0.]\n",
      " [0. 1. 0. 0.]\n",
      " [0. 0. 1. 0.]\n",
      " [0. 0. 0. 1.]]\n"
     ]
    }
   ],
   "source": [
    "from scipy import sparse\n",
    "\n",
    "# 대각선 원소는 1이고 나머지는 0인 2차원 NumPy배열을 만든다.\n",
    "eye = np.eye(4)\n",
    "print(\"NumPy 배열:\\n{}\".format(eye))"
   ]
  },
  {
   "cell_type": "code",
   "execution_count": 5,
   "metadata": {},
   "outputs": [
    {
     "name": "stdout",
     "output_type": "stream",
     "text": [
      "Scipy의 CSR 행렬:\n",
      "  (0, 0)\t1.0\n",
      "  (1, 1)\t1.0\n",
      "  (2, 2)\t1.0\n",
      "  (3, 3)\t1.0\n"
     ]
    }
   ],
   "source": [
    "# NumPy 배열은 CSR 포맷(Compressed Row Storage의 약자, 행의 인덱스를 압축하여 저장)의 SciPy 희소 행렬로 변환\n",
    "# 0이 아닌 원소만 저장\n",
    "sparse_matrix = sparse.csr_matrix(eye)\n",
    "print(\"Scipy의 CSR 행렬:\\n{}\".format(sparse_matrix))"
   ]
  },
  {
   "cell_type": "markdown",
   "metadata": {},
   "source": [
    "보통 희소 행렬을 0을 모두 채운 2차원 배열로부터 만들지 않으므로 (메모리가 부족할 수 있어서) 희소 행렬을 직접 만들 수 있어야 한다. COO 포맷(Coordinate 포맷의 약자, 데이터가 놓일 행렬의 위치를 별도의 매개변수로 전달)"
   ]
  },
  {
   "cell_type": "code",
   "execution_count": 8,
   "metadata": {},
   "outputs": [
    {
     "name": "stdout",
     "output_type": "stream",
     "text": [
      "COO 표현:\n",
      "  (0, 0)\t1.0\n",
      "  (1, 1)\t1.0\n",
      "  (2, 2)\t1.0\n",
      "  (3, 3)\t1.0\n"
     ]
    }
   ],
   "source": [
    "data = np.ones(4)\n",
    "row_indices = np.arange(4)\n",
    "col_indices = np.arange(4)\n",
    "eye_coo = sparse.coo_matrix((data, (row_indices, col_indices)))\n",
    "print(\"COO 표현:\\n{}\".format(eye_coo))"
   ]
  },
  {
   "cell_type": "markdown",
   "metadata": {},
   "source": [
    "### matplotlib\n",
    "matplotlib 은 파이썬 대표 과학 계산용 그래프 라이브러리. **선 그래프, 히스토그램, 산점도** 등을 지원. 데이터와 분석결과를 다양한 관점에서 시각화해보면 통찰을 얻을 수 있다.  \n",
    "jupyter notebook에서 사용할 땐, %matplotlib notebook 이나 %matplotlib inline 명령을 사용해 브라우저에서 바로 이미지를 확인 가능"
   ]
  },
  {
   "cell_type": "code",
   "execution_count": 9,
   "metadata": {},
   "outputs": [
    {
     "data": {
      "text/plain": [
       "[<matplotlib.lines.Line2D at 0x122726f1f98>]"
      ]
     },
     "execution_count": 9,
     "metadata": {},
     "output_type": "execute_result"
    },
    {
     "data": {
      "image/png": "[encoded data removed]",
      "text/plain": [
       "<Figure size 432x288 with 1 Axes>"
      ]
     },
     "metadata": {
      "needs_background": "light"
     },
     "output_type": "display_data"
    }
   ],
   "source": [
    "%matplotlib inline\n",
    "import matplotlib.pyplot as plt\n",
    "\n",
    "# -10에서 10까지 100개의 간격으로 나뉜 배열을 생성\n",
    "x = np.linspace(-10, 10, 100)\n",
    "# 사인 함수를 사용하여 y배열을 생성\n",
    "y = np.sin(x)\n",
    "# plot함수는 한 배열의 값을 다른 배열에 대응해서 선 그래프를 그린다.\n",
    "plt.plot(x, y, marker=\"x\")"
   ]
  },
  {
   "cell_type": "markdown",
   "metadata": {},
   "source": [
    "### pandas\n",
    "pandas는 데이터 처리와 분석을 위한 파이썬 라이브러리. R의 data.frame을 본떠서 설계한 DataFrame이라는 데이터 구조를 기반.  \n",
    "엑셀의 스프레드시트와 비슷한 테이블 형태. pandas는 이 테이블을 수정하고 조작하는 다양한 기능을 제공.  \n",
    "특히, SQL처럼 테이블에 쿼리나 조인을 수행 가능.   \n",
    "전체 배열의 원소가 동일한 타입이어야 하는 NumPy와는 달리 각 열의 타입이 달라도 된다.  \n",
    "SQL, 엑셀 파일, CSV 파일 등을 데이터베이스에서 읽어 들일 수 있는 것이 pandas가 제공하는 유용한 기능 중 하나. "
   ]
  },
  {
   "cell_type": "code",
   "execution_count": 13,
   "metadata": {},
   "outputs": [
    {
     "data": {
      "text/html": [
       "<div>\n",
       "<style scoped>\n",
       "    .dataframe tbody tr th:only-of-type {\n",
       "        vertical-align: middle;\n",
       "    }\n",
       "\n",
       "    .dataframe tbody tr th {\n",
       "        vertical-align: top;\n",
       "    }\n",
       "\n",
       "    .dataframe thead th {\n",
       "        text-align: right;\n",
       "    }\n",
       "</style>\n",
       "<table border=\"1\" class=\"dataframe\">\n",
       "  <thead>\n",
       "    <tr style=\"text-align: right;\">\n",
       "      <th></th>\n",
       "      <th>Name</th>\n",
       "      <th>Location</th>\n",
       "      <th>Age</th>\n",
       "    </tr>\n",
       "  </thead>\n",
       "  <tbody>\n",
       "    <tr>\n",
       "      <th>0</th>\n",
       "      <td>0=2</td>\n",
       "      <td>Seoul</td>\n",
       "      <td>1</td>\n",
       "    </tr>\n",
       "    <tr>\n",
       "      <th>1</th>\n",
       "      <td>you</td>\n",
       "      <td>Paris</td>\n",
       "      <td>23</td>\n",
       "    </tr>\n",
       "    <tr>\n",
       "      <th>2</th>\n",
       "      <td>youngeun</td>\n",
       "      <td>Suwon</td>\n",
       "      <td>15</td>\n",
       "    </tr>\n",
       "    <tr>\n",
       "      <th>3</th>\n",
       "      <td>영은</td>\n",
       "      <td>London</td>\n",
       "      <td>24</td>\n",
       "    </tr>\n",
       "  </tbody>\n",
       "</table>\n",
       "</div>"
      ],
      "text/plain": [
       "       Name Location  Age\n",
       "0       0=2    Seoul    1\n",
       "1       you    Paris   23\n",
       "2  youngeun    Suwon   15\n",
       "3        영은   London   24"
      ]
     },
     "metadata": {},
     "output_type": "display_data"
    }
   ],
   "source": [
    "import pandas as pd\n",
    "\n",
    "# 회원 정보가 들어간 간단한 데이터셋을 생성\n",
    "data = {\"Name\" : [\"0=2\", \"you\", \"youngeun\", \"영은\"],\n",
    "       \"Location\" : [\"Seoul\", \"Paris\", \"Suwon\", \"London\"],\n",
    "       \"Age\" : [1, 23, 15, 24]\n",
    "       }\n",
    "\n",
    "data_pandas = pd.DataFrame(data)\n",
    "# IPython.display는 주피터 노트북에서 Dataframe을 미려하게 출력해 줌\n",
    "display(data_pandas)"
   ]
  },
  {
   "cell_type": "code",
   "execution_count": 14,
   "metadata": {},
   "outputs": [
    {
     "data": {
      "text/html": [
       "<div>\n",
       "<style scoped>\n",
       "    .dataframe tbody tr th:only-of-type {\n",
       "        vertical-align: middle;\n",
       "    }\n",
       "\n",
       "    .dataframe tbody tr th {\n",
       "        vertical-align: top;\n",
       "    }\n",
       "\n",
       "    .dataframe thead th {\n",
       "        text-align: right;\n",
       "    }\n",
       "</style>\n",
       "<table border=\"1\" class=\"dataframe\">\n",
       "  <thead>\n",
       "    <tr style=\"text-align: right;\">\n",
       "      <th></th>\n",
       "      <th>Name</th>\n",
       "      <th>Location</th>\n",
       "      <th>Age</th>\n",
       "    </tr>\n",
       "  </thead>\n",
       "  <tbody>\n",
       "    <tr>\n",
       "      <th>1</th>\n",
       "      <td>you</td>\n",
       "      <td>Paris</td>\n",
       "      <td>23</td>\n",
       "    </tr>\n",
       "    <tr>\n",
       "      <th>3</th>\n",
       "      <td>영은</td>\n",
       "      <td>London</td>\n",
       "      <td>24</td>\n",
       "    </tr>\n",
       "  </tbody>\n",
       "</table>\n",
       "</div>"
      ],
      "text/plain": [
       "  Name Location  Age\n",
       "1  you    Paris   23\n",
       "3   영은   London   24"
      ]
     },
     "metadata": {},
     "output_type": "display_data"
    }
   ],
   "source": [
    "# 테이블에 질의하는 방법\n",
    "# Age 열의 값이 20 이상인 행을 고른다.\n",
    "display(data_pandas[data_pandas.Age > 20])"
   ]
  },
  {
   "cell_type": "markdown",
   "metadata": {},
   "source": [
    "### mglearn\n",
    "이 라이브러리는 그래프나 데이터 적재와 관련한 상세 코드를 일일이 쓰지 않아도 되게끔 만든 유틸리티 함수, 그림을 그리거나 필요한 데이터를 바로 불러들이기 위해 사용. pip install mglearn 명령으로 설치."
   ]
  },
  {
   "cell_type": "code",
   "execution_count": 21,
   "metadata": {
    "scrolled": true
   },
   "outputs": [
    {
     "name": "stdout",
     "output_type": "stream",
     "text": [
      "Collecting mglearn\n",
      "  Downloading https://files.pythonhosted.org/packages/fb/01/8d3630ecc767c9de96a9c46e055f2a3a5f9e14a47d3d0348a36a5005fe67/mglearn-0.1.7.tar.gz (540kB)\n",
      "Requirement already satisfied: numpy in c:\\users\\wkgek\\desktop\\python36\\lib\\site-packages (from mglearn) (1.16.2)\n",
      "Requirement already satisfied: matplotlib in c:\\users\\wkgek\\desktop\\python36\\lib\\site-packages (from mglearn) (3.0.3)\n",
      "Requirement already satisfied: scikit-learn in c:\\users\\wkgek\\desktop\\python36\\lib\\site-packages (from mglearn) (0.20.3)\n",
      "Requirement already satisfied: pandas in c:\\users\\wkgek\\desktop\\python36\\lib\\site-packages (from mglearn) (0.24.2)\n",
      "Collecting pillow (from mglearn)\n",
      "  Downloading https://files.pythonhosted.org/packages/4e/d9/468422371e6fcf02d6a162ee30db4552221de8b2b3ff837363bf54cbb347/Pillow-6.1.0-cp36-cp36m-win_amd64.whl (2.0MB)\n",
      "Requirement already satisfied: cycler in c:\\users\\wkgek\\desktop\\python36\\lib\\site-packages (from mglearn) (0.10.0)\n",
      "Collecting imageio (from mglearn)\n",
      "  Downloading https://files.pythonhosted.org/packages/af/0a/943c965d372dae0b1f1482677d29030ab834351a61a9a632fd62f27f1523/imageio-2.5.0-py3-none-any.whl (3.3MB)\n",
      "Requirement already satisfied: python-dateutil>=2.1 in c:\\users\\wkgek\\desktop\\python36\\lib\\site-packages (from matplotlib->mglearn) (2.8.0)\n",
      "Requirement already satisfied: kiwisolver>=1.0.1 in c:\\users\\wkgek\\desktop\\python36\\lib\\site-packages (from matplotlib->mglearn) (1.0.1)\n",
      "Requirement already satisfied: pyparsing!=2.0.4,!=2.1.2,!=2.1.6,>=2.0.1 in c:\\users\\wkgek\\desktop\\python36\\lib\\site-packages (from matplotlib->mglearn) (2.3.1)\n",
      "Requirement already satisfied: scipy>=0.13.3 in c:\\users\\wkgek\\desktop\\python36\\lib\\site-packages (from scikit-learn->mglearn) (1.2.1)\n",
      "Requirement already satisfied: pytz>=2011k in c:\\users\\wkgek\\desktop\\python36\\lib\\site-packages (from pandas->mglearn) (2018.9)\n",
      "Requirement already satisfied: six in c:\\users\\wkgek\\desktop\\python36\\lib\\site-packages (from cycler->mglearn) (1.12.0)\n",
      "Requirement already satisfied: setuptools in c:\\users\\wkgek\\desktop\\python36\\lib\\site-packages (from kiwisolver>=1.0.1->matplotlib->mglearn) (40.6.2)\n",
      "Building wheels for collected packages: mglearn\n",
      "  Building wheel for mglearn (setup.py): started\n",
      "  Building wheel for mglearn (setup.py): finished with status 'done'\n",
      "  Created wheel for mglearn: filename=mglearn-0.1.7-py2.py3-none-any.whl size=582710 sha256=b201f7b6cf7c83819a16b4ce60a6abc9badce2ec3f5f2a359441ecb062b9bba3\n",
      "  Stored in directory: C:\\Users\\wkgek\\AppData\\Local\\pip\\Cache\\wheels\\74\\cf\\8d\\04f4932d15854a36726c6210763c7127e62de28f5c8ddfcf3b\n",
      "Successfully built mglearn\n",
      "Installing collected packages: pillow, imageio, mglearn\n",
      "Successfully installed imageio-2.5.0 mglearn-0.1.7 pillow-6.1.0\n"
     ]
    }
   ],
   "source": [
    "!pip install mglearn\n",
    "from IPython.display import display\n",
    "import numpy as np\n",
    "import matplotlib.pyplot as plt\n",
    "import pandas as pd\n",
    "import mglearn"
   ]
  },
  {
   "cell_type": "markdown",
   "metadata": {},
   "source": [
    "## 소프트웨어 버전"
   ]
  },
  {
   "cell_type": "code",
   "execution_count": 22,
   "metadata": {},
   "outputs": [
    {
     "data": {
      "text/plain": [
       "'3.6.8 (tags/v3.6.8:3c6b436a57, Dec 24 2018, 00:16:47) [MSC v.1916 64 bit (AMD64)]'"
      ]
     },
     "execution_count": 22,
     "metadata": {},
     "output_type": "execute_result"
    }
   ],
   "source": [
    "import sys\n",
    "sys.version #python 버전"
   ]
  },
  {
   "cell_type": "code",
   "execution_count": 25,
   "metadata": {},
   "outputs": [
    {
     "data": {
      "text/plain": [
       "'0.24.2'"
      ]
     },
     "execution_count": 25,
     "metadata": {},
     "output_type": "execute_result"
    }
   ],
   "source": [
    "pd.__version__"
   ]
  },
  {
   "cell_type": "markdown",
   "metadata": {},
   "source": [
    "## 첫 번째 모델 : 붓꽃 데이터\n",
    "상황 : 발견한 붓꽃의 품종을 알고 싶어서, 붓꽃의 꽃잎과 꽃받침의 폭과 길이를 측정. 이미 가지고 있는 setosa, versicolor, virginica 종으로 분류한 붓꽃 데이터를 가지고 발견한 붓꽃이 어떤 종인지 구분하기.  \n",
    "> 붓꽃의 품종을 정확히 분류한 데이터를 가지고 있으므로 지도학습에 속함. 즉 분류 classification 문제, 출력될 수 있는 값들을 클래스 class 라고 함.\n",
    "\n",
    "데이터 포인트 하나에 대한 기대 출력은 꽃의 품종. 특정 데이터 포인트에 대한 출력, 즉 품종은 **레이블 label** 이라고 한다"
   ]
  },
  {
   "cell_type": "markdown",
   "metadata": {},
   "source": [
    "### 데이터 적재\n",
    "붓꽃 데이터셋을 load_iris() 함수를 이용하여 적재"
   ]
  },
  {
   "cell_type": "code",
   "execution_count": 1,
   "metadata": {
    "ExecuteTime": {
     "end_time": "2019-09-14T20:57:37.715842Z",
     "start_time": "2019-09-14T20:57:27.389152Z"
    }
   },
   "outputs": [],
   "source": [
    "from sklearn.datasets import load_iris\n",
    "iris_dataset = load_iris()"
   ]
  },
  {
   "cell_type": "markdown",
   "metadata": {},
   "source": [
    "iris 객체는 파이썬의 딕셔너리와 유사한 bunch 클래스의 객체로, 키와 값으로 구성"
   ]
  },
  {
   "cell_type": "code",
   "execution_count": 2,
   "metadata": {
    "ExecuteTime": {
     "end_time": "2019-09-14T20:57:37.770838Z",
     "start_time": "2019-09-14T20:57:37.759839Z"
    }
   },
   "outputs": [
    {
     "data": {
      "text/plain": [
       "dict_keys(['data', 'target', 'target_names', 'DESCR', 'feature_names', 'filename'])"
      ]
     },
     "execution_count": 2,
     "metadata": {},
     "output_type": "execute_result"
    }
   ],
   "source": [
    "iris_dataset.keys()"
   ]
  },
  {
   "cell_type": "code",
   "execution_count": 3,
   "metadata": {
    "ExecuteTime": {
     "end_time": "2019-09-14T20:57:37.815837Z",
     "start_time": "2019-09-14T20:57:37.811838Z"
    }
   },
   "outputs": [
    {
     "name": "stdout",
     "output_type": "stream",
     "text": [
      ".. _iris_dataset:\n",
      "\n",
      "Iris plants dataset\n",
      "--------------------\n",
      "\n",
      "**Data Set Characteristics:**\n",
      "\n",
      "    :Number of Instances: 150 (50 in each of three classes)\n",
      "    :Number of Attributes: 4 numeric, pre\n",
      "...\n"
     ]
    }
   ],
   "source": [
    "print(iris_dataset['DESCR'][:193] + \"\\n...\")"
   ]
  },
  {
   "cell_type": "markdown",
   "metadata": {},
   "source": [
    "target_names의 값은 예측하려는 붓꽃 품종의 이름을 문자열로 가지고 있다."
   ]
  },
  {
   "cell_type": "code",
   "execution_count": 4,
   "metadata": {
    "ExecuteTime": {
     "end_time": "2019-09-14T20:57:37.855835Z",
     "start_time": "2019-09-14T20:57:37.851836Z"
    }
   },
   "outputs": [
    {
     "name": "stdout",
     "output_type": "stream",
     "text": [
      "타킷의 이름:['setosa' 'versicolor' 'virginica']\n"
     ]
    }
   ],
   "source": [
    "print(\"타킷의 이름:{}\".format(iris_dataset['target_names']))"
   ]
  },
  {
   "cell_type": "markdown",
   "metadata": {},
   "source": [
    "feature_names의 값은 각 특성을 설명하는 문자열 리스트"
   ]
  },
  {
   "cell_type": "code",
   "execution_count": 5,
   "metadata": {
    "ExecuteTime": {
     "end_time": "2019-09-14T20:57:37.895834Z",
     "start_time": "2019-09-14T20:57:37.886837Z"
    }
   },
   "outputs": [
    {
     "name": "stdout",
     "output_type": "stream",
     "text": [
      "특성의 이름: \n",
      "['sepal length (cm)', 'sepal width (cm)', 'petal length (cm)', 'petal width (cm)']\n"
     ]
    }
   ],
   "source": [
    "print(\"특성의 이름: \\n{}\".format(iris_dataset['feature_names']))"
   ]
  },
  {
   "cell_type": "markdown",
   "metadata": {},
   "source": [
    "실제 데이터는 target과 data 필드에 들어있다. data는 꽃잎의 길이와 폭, 꽃받침의 길이와 폭을 수치 값으로 가지고 있는 NumPy 배열이다."
   ]
  },
  {
   "cell_type": "code",
   "execution_count": 6,
   "metadata": {
    "ExecuteTime": {
     "end_time": "2019-09-14T20:57:37.939835Z",
     "start_time": "2019-09-14T20:57:37.932834Z"
    }
   },
   "outputs": [
    {
     "name": "stdout",
     "output_type": "stream",
     "text": [
      "data의 타입: <class 'numpy.ndarray'>\n"
     ]
    }
   ],
   "source": [
    "print(\"data의 타입: {}\".format(type(iris_dataset['data'])))"
   ]
  },
  {
   "cell_type": "markdown",
   "metadata": {},
   "source": [
    "data 배열의 행은 개개의 꽃이 되고, 열은 각 꽃에서 구한 네 개의 측정치다."
   ]
  },
  {
   "cell_type": "code",
   "execution_count": 7,
   "metadata": {
    "ExecuteTime": {
     "end_time": "2019-09-14T20:57:37.984831Z",
     "start_time": "2019-09-14T20:57:37.978832Z"
    }
   },
   "outputs": [
    {
     "name": "stdout",
     "output_type": "stream",
     "text": [
      "data의 크기: (150, 4)\n"
     ]
    }
   ],
   "source": [
    "print(\"data의 크기: {}\".format(iris_dataset['data'].shape))"
   ]
  },
  {
   "cell_type": "markdown",
   "metadata": {},
   "source": [
    "이 배열은 150개의 붓꽃 데이터를 가지고 있다. 머신러닝에서 각 아이템은 샘플이라 하고, 속성은 특성이라 부른다. 그러므로 data 배열의 크기는 샘플의 수에 특성의 수를 곱한 값이다."
   ]
  },
  {
   "cell_type": "code",
   "execution_count": 8,
   "metadata": {
    "ExecuteTime": {
     "end_time": "2019-09-14T20:57:38.033829Z",
     "start_time": "2019-09-14T20:57:38.026829Z"
    }
   },
   "outputs": [
    {
     "name": "stdout",
     "output_type": "stream",
     "text": [
      "[[5.1 3.5 1.4 0.2]\n",
      " [4.9 3.  1.4 0.2]\n",
      " [4.7 3.2 1.3 0.2]\n",
      " [4.6 3.1 1.5 0.2]\n",
      " [5.  3.6 1.4 0.2]]\n"
     ]
    }
   ],
   "source": [
    "print(iris_dataset['data'][:5])  # 데이터의 첫 다섯행"
   ]
  },
  {
   "cell_type": "markdown",
   "metadata": {},
   "source": [
    "target 배열도 샘플 붓꽃의 품종을 담은 NumPy 배열"
   ]
  },
  {
   "cell_type": "code",
   "execution_count": 9,
   "metadata": {
    "ExecuteTime": {
     "end_time": "2019-09-14T20:57:38.097827Z",
     "start_time": "2019-09-14T20:57:38.091828Z"
    },
    "scrolled": true
   },
   "outputs": [
    {
     "data": {
      "text/plain": [
       "numpy.ndarray"
      ]
     },
     "execution_count": 9,
     "metadata": {},
     "output_type": "execute_result"
    }
   ],
   "source": [
    "type(iris_dataset['target'])"
   ]
  },
  {
   "cell_type": "markdown",
   "metadata": {},
   "source": [
    "target의 각 원소가 붓꽃 하나에 해당하는 1차원 배열"
   ]
  },
  {
   "cell_type": "code",
   "execution_count": 10,
   "metadata": {
    "ExecuteTime": {
     "end_time": "2019-09-14T20:57:38.139826Z",
     "start_time": "2019-09-14T20:57:38.132827Z"
    }
   },
   "outputs": [
    {
     "data": {
      "text/plain": [
       "(150,)"
      ]
     },
     "execution_count": 10,
     "metadata": {},
     "output_type": "execute_result"
    }
   ],
   "source": [
    "iris_dataset['target'].shape"
   ]
  },
  {
   "cell_type": "markdown",
   "metadata": {},
   "source": [
    "붓꽃의 종류는 0에서 2까지의 정수"
   ]
  },
  {
   "cell_type": "code",
   "execution_count": 11,
   "metadata": {
    "ExecuteTime": {
     "end_time": "2019-09-14T20:57:38.180825Z",
     "start_time": "2019-09-14T20:57:38.174826Z"
    }
   },
   "outputs": [
    {
     "data": {
      "text/plain": [
       "array([0, 0, 0, 0, 0, 0, 0, 0, 0, 0, 0, 0, 0, 0, 0, 0, 0, 0, 0, 0, 0, 0,\n",
       "       0, 0, 0, 0, 0, 0, 0, 0, 0, 0, 0, 0, 0, 0, 0, 0, 0, 0, 0, 0, 0, 0,\n",
       "       0, 0, 0, 0, 0, 0, 1, 1, 1, 1, 1, 1, 1, 1, 1, 1, 1, 1, 1, 1, 1, 1,\n",
       "       1, 1, 1, 1, 1, 1, 1, 1, 1, 1, 1, 1, 1, 1, 1, 1, 1, 1, 1, 1, 1, 1,\n",
       "       1, 1, 1, 1, 1, 1, 1, 1, 1, 1, 1, 1, 2, 2, 2, 2, 2, 2, 2, 2, 2, 2,\n",
       "       2, 2, 2, 2, 2, 2, 2, 2, 2, 2, 2, 2, 2, 2, 2, 2, 2, 2, 2, 2, 2, 2,\n",
       "       2, 2, 2, 2, 2, 2, 2, 2, 2, 2, 2, 2, 2, 2, 2, 2, 2, 2])"
      ]
     },
     "execution_count": 11,
     "metadata": {},
     "output_type": "execute_result"
    }
   ],
   "source": [
    "iris_dataset['target']"
   ]
  },
  {
   "cell_type": "markdown",
   "metadata": {},
   "source": [
    "숫자의 의미는 iris['target_names'] 배열에서 확인 가능. 0은 setosa, 1은 versicolor, 2는 virginica"
   ]
  },
  {
   "cell_type": "markdown",
   "metadata": {},
   "source": [
    "### 성과 측정 : 훈련 데이터와 테스트 데이터\n",
    "머신러닝 모델을 만들고 성능을 측정해야 한다. 모델의 예측을 신뢰할 수 있는지 확인하는 과정.  \n",
    "하지만 모델을 구축할 때 사용한 데이터는 평가 목적으로 사용 불가, 훈련 데이터를 모두 기억해서 정확하게 맞출 수 있기 때문이다. 이런 상황은 모델이 일반화 되지 못한 것.  \n",
    "모델의 성능을 측정하기 위해 : 레이블을 알고 있는 새 데이터를 모델에 적용해봐야 한다. 이를 위해 레이블된 데이터를 두 그룹으로 나눈다. 하나는 훈련 데이터(훈련 세트)로써 모델을 구축하는 데, 다른 하나는 테스트 데이터(데이터 세트 또는 홀드아웃 세트)로써 모델의 작동을 측정하는 데 사용한다.  \n",
    "scikit-learn은 데이터셋을 섞어서 나눠주는 train_test_split 함수를 제공! 전체 행 중 75%를 레이블 데이터와 함께 훈련 세트로 뽑는다. 나머지 25%는 레이블 데이터와 함께 테스트 세트가 된다.  \n",
    "데이터는 대문자 X로 표시하고, 레이블은 소문자 y로 표기한다. 수학의 표기 방식을 따르지만 데이터는 2차원 배열(행렬)이므로 대문자 X를, 타깃은 1차원 배열(벡터)이므로 소문자 y를 사용한다."
   ]
  },
  {
   "cell_type": "code",
   "execution_count": 13,
   "metadata": {
    "ExecuteTime": {
     "end_time": "2019-09-14T21:00:07.983522Z",
     "start_time": "2019-09-14T21:00:07.977522Z"
    }
   },
   "outputs": [],
   "source": [
    "from sklearn.model_selection import train_test_split\n",
    "X_train, X_test, y_train, y_test = train_test_split(\n",
    "    iris_dataset['data'], iris_dataset['target'], random_state=0 )"
   ]
  },
  {
   "cell_type": "markdown",
   "metadata": {},
   "source": [
    "train_test_split 함수로 데이터를 나누기 전에 유사 난수 생성기를 사용해 데이터셋을 무작위로 섞어야 한다. 만약 섞지 않은 상태로 데이터셋 뒤쪽을 테스트 세트로 이용하면, 그 데이터의 레이블은 모두 2가 된다. (데이터 포인트가 레이블 순서대로 정렬되어 있기 때문에)  \n",
    "이 함수를 여러 번 실행해도 결과가 똑같이 나오도록 유사 난수 생성기에 넣을 난수 초깃값을 random_state 매개변수로 전달한다. 이렇게 하면 항상 같은 결과를 출력할 수 있다.  "
   ]
  },
  {
   "cell_type": "code",
   "execution_count": 15,
   "metadata": {
    "ExecuteTime": {
     "end_time": "2019-09-14T21:05:56.179467Z",
     "start_time": "2019-09-14T21:05:56.173458Z"
    }
   },
   "outputs": [
    {
     "name": "stdout",
     "output_type": "stream",
     "text": [
      "X_train 크기: (112, 4)\n",
      "y_train 크기: (112,)\n"
     ]
    }
   ],
   "source": [
    "print(\"X_train 크기: {}\".format(X_train.shape))\n",
    "print(\"y_train 크기: {}\".format(y_train.shape))"
   ]
  },
  {
   "cell_type": "code",
   "execution_count": 16,
   "metadata": {
    "ExecuteTime": {
     "end_time": "2019-09-14T21:06:31.019570Z",
     "start_time": "2019-09-14T21:06:31.015571Z"
    }
   },
   "outputs": [
    {
     "name": "stdout",
     "output_type": "stream",
     "text": [
      "X_test 크기: (38, 4)\n",
      "y_test 크기: (38,)\n"
     ]
    }
   ],
   "source": [
    "print(\"X_test 크기: {}\".format(X_test.shape))\n",
    "print(\"y_test 크기: {}\".format(y_test.shape))"
   ]
  },
  {
   "cell_type": "markdown",
   "metadata": {},
   "source": [
    "### 가장 먼저 할 일 : 데이터 살펴보기"
   ]
  },
  {
   "cell_type": "code",
   "execution_count": null,
   "metadata": {},
   "outputs": [],
   "source": []
  }
 ],
 "metadata": {
  "kernelspec": {
   "display_name": "Python 3",
   "language": "python",
   "name": "python3"
  },
  "language_info": {
   "codemirror_mode": {
    "name": "ipython",
    "version": 3
   },
   "file_extension": ".py",
   "mimetype": "text/x-python",
   "name": "python",
   "nbconvert_exporter": "python",
   "pygments_lexer": "ipython3",
   "version": "3.7.3"
  },
  "toc": {
   "base_numbering": 1,
   "nav_menu": {
    "height": "148px",
    "width": "278px"
   },
   "number_sections": true,
   "sideBar": true,
   "skip_h1_title": false,
   "title_cell": "Table of Contents",
   "title_sidebar": "Contents",
   "toc_cell": false,
   "toc_position": {
    "height": "calc(100% - 180px)",
    "left": "10px",
    "top": "150px",
    "width": "165px"
   },
   "toc_section_display": true,
   "toc_window_display": true
  },
  "varInspector": {
   "cols": {
    "lenName": 16,
    "lenType": 16,
    "lenVar": 40
   },
   "kernels_config": {
    "python": {
     "delete_cmd_postfix": "",
     "delete_cmd_prefix": "del ",
     "library": "var_list.py",
     "varRefreshCmd": "print(var_dic_list())"
    },
    "r": {
     "delete_cmd_postfix": ") ",
     "delete_cmd_prefix": "rm(",
     "library": "var_list.r",
     "varRefreshCmd": "cat(var_dic_list()) "
    }
   },
   "position": {
    "height": "144.444px",
    "left": "1763.33px",
    "right": "20px",
    "top": "122px",
    "width": "350px"
   },
   "types_to_exclude": [
    "module",
    "function",
    "builtin_function_or_method",
    "instance",
    "_Feature"
   ],
   "window_display": false
  }
 },
 "nbformat": 4,
 "nbformat_minor": 2
}
