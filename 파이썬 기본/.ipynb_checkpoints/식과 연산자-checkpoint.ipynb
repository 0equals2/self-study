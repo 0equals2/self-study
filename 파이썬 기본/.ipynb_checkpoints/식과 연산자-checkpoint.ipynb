{
 "cells": [
  {
   "cell_type": "markdown",
   "metadata": {
    "toc": true
   },
   "source": [
    "<h1>Table of Contents<span class=\"tocSkip\"></span></h1>\n",
    "<div class=\"toc\"><ul class=\"toc-item\"><li><span><a href=\"#식과-연산자\" data-toc-modified-id=\"식과-연산자-1\"><span class=\"toc-item-num\">1&nbsp;&nbsp;</span>식과 연산자</a></span><ul class=\"toc-item\"><li><span><a href=\"#식과-연산자\" data-toc-modified-id=\"식과-연산자-1.1\"><span class=\"toc-item-num\">1.1&nbsp;&nbsp;</span>식과 연산자</a></span></li><li><span><a href=\"#산술식\" data-toc-modified-id=\"산술식-1.2\"><span class=\"toc-item-num\">1.2&nbsp;&nbsp;</span>산술식</a></span></li><li><span><a href=\"#파이썬-연산자\" data-toc-modified-id=\"파이썬-연산자-1.3\"><span class=\"toc-item-num\">1.3&nbsp;&nbsp;</span>파이썬 연산자</a></span></li><li><span><a href=\"#우선-순위와-결합-법칙\" data-toc-modified-id=\"우선-순위와-결합-법칙-1.4\"><span class=\"toc-item-num\">1.4&nbsp;&nbsp;</span>우선 순위와 결합 법칙</a></span></li><li><span><a href=\"#연산자-중복\" data-toc-modified-id=\"연산자-중복-1.5\"><span class=\"toc-item-num\">1.5&nbsp;&nbsp;</span>연산자 중복</a></span></li></ul></li><li><span><a href=\"#연산자1\" data-toc-modified-id=\"연산자1-2\"><span class=\"toc-item-num\">2&nbsp;&nbsp;</span>연산자1</a></span><ul class=\"toc-item\"><li><span><a href=\"#대입-연산자\" data-toc-modified-id=\"대입-연산자-2.1\"><span class=\"toc-item-num\">2.1&nbsp;&nbsp;</span>대입 연산자</a></span></li><li><span><a href=\"#튜플-기반-대입-연산\" data-toc-modified-id=\"튜플-기반-대입-연산-2.2\"><span class=\"toc-item-num\">2.2&nbsp;&nbsp;</span>튜플 기반 대입 연산</a></span></li><li><span><a href=\"#산술-연산자\" data-toc-modified-id=\"산술-연산자-2.3\"><span class=\"toc-item-num\">2.3&nbsp;&nbsp;</span>산술 연산자</a></span></li><li><span><a href=\"#복소수와-산술-연산\" data-toc-modified-id=\"복소수와-산술-연산-2.4\"><span class=\"toc-item-num\">2.4&nbsp;&nbsp;</span>복소수와 산술 연산</a></span></li><li><span><a href=\"#관계-연산자\" data-toc-modified-id=\"관계-연산자-2.5\"><span class=\"toc-item-num\">2.5&nbsp;&nbsp;</span>관계 연산자</a></span></li></ul></li><li><span><a href=\"#연산자2\" data-toc-modified-id=\"연산자2-3\"><span class=\"toc-item-num\">3&nbsp;&nbsp;</span>연산자2</a></span><ul class=\"toc-item\"><li><span><a href=\"#논리-연산자\" data-toc-modified-id=\"논리-연산자-3.1\"><span class=\"toc-item-num\">3.1&nbsp;&nbsp;</span>논리 연산자</a></span></li><li><span><a href=\"#시프트-연산자\" data-toc-modified-id=\"시프트-연산자-3.2\"><span class=\"toc-item-num\">3.2&nbsp;&nbsp;</span>시프트 연산자</a></span></li><li><span><a href=\"#비트-연산자\" data-toc-modified-id=\"비트-연산자-3.3\"><span class=\"toc-item-num\">3.3&nbsp;&nbsp;</span>비트 연산자</a></span></li><li><span><a href=\"#파이썬에서-지원하지-않는-기본-연산자\" data-toc-modified-id=\"파이썬에서-지원하지-않는-기본-연산자-3.4\"><span class=\"toc-item-num\">3.4&nbsp;&nbsp;</span>파이썬에서 지원하지 않는 기본 연산자</a></span></li></ul></li></ul></div>"
   ]
  },
  {
   "cell_type": "markdown",
   "metadata": {},
   "source": [
    "# 식과 연산자\n",
    "## 식과 연산자\n",
    "* 프로그램에서 실행하는 명령을 코드에서는 **문장**이라 하며 문장의 한 종류인 **식**은 계산을 표현하는 기본 수단\n",
    "* 식의 평가는 **결합 법칙과 우선 순위** 등을 고려해서 수행\n",
    "* 프로그램의 필수 요소 중 하나는 값의 변경 사항을 관리하는 **변수**이며 변수의 변경은 대입문을 통해 이뤄짐 (a = b)\n",
    "* 일반적인 대입문은 값을 한 메모리 영역에서 다른 영역으로 **복사**\n",
    "* 대입문은 평가될 표현식과 평가 결과가 저장될 목적지로 구분 (l-value 저장소 = r-value 표현식)\n",
    "* 연산 과정은 함수나 객체의 메소드로 은폐 가능"
   ]
  },
  {
   "cell_type": "markdown",
   "metadata": {},
   "source": [
    "## 산술식\n",
    "* 고급 프로그래밍 언어들은 수학과 유사한 산술식의 자동 평가가 언어의 주요 목적 중 하나\n",
    "* 산술식은 연산자, 피연산자, 괄호, 함수 호출자로 구성\n",
    "* 연산자의 위치에 따라 전위식, 중위식, 후위식으로 부름\n",
    "* 피연산자의 개수에 따라 한 개만 갖는 단항 연산자와 두 개를 갖는 이항 연산자로 구분\n",
    "* 이항 연산자는 중위식으로 표현하고 단항 연산자는 전위식 또는 후위식으로 표현\n",
    "* 파이썬의 단항 연산자는 비트 반전 ~, 음수 - / 양스 + 부호 표현만 존재\n",
    "* 산술식의 목적은 산술 계산 표현\n",
    "* 기본 연산은 동시성을 갖지 않으므로 한 시점에 단 하나의 연산만 수행"
   ]
  },
  {
   "cell_type": "markdown",
   "metadata": {},
   "source": [
    "## 파이썬 연산자\n",
    "* 파이썬은 C언어와 유사한 연산자 제공\n",
    "* 논리 연산은 기호 대신 not or and 키워드를 사용\n",
    "* 객체의 식별자를 비교하는 is , not is 와 컨테이너에 포함된 요소를 검사하는 in, not in 추가\n",
    "\n",
    "** (거듭제곱)  * (곱셈) /(나눗셈) //(정수 결과 나눗셈) %(나머지) <<(왼쪽 비트 이동) >>(오른쪽 비트 이동) &(비트 단위 곱셈) ^(비트 단위 배타적 덧셈) | (비트 단위 덧셈) < (작다) > (크다) <= (작거나 같다) >= (크거나 같다) ==(같다) !=(같지 않다) is(같다) is not(같지 않다) in(컨테이너 포함 비교) not in(컨테이너 포함 비교) not(논리 부정) and(논리 곱) or(논리 합) = += -= *= /= //= %= **= (대입, 복합대입[해당 연산 수행 후 대입])\n",
    "\n",
    "     == != 값에 대한 비교\n",
    "     is is not 참조에 대한 비교\n",
    "     in not in 컨테이너 포함 비교"
   ]
  },
  {
   "cell_type": "markdown",
   "metadata": {},
   "source": [
    "## 우선 순위와 결합 법칙\n",
    "* 우선 순위는 식에서 연산자들의 계산 순서를 결정\n",
    "* 산술 > 시프트 > 비트 > 비교 > 논리 연산자 순\n",
    "* 결합 법칙은 동일한 우선 순위 연산자들이 인접해 나타날 때 어느 쪽이 먼저 평가될지 결정\n",
    "* 일반적으로는 왼쪽에서 오른쪽으로 적용\n",
    "* 괄호는 우선 순위와 결합 법칙 변경 > 괄호 우선"
   ]
  },
  {
   "cell_type": "code",
   "execution_count": 4,
   "metadata": {
    "ExecuteTime": {
     "end_time": "2019-09-15T17:36:09.868793Z",
     "start_time": "2019-09-15T17:36:09.862794Z"
    }
   },
   "outputs": [
    {
     "name": "stdout",
     "output_type": "stream",
     "text": [
      "16 5 True 5\n"
     ]
    }
   ],
   "source": [
    "a = 1 << 2 * 2 #1<<4    10000(2) = 16\n",
    "b = 1 | 2 << 1  \n",
    "c = 0 == 1 >> 1 # 1을 오른쪽으로 한번 시프트하면 0이 됨\n",
    "d = 2 * 3 and 4 | 2 >>  1 #산술연산 먼저 6, 비트 연산 다음 5, and는 둘 중 작은 값 선택\n",
    "\n",
    "print (a, b, c, d)"
   ]
  },
  {
   "cell_type": "markdown",
   "metadata": {},
   "source": [
    "## 연산자 중복\n",
    "* 연산자 중복은 동일한 연산 기호가 상황에 따라 다른 연산을 수행하는 것\n",
    "* 시스템은 기본적으로 정수 연산과 실수 연산을 구분하므로 연산 규칙도 개별적으로 정의해야 함\n",
    "* 사용자는 수학적 의미와 동일하게 같은 연산 기호 사용 요구\n",
    "* 의미가 유사한 연산에 동일한 기호를 사용하면 일관성 유지\n",
    "* 중복 연산자의 선택은 피연산자의 타입에 의존"
   ]
  },
  {
   "cell_type": "markdown",
   "metadata": {},
   "source": [
    "# 연산자1\n",
    "## 대입 연산자\n",
    "* 대입 연산자 = 는 프로그래밍 언어의 중심 구조 중 하나\n",
    "* 변수에 저장된 참조를 동적으로 변경하는 매커니즘 제공\n",
    "* 대부분의 연산은 최종 결과를 얻기까지 여러 연산이 유기적으로 결합\n",
    "* 대입 연산이 연속으로 표현되면 객체의 참조를 하나 이상의 목적지 변수에 대입\n",
    "* 복합 대입 연산자는 다른 연산자와 대입 연산자가 결합된 축약 형태"
   ]
  },
  {
   "cell_type": "code",
   "execution_count": 5,
   "metadata": {
    "ExecuteTime": {
     "end_time": "2019-09-15T17:43:51.660138Z",
     "start_time": "2019-09-15T17:43:51.656141Z"
    }
   },
   "outputs": [],
   "source": [
    "a = b = c = 10\n",
    "a += 1 \n",
    "b *= 2+3 #오른쪽 식이 먼저 평가됨"
   ]
  },
  {
   "cell_type": "markdown",
   "metadata": {},
   "source": [
    "## 튜플 기반 대입 연산\n",
    "* 대입 연산은 1:1 만 지원, r-value가 2개 이상이면 내부적으로 튜플 객체 이용\n",
    "* r-value에 위치한 튜플 객체의 요소 개수와 l-value에 위치한 변수의 개수 검사\n",
    "* 변수 개수와 튜플의 요소의 개수가 동일하면 튜플 객체의 요소를 풀어 각 변수에 차례로 대입\n",
    "* 변수가 하나면 튜플 객체의 참조 대입\n",
    "* 그 외는 오류"
   ]
  },
  {
   "cell_type": "code",
   "execution_count": 6,
   "metadata": {
    "ExecuteTime": {
     "end_time": "2019-09-15T17:46:24.126509Z",
     "start_time": "2019-09-15T17:46:24.119511Z"
    }
   },
   "outputs": [],
   "source": [
    "a = 2\n",
    "b = 4\n",
    "c = 6\n",
    "\n",
    "first, second, third = a * 10, b * 20, c * 30 # 튜플 객체가 만들어짐, 왼쪽 변수의 개수에 맞춰 대입\n",
    "obj = a * 10, b * 20, c * 30"
   ]
  },
  {
   "cell_type": "code",
   "execution_count": 7,
   "metadata": {
    "ExecuteTime": {
     "end_time": "2019-09-15T17:46:44.745849Z",
     "start_time": "2019-09-15T17:46:44.741859Z"
    }
   },
   "outputs": [
    {
     "name": "stdout",
     "output_type": "stream",
     "text": [
      "20 80 180 (20, 80, 180)\n"
     ]
    }
   ],
   "source": [
    "print(first, second,third, obj)"
   ]
  },
  {
   "cell_type": "code",
   "execution_count": 8,
   "metadata": {
    "ExecuteTime": {
     "end_time": "2019-09-15T17:47:58.339478Z",
     "start_time": "2019-09-15T17:47:58.328480Z"
    }
   },
   "outputs": [
    {
     "data": {
      "text/plain": [
       "int"
      ]
     },
     "execution_count": 8,
     "metadata": {},
     "output_type": "execute_result"
    }
   ],
   "source": [
    "type(first)"
   ]
  },
  {
   "cell_type": "markdown",
   "metadata": {},
   "source": [
    "## 산술 연산자\n",
    "* 산술 연산자는 모든 연산의 기본\n",
    "* 덧셈, 뺼셈, 곱셈, 단항 부호는 C언어와 동일\n",
    "* 나눗셈 / 는 실수 결과 , // 정수 결과 반환 > 단 //는 피연산자 타입이 실수면 소수점 0 포함\n",
    "* 나머지 %는 나눗셈 연산 결과에서 나머지를 반환하는 것으로 실수 타입에도 적용 가능\n",
    "* 거듭 제곱 연산자로 ** 지원"
   ]
  },
  {
   "cell_type": "code",
   "execution_count": 9,
   "metadata": {
    "ExecuteTime": {
     "end_time": "2019-09-16T14:46:46.720278Z",
     "start_time": "2019-09-16T14:46:46.713280Z"
    }
   },
   "outputs": [],
   "source": [
    "a = 3.0 // 2\n",
    "b = 3.14 / 1.2\n",
    "c = 4.2 % 3.3\n",
    "d = 2 **3"
   ]
  },
  {
   "cell_type": "markdown",
   "metadata": {},
   "source": [
    "## 복소수와 산술 연산\n",
    "* 덧셈 : (a + bi) + (c +di)  = (a+ c) + (b + d)i\n",
    "* 뺌셈 : (a + bi) - (c + di) = (a - c) + (b - d)i\n",
    "* 곱셈 : (a + bi) * (c + di) = (ac - bd) + (bc + ad)i\n",
    "* 나눗셈 : (a + bi) / (c + di) = ((ac + bd) / (c^2 + d^2)) + ((bc - ad) / (c^2 + d^2))"
   ]
  },
  {
   "cell_type": "markdown",
   "metadata": {},
   "source": [
    "## 관계 연산자\n",
    "* 두 피연산자의 값을 비교하는 연산으로 관계식에 적용\n",
    "* 관계식의 결과는 참 또는 거짓 중 하나\n",
    "* 산술식의 결과가 논리 결과와 호환될 때 결과에 대한 평가를 보다 명확히 표현하는 수단으로 사용\n",
    "* 연산 기호와 의미는 C언어와 동일"
   ]
  },
  {
   "cell_type": "code",
   "execution_count": 10,
   "metadata": {
    "ExecuteTime": {
     "end_time": "2019-09-16T14:52:14.143724Z",
     "start_time": "2019-09-16T14:52:14.139723Z"
    }
   },
   "outputs": [],
   "source": [
    "a = 3\n",
    "b = 2\n",
    "c = 1\n",
    "\n",
    "d = a> b > c\n",
    "e = a + b >= 5"
   ]
  },
  {
   "cell_type": "code",
   "execution_count": 11,
   "metadata": {
    "ExecuteTime": {
     "end_time": "2019-09-16T14:52:15.322685Z",
     "start_time": "2019-09-16T14:52:15.313688Z"
    }
   },
   "outputs": [
    {
     "data": {
      "text/plain": [
       "True"
      ]
     },
     "execution_count": 11,
     "metadata": {},
     "output_type": "execute_result"
    }
   ],
   "source": [
    "d"
   ]
  },
  {
   "cell_type": "code",
   "execution_count": 12,
   "metadata": {
    "ExecuteTime": {
     "end_time": "2019-09-16T14:52:16.255655Z",
     "start_time": "2019-09-16T14:52:16.250655Z"
    }
   },
   "outputs": [
    {
     "data": {
      "text/plain": [
       "True"
      ]
     },
     "execution_count": 12,
     "metadata": {},
     "output_type": "execute_result"
    }
   ],
   "source": [
    "e"
   ]
  },
  {
   "cell_type": "markdown",
   "metadata": {},
   "source": [
    "# 연산자2\n",
    "## 논리 연산자\n",
    "* 두 피연산자의 참, 거짓을 판별해 논리 결괄르 갖는 논리식에 적용\n",
    "* 산술식은 관계식의 피연산자로 사용될 수 있고 관계식은 논리식의 피연산자로 사용될 수 있음\n",
    "* C언어와 의미는 동일하나 연산자 대신 not, and, or 키워드 사용\n",
    "* 첫 번째 논리 결과로 최종 결과를 결정하는 단락회로 평가 수행\n",
    "\n",
    "우선순위 : 산술 > 관계 > 논리"
   ]
  },
  {
   "cell_type": "code",
   "execution_count": 13,
   "metadata": {
    "ExecuteTime": {
     "end_time": "2019-09-16T14:54:23.288033Z",
     "start_time": "2019-09-16T14:54:23.282032Z"
    }
   },
   "outputs": [],
   "source": [
    "a = False and True\n",
    "b = True or False\n",
    "c = not False\n",
    "d = 10 < 2 or 3 + 2 and not False"
   ]
  },
  {
   "cell_type": "markdown",
   "metadata": {},
   "source": [
    "x and y 식에서 x가 거짓이면 x가 되고, x가 참이면 y가 된다.  \n",
    "x or y 식에서 x가 참이면 x가 되고, x가 거짓이면 y가 된다.  \n",
    "단락회로 평가"
   ]
  },
  {
   "cell_type": "code",
   "execution_count": 14,
   "metadata": {
    "ExecuteTime": {
     "end_time": "2019-09-16T14:54:32.261743Z",
     "start_time": "2019-09-16T14:54:32.257745Z"
    }
   },
   "outputs": [
    {
     "name": "stdout",
     "output_type": "stream",
     "text": [
      "False True True True\n"
     ]
    }
   ],
   "source": [
    "print( a, b, c, d)"
   ]
  },
  {
   "cell_type": "markdown",
   "metadata": {},
   "source": [
    "## 시프트 연산자\n",
    "* 시프트 연산자는 정수 타입에 대한 비트 단위 이동 연산 수행\n",
    "* 첫 번째 피연산자의 전체 비트를 두 번째 피연산자 회수만큼 오른쪽 >> 또는 왼쪽 <<\n",
    "* 논리 시프트는 왼쪽 또는 **양수에 대한 오른쪽 시프트**로 이동한 비트에 채워지는 값은 항상 0\n",
    "* 산술 시프트는 **음수에 대한 오른쪽 시프트**로 이동한 비트에 채워지는 값은 1 > 부호 유지를 위해 존재\n",
    "* 산술 연산의 곱셈과 나눗셈 대체 가능\n",
    "* C언어와 달리 메모리 허용 범위의 매우 큰 정수에 대한 시프트 연산이므로 타입에 따른 부효과가 발생하지 않음"
   ]
  },
  {
   "cell_type": "code",
   "execution_count": 15,
   "metadata": {
    "ExecuteTime": {
     "end_time": "2019-09-16T16:16:29.991500Z",
     "start_time": "2019-09-16T16:16:29.976502Z"
    }
   },
   "outputs": [],
   "source": [
    "a = 8 >> 2 # 1000을 오른쪽 두칸 이동\n",
    "b = -8 >> 2\n",
    "c = -12 << 3 + 2\n",
    "d = 7 >> 2 << 2\n",
    "e = -1 // 2 == -1 >> 1"
   ]
  },
  {
   "cell_type": "code",
   "execution_count": 16,
   "metadata": {
    "ExecuteTime": {
     "end_time": "2019-09-16T16:16:49.347876Z",
     "start_time": "2019-09-16T16:16:49.342876Z"
    }
   },
   "outputs": [
    {
     "name": "stdout",
     "output_type": "stream",
     "text": [
      "2 -2 -384 4 True\n"
     ]
    }
   ],
   "source": [
    "print(a, b, c, d, e)"
   ]
  },
  {
   "cell_type": "markdown",
   "metadata": {},
   "source": [
    "## 비트 연산자\n",
    "* 시프트 연산자와 같이 정수 타입에 대한 비트 단위 논리 연산 수행\n",
    "* C언어와 동일하게 비트 별로 논리곱, &, 논리합 |, 배타적 논리합 ^, 비트 부정 ~ 연산 수행\n",
    "* 나머지 연산의 일부는 비트 연산으로 표현 가능\n",
    "* check 마스크 연산은 <대상> & <마스크> 형식 > 대상에서 마스크에 해당하는 비트가 1인지 검사\n",
    "* set 마스크 연산은 <대상> = <대상> | <마스크> 형식 > 대상에서 마스크에 해당하는 비트를 1로 설정\n",
    "* clear 마스크 연산은 <대상> = <대상> & ~<마스크> 형식 > 대상에서 마스크에 해당하는 비트를 0으로 설정"
   ]
  },
  {
   "cell_type": "code",
   "execution_count": 17,
   "metadata": {
    "ExecuteTime": {
     "end_time": "2019-09-16T17:24:35.057246Z",
     "start_time": "2019-09-16T17:24:35.043246Z"
    }
   },
   "outputs": [],
   "source": [
    "a = 11\n",
    "b = a & 3 == 3\n",
    "c = a | 4\n",
    "d = a & ~3"
   ]
  },
  {
   "cell_type": "code",
   "execution_count": 18,
   "metadata": {
    "ExecuteTime": {
     "end_time": "2019-09-16T17:24:46.010892Z",
     "start_time": "2019-09-16T17:24:46.005893Z"
    }
   },
   "outputs": [
    {
     "name": "stdout",
     "output_type": "stream",
     "text": [
      "11 True 15 8\n"
     ]
    }
   ],
   "source": [
    "print(a, b, c, d)"
   ]
  },
  {
   "cell_type": "markdown",
   "metadata": {},
   "source": [
    "## 파이썬에서 지원하지 않는 기본 연산자\n",
    "* C언어의 증감 연산자는 for 루프에서 많이 사용하나 파이썬의 for 루프는 증감 연산자를 사용할 필요가 없다.\n",
    "* ++a, --a는 복합 연산자인 a += 1, a -= 1로 대체됨 > 전위, 후위 표현은 식의 위치로 조절\n",
    "* 파이썬은 모든 것이 객체이며, 변수는 객체의 참조를 저장하므로 포인터 연산 불필요\n",
    "* 3항 연산자는 논리 식 또는 if ~ else 문으로 대체"
   ]
  },
  {
   "cell_type": "code",
   "execution_count": 19,
   "metadata": {
    "ExecuteTime": {
     "end_time": "2019-09-16T17:27:03.186478Z",
     "start_time": "2019-09-16T17:27:03.182478Z"
    }
   },
   "outputs": [],
   "source": [
    "a = 5 if 3 > 2 else -1\n",
    "b = 3 < 2 and 5 or -1"
   ]
  },
  {
   "cell_type": "code",
   "execution_count": 20,
   "metadata": {
    "ExecuteTime": {
     "end_time": "2019-09-16T17:27:10.811123Z",
     "start_time": "2019-09-16T17:27:10.807123Z"
    }
   },
   "outputs": [
    {
     "name": "stdout",
     "output_type": "stream",
     "text": [
      "5 -1\n"
     ]
    }
   ],
   "source": [
    "print(a, b)"
   ]
  }
 ],
 "metadata": {
  "kernelspec": {
   "display_name": "Python 3",
   "language": "python",
   "name": "python3"
  },
  "language_info": {
   "codemirror_mode": {
    "name": "ipython",
    "version": 3
   },
   "file_extension": ".py",
   "mimetype": "text/x-python",
   "name": "python",
   "nbconvert_exporter": "python",
   "pygments_lexer": "ipython3",
   "version": "3.7.3"
  },
  "toc": {
   "base_numbering": 1,
   "nav_menu": {},
   "number_sections": true,
   "sideBar": true,
   "skip_h1_title": false,
   "title_cell": "Table of Contents",
   "title_sidebar": "Contents",
   "toc_cell": true,
   "toc_position": {
    "height": "calc(100% - 180px)",
    "left": "10px",
    "top": "150px",
    "width": "165px"
   },
   "toc_section_display": true,
   "toc_window_display": true
  },
  "varInspector": {
   "cols": {
    "lenName": 16,
    "lenType": 16,
    "lenVar": 40
   },
   "kernels_config": {
    "python": {
     "delete_cmd_postfix": "",
     "delete_cmd_prefix": "del ",
     "library": "var_list.py",
     "varRefreshCmd": "print(var_dic_list())"
    },
    "r": {
     "delete_cmd_postfix": ") ",
     "delete_cmd_prefix": "rm(",
     "library": "var_list.r",
     "varRefreshCmd": "cat(var_dic_list()) "
    }
   },
   "types_to_exclude": [
    "module",
    "function",
    "builtin_function_or_method",
    "instance",
    "_Feature"
   ],
   "window_display": false
  }
 },
 "nbformat": 4,
 "nbformat_minor": 2
}
