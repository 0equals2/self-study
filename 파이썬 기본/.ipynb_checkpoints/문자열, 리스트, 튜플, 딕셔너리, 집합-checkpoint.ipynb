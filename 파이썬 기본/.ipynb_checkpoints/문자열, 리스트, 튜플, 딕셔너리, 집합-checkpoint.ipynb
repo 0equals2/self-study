{
 "cells": [
  {
   "cell_type": "markdown",
   "metadata": {
    "toc": true
   },
   "source": [
    "<h1>Table of Contents<span class=\"tocSkip\"></span></h1>\n",
    "<div class=\"toc\"><ul class=\"toc-item\"><li><span><a href=\"#문자열\" data-toc-modified-id=\"문자열-1\"><span class=\"toc-item-num\">1&nbsp;&nbsp;</span>문자열</a></span><ul class=\"toc-item\"><li><span><a href=\"#문자열-포매팅\" data-toc-modified-id=\"문자열-포매팅-1.1\"><span class=\"toc-item-num\">1.1&nbsp;&nbsp;</span>문자열 포매팅</a></span></li><li><span><a href=\"#format()-함수-기반-문자열-포매팅\" data-toc-modified-id=\"format()-함수-기반-문자열-포매팅-1.2\"><span class=\"toc-item-num\">1.2&nbsp;&nbsp;</span>format() 함수 기반 문자열 포매팅</a></span></li><li><span><a href=\"#문자열-찾기와-치환-연산\" data-toc-modified-id=\"문자열-찾기와-치환-연산-1.3\"><span class=\"toc-item-num\">1.3&nbsp;&nbsp;</span>문자열 찾기와 치환 연산</a></span></li><li><span><a href=\"#문자열-자르기와-붙이기\" data-toc-modified-id=\"문자열-자르기와-붙이기-1.4\"><span class=\"toc-item-num\">1.4&nbsp;&nbsp;</span>문자열 자르기와 붙이기</a></span></li></ul></li><li><span><a href=\"#리스트\" data-toc-modified-id=\"리스트-2\"><span class=\"toc-item-num\">2&nbsp;&nbsp;</span>리스트</a></span><ul class=\"toc-item\"><li><span><a href=\"#리스트-정렬\" data-toc-modified-id=\"리스트-정렬-2.1\"><span class=\"toc-item-num\">2.1&nbsp;&nbsp;</span>리스트 정렬</a></span></li><li><span><a href=\"#리스트-탐색\" data-toc-modified-id=\"리스트-탐색-2.2\"><span class=\"toc-item-num\">2.2&nbsp;&nbsp;</span>리스트 탐색</a></span></li><li><span><a href=\"#리스트-추가-제거\" data-toc-modified-id=\"리스트-추가-제거-2.3\"><span class=\"toc-item-num\">2.3&nbsp;&nbsp;</span>리스트 추가 제거</a></span></li><li><span><a href=\"#리스트-기반-슽택\" data-toc-modified-id=\"리스트-기반-슽택-2.4\"><span class=\"toc-item-num\">2.4&nbsp;&nbsp;</span>리스트 기반 슽택</a></span></li></ul></li></ul></div>"
   ]
  },
  {
   "cell_type": "markdown",
   "metadata": {},
   "source": [
    "# 문자열\n",
    "## 문자열 포매팅\n",
    "* 포매팅은 문자열을 장식하는 방법 중 하나로 특정 위치에 형식 지정자를 이용해 주어진 대상 삽입 > 문자열 변환\n",
    "* 형식 지정자는 c언어와 비슷하나 삽입 대상을 % 기호로 연결 > 삽입 대상이 복수일 때는 괄호로 묶음\n",
    "* %[[정렬_기준] 폭]<형식_문자>\n",
    "* 정렬 기준은 옵션으로 -는 왼쪽, 생략하면 오른쪽\n",
    "* 폭은 옵션으로 생략하면 출력 대상의 크기 적용. 실수는 점과 함께 소수점 자리 지정 가능\n",
    "* 형식 문자는 문자열 s, 정수 d, 8진수 o,16진수 x, 문자 c, 실수 f"
   ]
  },
  {
   "cell_type": "code",
   "execution_count": 2,
   "metadata": {
    "ExecuteTime": {
     "end_time": "2019-09-16T17:35:35.258779Z",
     "start_time": "2019-09-16T17:35:35.252777Z"
    }
   },
   "outputs": [],
   "source": [
    "fmt = \"%s City, Humidity = %d%%, Temperature = %d%c\"\n",
    "a = fmt % (\"Seoul\", 60, 21, chr(176))\n",
    "b = \"%6s City, Humidity = %-3d%%, Temperature = %-3d%c\" % (\"Seoul\", 60, 21, chr(176))\n",
    "c = \"%0.7f\" % 3.1415926535897931"
   ]
  },
  {
   "cell_type": "code",
   "execution_count": 3,
   "metadata": {
    "ExecuteTime": {
     "end_time": "2019-09-16T17:35:51.429257Z",
     "start_time": "2019-09-16T17:35:51.419257Z"
    }
   },
   "outputs": [
    {
     "data": {
      "text/plain": [
       "'Seoul City, Humidity = 60%, Temperature = 21°'"
      ]
     },
     "execution_count": 3,
     "metadata": {},
     "output_type": "execute_result"
    }
   ],
   "source": [
    "a"
   ]
  },
  {
   "cell_type": "code",
   "execution_count": 4,
   "metadata": {
    "ExecuteTime": {
     "end_time": "2019-09-16T17:35:52.752213Z",
     "start_time": "2019-09-16T17:35:52.747213Z"
    }
   },
   "outputs": [
    {
     "data": {
      "text/plain": [
       "' Seoul City, Humidity = 60 %, Temperature = 21 °'"
      ]
     },
     "execution_count": 4,
     "metadata": {},
     "output_type": "execute_result"
    }
   ],
   "source": [
    "b"
   ]
  },
  {
   "cell_type": "code",
   "execution_count": 5,
   "metadata": {
    "ExecuteTime": {
     "end_time": "2019-09-16T17:35:54.762150Z",
     "start_time": "2019-09-16T17:35:54.756149Z"
    }
   },
   "outputs": [
    {
     "data": {
      "text/plain": [
       "'3.1415927'"
      ]
     },
     "execution_count": 5,
     "metadata": {},
     "output_type": "execute_result"
    }
   ],
   "source": [
    "c"
   ]
  },
  {
   "cell_type": "markdown",
   "metadata": {},
   "source": [
    "## format() 함수 기반 문자열 포매팅\n",
    "* 문자열 객체의 format() 메소드를 사용해 특정 번호에 대응하는 주어진 대상 삽입\n",
    "* 대상이 n개면 0부터 n - 1사이의 순서 번호에 대응\n",
    "* {<번호> [: 공백_치환_문자 | 정렬 | 폭 | 형식_문자]}\n",
    "* 번호는 0 ~ n-1 사이의 값 > 생략하면 대상을 차례로 문자열로 변환해 삽입"
   ]
  },
  {
   "cell_type": "code",
   "execution_count": 6,
   "metadata": {
    "ExecuteTime": {
     "end_time": "2019-09-16T17:40:50.553456Z",
     "start_time": "2019-09-16T17:40:50.547457Z"
    }
   },
   "outputs": [],
   "source": [
    "fmt = \"{0} City, Humidity = {1}%, Temperature = {2}{3}\"\n",
    "a = fmt.format(\"Seoul\", 60, 21, chr(176))\n",
    "b = \"{0:>6} City, Humidity = {1:<3}%, Temperature = {2:<3}{3}\".format(\"Seoul\", 60, 21, chr(176))\n",
    "c = \"{0:0.7f}\".format(3.1415926535897931)\n",
    "d = \"{{{0:=^10}}}\".format(\"result\") #\"{==result==}\"  (공백대신 =문자사용)"
   ]
  },
  {
   "cell_type": "code",
   "execution_count": 8,
   "metadata": {
    "ExecuteTime": {
     "end_time": "2019-09-16T17:40:55.864284Z",
     "start_time": "2019-09-16T17:40:55.859284Z"
    }
   },
   "outputs": [
    {
     "data": {
      "text/plain": [
       "'Seoul City, Humidity = 60%, Temperature = 21°'"
      ]
     },
     "execution_count": 8,
     "metadata": {},
     "output_type": "execute_result"
    }
   ],
   "source": [
    "a"
   ]
  },
  {
   "cell_type": "code",
   "execution_count": 9,
   "metadata": {
    "ExecuteTime": {
     "end_time": "2019-09-16T17:40:59.095182Z",
     "start_time": "2019-09-16T17:40:59.090189Z"
    }
   },
   "outputs": [
    {
     "data": {
      "text/plain": [
       "' Seoul City, Humidity = 60 %, Temperature = 21 °'"
      ]
     },
     "execution_count": 9,
     "metadata": {},
     "output_type": "execute_result"
    }
   ],
   "source": [
    "b"
   ]
  },
  {
   "cell_type": "code",
   "execution_count": 10,
   "metadata": {
    "ExecuteTime": {
     "end_time": "2019-09-16T17:41:00.840124Z",
     "start_time": "2019-09-16T17:41:00.835124Z"
    }
   },
   "outputs": [
    {
     "data": {
      "text/plain": [
       "'3.1415927'"
      ]
     },
     "execution_count": 10,
     "metadata": {},
     "output_type": "execute_result"
    }
   ],
   "source": [
    "c"
   ]
  },
  {
   "cell_type": "code",
   "execution_count": 11,
   "metadata": {
    "ExecuteTime": {
     "end_time": "2019-09-16T17:41:02.113083Z",
     "start_time": "2019-09-16T17:41:02.107092Z"
    }
   },
   "outputs": [
    {
     "data": {
      "text/plain": [
       "'{==result==}'"
      ]
     },
     "execution_count": 11,
     "metadata": {},
     "output_type": "execute_result"
    }
   ],
   "source": [
    "d"
   ]
  },
  {
   "cell_type": "markdown",
   "metadata": {},
   "source": [
    "## 문자열 찾기와 치환 연산\n",
    "* 문자열 객체는 원하는 문자열을 찾거나 찾아서 바꾸는 메소드 지원\n",
    "* find()메소드는 원본에서 대상 문자열을 찾아 시작위치를 인덱스 기준으로 반환\n",
    "* replace()메소드는 원본의 해당 문자열을 대상 문자열로 치환한 새로운 문자열 반환\n",
    "* count() 메소드는 원본에서 대상 문자열이 포함된 개수 반환\n",
    "* upper(), lower() 메소드는 원본을 대문자, 소문자로 변환한 새로운 문자열 반환"
   ]
  },
  {
   "cell_type": "code",
   "execution_count": 12,
   "metadata": {
    "ExecuteTime": {
     "end_time": "2019-09-16T17:44:13.710068Z",
     "start_time": "2019-09-16T17:44:13.707069Z"
    }
   },
   "outputs": [],
   "source": [
    "s = \"And the saddest thing\"\n",
    "\n",
    "a = s.find(\"saddest\")"
   ]
  },
  {
   "cell_type": "code",
   "execution_count": 13,
   "metadata": {
    "ExecuteTime": {
     "end_time": "2019-09-16T17:44:15.640015Z",
     "start_time": "2019-09-16T17:44:15.635007Z"
    }
   },
   "outputs": [
    {
     "data": {
      "text/plain": [
       "8"
      ]
     },
     "execution_count": 13,
     "metadata": {},
     "output_type": "execute_result"
    }
   ],
   "source": [
    "a"
   ]
  },
  {
   "cell_type": "code",
   "execution_count": 14,
   "metadata": {
    "ExecuteTime": {
     "end_time": "2019-09-16T17:44:35.032379Z",
     "start_time": "2019-09-16T17:44:35.027389Z"
    }
   },
   "outputs": [],
   "source": [
    "b = s.replace(\"s\", \"S\")"
   ]
  },
  {
   "cell_type": "code",
   "execution_count": 15,
   "metadata": {
    "ExecuteTime": {
     "end_time": "2019-09-16T17:44:36.824324Z",
     "start_time": "2019-09-16T17:44:36.818321Z"
    }
   },
   "outputs": [
    {
     "data": {
      "text/plain": [
       "'And the saddest thing'"
      ]
     },
     "execution_count": 15,
     "metadata": {},
     "output_type": "execute_result"
    }
   ],
   "source": [
    "s"
   ]
  },
  {
   "cell_type": "code",
   "execution_count": 16,
   "metadata": {
    "ExecuteTime": {
     "end_time": "2019-09-16T17:44:39.488237Z",
     "start_time": "2019-09-16T17:44:39.482236Z"
    }
   },
   "outputs": [
    {
     "data": {
      "text/plain": [
       "'And the SaddeSt thing'"
      ]
     },
     "execution_count": 16,
     "metadata": {},
     "output_type": "execute_result"
    }
   ],
   "source": [
    "b"
   ]
  },
  {
   "cell_type": "code",
   "execution_count": 17,
   "metadata": {
    "ExecuteTime": {
     "end_time": "2019-09-16T17:44:53.646781Z",
     "start_time": "2019-09-16T17:44:53.641779Z"
    }
   },
   "outputs": [],
   "source": [
    "c = s.replace(\"thing\", \"man\")"
   ]
  },
  {
   "cell_type": "code",
   "execution_count": 18,
   "metadata": {
    "ExecuteTime": {
     "end_time": "2019-09-16T17:44:59.615587Z",
     "start_time": "2019-09-16T17:44:59.610588Z"
    }
   },
   "outputs": [
    {
     "data": {
      "text/plain": [
       "'And the saddest man'"
      ]
     },
     "execution_count": 18,
     "metadata": {},
     "output_type": "execute_result"
    }
   ],
   "source": [
    "c"
   ]
  },
  {
   "cell_type": "code",
   "execution_count": 19,
   "metadata": {
    "ExecuteTime": {
     "end_time": "2019-09-16T17:45:08.213865Z",
     "start_time": "2019-09-16T17:45:08.209866Z"
    }
   },
   "outputs": [],
   "source": [
    "d = s.count(\"t\")"
   ]
  },
  {
   "cell_type": "code",
   "execution_count": 20,
   "metadata": {
    "ExecuteTime": {
     "end_time": "2019-09-16T17:45:09.512824Z",
     "start_time": "2019-09-16T17:45:09.507823Z"
    }
   },
   "outputs": [
    {
     "data": {
      "text/plain": [
       "3"
      ]
     },
     "execution_count": 20,
     "metadata": {},
     "output_type": "execute_result"
    }
   ],
   "source": [
    "d"
   ]
  },
  {
   "cell_type": "code",
   "execution_count": 21,
   "metadata": {
    "ExecuteTime": {
     "end_time": "2019-09-16T17:45:22.234466Z",
     "start_time": "2019-09-16T17:45:22.229470Z"
    }
   },
   "outputs": [],
   "source": [
    "e1, e2 = s.upper(), s.lower()"
   ]
  },
  {
   "cell_type": "markdown",
   "metadata": {},
   "source": [
    "## 문자열 자르기와 붙이기\n",
    "* 문자열 객체는 공백을 제거하거나 분리 또는 결합하는 메소드 지원\n",
    "* lstrip() / rstrip() / strip() 메소드는 원본의 왼쪽, 오른쪽, 양쪽을 기준으로 대상 문자열 또는 공백을 제거한 새로운 문자열 반환\n",
    "* split() 메소드는 대상 문자열 또는 공백을 기준으로 원본을 n개의 요소로 분리한 리스트 반환\n",
    "* join() 메소드는 대상 문자열의 각 문자 사이에 원본을 삽입한 새로운 문자열 반환"
   ]
  },
  {
   "cell_type": "code",
   "execution_count": 23,
   "metadata": {
    "ExecuteTime": {
     "end_time": "2019-09-16T17:52:46.792914Z",
     "start_time": "2019-09-16T17:52:46.786914Z"
    }
   },
   "outputs": [],
   "source": [
    "s = \"And the saddest thing\"\n",
    "a= \">\" + s.strip() + \"<\"\n",
    "b = s.rstrip(\"thing\")\n",
    "\n",
    "c1 = s.split()\n",
    "c2 = s.split(sep = 't')\n",
    "d1 = s.join('*-*')\n",
    "d2 = \",\".join(s)"
   ]
  },
  {
   "cell_type": "code",
   "execution_count": 24,
   "metadata": {
    "ExecuteTime": {
     "end_time": "2019-09-16T17:52:49.815817Z",
     "start_time": "2019-09-16T17:52:49.810817Z"
    }
   },
   "outputs": [
    {
     "data": {
      "text/plain": [
       "'>And the saddest thing<'"
      ]
     },
     "execution_count": 24,
     "metadata": {},
     "output_type": "execute_result"
    }
   ],
   "source": [
    "a"
   ]
  },
  {
   "cell_type": "code",
   "execution_count": 25,
   "metadata": {
    "ExecuteTime": {
     "end_time": "2019-09-16T17:52:51.945754Z",
     "start_time": "2019-09-16T17:52:51.939755Z"
    }
   },
   "outputs": [
    {
     "data": {
      "text/plain": [
       "'And the saddest '"
      ]
     },
     "execution_count": 25,
     "metadata": {},
     "output_type": "execute_result"
    }
   ],
   "source": [
    "b"
   ]
  },
  {
   "cell_type": "code",
   "execution_count": 26,
   "metadata": {
    "ExecuteTime": {
     "end_time": "2019-09-16T17:52:53.239714Z",
     "start_time": "2019-09-16T17:52:53.234716Z"
    }
   },
   "outputs": [
    {
     "data": {
      "text/plain": [
       "['And', 'the', 'saddest', 'thing']"
      ]
     },
     "execution_count": 26,
     "metadata": {},
     "output_type": "execute_result"
    }
   ],
   "source": [
    "c1"
   ]
  },
  {
   "cell_type": "code",
   "execution_count": 27,
   "metadata": {
    "ExecuteTime": {
     "end_time": "2019-09-16T17:52:55.843629Z",
     "start_time": "2019-09-16T17:52:55.836629Z"
    }
   },
   "outputs": [
    {
     "data": {
      "text/plain": [
       "['And ', 'he saddes', ' ', 'hing']"
      ]
     },
     "execution_count": 27,
     "metadata": {},
     "output_type": "execute_result"
    }
   ],
   "source": [
    "c2"
   ]
  },
  {
   "cell_type": "code",
   "execution_count": 28,
   "metadata": {
    "ExecuteTime": {
     "end_time": "2019-09-16T17:52:59.520510Z",
     "start_time": "2019-09-16T17:52:59.514510Z"
    }
   },
   "outputs": [
    {
     "data": {
      "text/plain": [
       "'*And the saddest thing-And the saddest thing*'"
      ]
     },
     "execution_count": 28,
     "metadata": {},
     "output_type": "execute_result"
    }
   ],
   "source": [
    "d1"
   ]
  },
  {
   "cell_type": "code",
   "execution_count": 29,
   "metadata": {
    "ExecuteTime": {
     "end_time": "2019-09-16T17:53:00.883466Z",
     "start_time": "2019-09-16T17:53:00.878467Z"
    }
   },
   "outputs": [
    {
     "data": {
      "text/plain": [
       "'A,n,d, ,t,h,e, ,s,a,d,d,e,s,t, ,t,h,i,n,g'"
      ]
     },
     "execution_count": 29,
     "metadata": {},
     "output_type": "execute_result"
    }
   ],
   "source": [
    "d2"
   ]
  },
  {
   "cell_type": "markdown",
   "metadata": {},
   "source": [
    "# 리스트\n",
    "## 리스트 정렬\n",
    "* 리스트 객체는 요소를 정렬하는 메소드 지원\n",
    "* sort() 메소드는 대소 비교가 가능한 리스트에 대해 오름 차순 또는 내림 차순으로 정렬\n",
    "* sort() 메소드의 key 인자는 비교 방법을 사용자 함수로 지정하고 reverse 인자를 True로 설정하면 내림 차순으로 정렬\n",
    "* reverse() 메소드는 원본의 순서를 반대로 변환"
   ]
  },
  {
   "cell_type": "code",
   "execution_count": 30,
   "metadata": {
    "ExecuteTime": {
     "end_time": "2019-09-16T18:13:54.517026Z",
     "start_time": "2019-09-16T18:13:54.507028Z"
    }
   },
   "outputs": [],
   "source": [
    "a1 = [2, 3, 1, 3, 4]\n",
    "a2, a3 = a1.copy(), a1.copy()\n",
    "b = [\"banana\", \"apple\", \"raspberry\", \"plum\", \"apple\"]\n",
    "c = [(2, 4), (3, 4), (1, 4)]\n",
    "\n",
    "a1.sort()\n",
    "a2.sort(reverse = True)\n",
    "a3.reverse()\n",
    "b.sort(reverse = True)\n",
    "c.sort()"
   ]
  },
  {
   "cell_type": "code",
   "execution_count": 31,
   "metadata": {
    "ExecuteTime": {
     "end_time": "2019-09-16T18:13:57.118942Z",
     "start_time": "2019-09-16T18:13:57.112944Z"
    }
   },
   "outputs": [
    {
     "data": {
      "text/plain": [
       "[1, 2, 3, 3, 4]"
      ]
     },
     "execution_count": 31,
     "metadata": {},
     "output_type": "execute_result"
    }
   ],
   "source": [
    "a1"
   ]
  },
  {
   "cell_type": "code",
   "execution_count": 32,
   "metadata": {
    "ExecuteTime": {
     "end_time": "2019-09-16T18:14:00.383836Z",
     "start_time": "2019-09-16T18:14:00.376837Z"
    }
   },
   "outputs": [
    {
     "data": {
      "text/plain": [
       "[4, 3, 3, 2, 1]"
      ]
     },
     "execution_count": 32,
     "metadata": {},
     "output_type": "execute_result"
    }
   ],
   "source": [
    "a2"
   ]
  },
  {
   "cell_type": "code",
   "execution_count": 33,
   "metadata": {
    "ExecuteTime": {
     "end_time": "2019-09-16T18:14:05.326677Z",
     "start_time": "2019-09-16T18:14:05.320680Z"
    }
   },
   "outputs": [
    {
     "data": {
      "text/plain": [
       "[4, 3, 1, 3, 2]"
      ]
     },
     "execution_count": 33,
     "metadata": {},
     "output_type": "execute_result"
    }
   ],
   "source": [
    "a3"
   ]
  },
  {
   "cell_type": "code",
   "execution_count": 34,
   "metadata": {
    "ExecuteTime": {
     "end_time": "2019-09-16T18:14:10.741502Z",
     "start_time": "2019-09-16T18:14:10.736503Z"
    }
   },
   "outputs": [
    {
     "data": {
      "text/plain": [
       "['raspberry', 'plum', 'banana', 'apple', 'apple']"
      ]
     },
     "execution_count": 34,
     "metadata": {},
     "output_type": "execute_result"
    }
   ],
   "source": [
    "b"
   ]
  },
  {
   "cell_type": "code",
   "execution_count": 35,
   "metadata": {
    "ExecuteTime": {
     "end_time": "2019-09-16T18:14:12.244455Z",
     "start_time": "2019-09-16T18:14:12.237454Z"
    }
   },
   "outputs": [
    {
     "data": {
      "text/plain": [
       "[(1, 4), (2, 4), (3, 4)]"
      ]
     },
     "execution_count": 35,
     "metadata": {},
     "output_type": "execute_result"
    }
   ],
   "source": [
    "c"
   ]
  },
  {
   "cell_type": "markdown",
   "metadata": {},
   "source": [
    "## 리스트 탐색\n",
    "* 리스트 객체는 요소를 탐색하는 메소드 지원\n",
    "* index() 메소드는 원본에서 대상을 찾아 일치하는 첫 번째 인덱스 반환\n",
    "* count()는 원본에서 대상과 일치하는 개수 반환"
   ]
  },
  {
   "cell_type": "code",
   "execution_count": 36,
   "metadata": {
    "ExecuteTime": {
     "end_time": "2019-09-16T19:05:31.009155Z",
     "start_time": "2019-09-16T19:05:30.988156Z"
    }
   },
   "outputs": [],
   "source": [
    "a = [2, 3, 1, 3, 4]\n",
    "b= [\"banana\", \"pi\", \"apple\", \"pi\", \"grape\", \"strawberry\"]\n",
    "c = [(2, 4), (3, 4), (1, 4)]\n",
    "\n",
    "d= a.index(3)\n",
    "e= a.index(3, d+1)\n",
    "f = b.count(\"pi\")\n",
    "g = c.count((3,4))"
   ]
  },
  {
   "cell_type": "code",
   "execution_count": 37,
   "metadata": {
    "ExecuteTime": {
     "end_time": "2019-09-16T19:05:32.469107Z",
     "start_time": "2019-09-16T19:05:32.462108Z"
    }
   },
   "outputs": [
    {
     "data": {
      "text/plain": [
       "1"
      ]
     },
     "execution_count": 37,
     "metadata": {},
     "output_type": "execute_result"
    }
   ],
   "source": [
    "d"
   ]
  },
  {
   "cell_type": "code",
   "execution_count": 38,
   "metadata": {
    "ExecuteTime": {
     "end_time": "2019-09-16T19:05:33.105088Z",
     "start_time": "2019-09-16T19:05:33.100087Z"
    }
   },
   "outputs": [
    {
     "data": {
      "text/plain": [
       "3"
      ]
     },
     "execution_count": 38,
     "metadata": {},
     "output_type": "execute_result"
    }
   ],
   "source": [
    "e"
   ]
  },
  {
   "cell_type": "code",
   "execution_count": 39,
   "metadata": {
    "ExecuteTime": {
     "end_time": "2019-09-16T19:05:34.842031Z",
     "start_time": "2019-09-16T19:05:34.836032Z"
    }
   },
   "outputs": [
    {
     "data": {
      "text/plain": [
       "2"
      ]
     },
     "execution_count": 39,
     "metadata": {},
     "output_type": "execute_result"
    }
   ],
   "source": [
    "f"
   ]
  },
  {
   "cell_type": "code",
   "execution_count": 40,
   "metadata": {
    "ExecuteTime": {
     "end_time": "2019-09-16T19:05:35.922997Z",
     "start_time": "2019-09-16T19:05:35.916997Z"
    }
   },
   "outputs": [
    {
     "data": {
      "text/plain": [
       "1"
      ]
     },
     "execution_count": 40,
     "metadata": {},
     "output_type": "execute_result"
    }
   ],
   "source": [
    "g"
   ]
  },
  {
   "cell_type": "markdown",
   "metadata": {},
   "source": [
    "## 리스트 추가 제거\n",
    "* 리스트 객체는 요소를 추가하거나 제거하는 메소드 지원\n",
    "* append(), extend() 메소드는 리스트 끝에 대상을 삽입하거나 확장 형식으로 삽입\n",
    "* insert() 메소드는 인덱스 위치에 대상 삽입\n",
    "* remove() 메소드는 대상과 일치하는 첫 번째 요소 제거\n",
    "* pop() 메소드는 마지막 요소를 제거할 때 결과를 반환한다."
   ]
  },
  {
   "cell_type": "code",
   "execution_count": 41,
   "metadata": {
    "ExecuteTime": {
     "end_time": "2019-09-16T19:08:54.615062Z",
     "start_time": "2019-09-16T19:08:54.612064Z"
    }
   },
   "outputs": [],
   "source": [
    "a1 = [2, 3, 1, 3, 4]\n",
    "a2 = a1.copy()"
   ]
  },
  {
   "cell_type": "code",
   "execution_count": 42,
   "metadata": {
    "ExecuteTime": {
     "end_time": "2019-09-16T19:08:55.975018Z",
     "start_time": "2019-09-16T19:08:55.972019Z"
    }
   },
   "outputs": [],
   "source": [
    "a1.append(4)"
   ]
  },
  {
   "cell_type": "code",
   "execution_count": 43,
   "metadata": {
    "ExecuteTime": {
     "end_time": "2019-09-16T19:09:01.340846Z",
     "start_time": "2019-09-16T19:09:01.334846Z"
    }
   },
   "outputs": [
    {
     "data": {
      "text/plain": [
       "[2, 3, 1, 3, 4, 4]"
      ]
     },
     "execution_count": 43,
     "metadata": {},
     "output_type": "execute_result"
    }
   ],
   "source": [
    "a1"
   ]
  },
  {
   "cell_type": "code",
   "execution_count": 44,
   "metadata": {
    "ExecuteTime": {
     "end_time": "2019-09-16T19:09:10.738542Z",
     "start_time": "2019-09-16T19:09:10.734544Z"
    }
   },
   "outputs": [],
   "source": [
    "a1.append([5, 6, 7, 8])"
   ]
  },
  {
   "cell_type": "code",
   "execution_count": 45,
   "metadata": {
    "ExecuteTime": {
     "end_time": "2019-09-16T19:09:11.480518Z",
     "start_time": "2019-09-16T19:09:11.475529Z"
    }
   },
   "outputs": [
    {
     "data": {
      "text/plain": [
       "[2, 3, 1, 3, 4, 4, [5, 6, 7, 8]]"
      ]
     },
     "execution_count": 45,
     "metadata": {},
     "output_type": "execute_result"
    }
   ],
   "source": [
    "a1"
   ]
  },
  {
   "cell_type": "code",
   "execution_count": 46,
   "metadata": {
    "ExecuteTime": {
     "end_time": "2019-09-16T19:09:14.759414Z",
     "start_time": "2019-09-16T19:09:14.756412Z"
    }
   },
   "outputs": [],
   "source": [
    "a2.extend([5, 6, 7, 8])"
   ]
  },
  {
   "cell_type": "code",
   "execution_count": 47,
   "metadata": {
    "ExecuteTime": {
     "end_time": "2019-09-16T19:09:17.572323Z",
     "start_time": "2019-09-16T19:09:17.566323Z"
    }
   },
   "outputs": [
    {
     "data": {
      "text/plain": [
       "[2, 3, 1, 3, 4, 5, 6, 7, 8]"
      ]
     },
     "execution_count": 47,
     "metadata": {},
     "output_type": "execute_result"
    }
   ],
   "source": [
    "a2"
   ]
  },
  {
   "cell_type": "code",
   "execution_count": 48,
   "metadata": {
    "ExecuteTime": {
     "end_time": "2019-09-16T19:09:24.123111Z",
     "start_time": "2019-09-16T19:09:24.119121Z"
    }
   },
   "outputs": [],
   "source": [
    "a2. insert(5, 4)"
   ]
  },
  {
   "cell_type": "code",
   "execution_count": 49,
   "metadata": {
    "ExecuteTime": {
     "end_time": "2019-09-16T19:09:29.356952Z",
     "start_time": "2019-09-16T19:09:29.350942Z"
    }
   },
   "outputs": [
    {
     "data": {
      "text/plain": [
       "[2, 3, 1, 3, 4, 4, 5, 6, 7, 8]"
      ]
     },
     "execution_count": 49,
     "metadata": {},
     "output_type": "execute_result"
    }
   ],
   "source": [
    "a2"
   ]
  },
  {
   "cell_type": "code",
   "execution_count": 50,
   "metadata": {
    "ExecuteTime": {
     "end_time": "2019-09-16T19:09:36.311718Z",
     "start_time": "2019-09-16T19:09:36.307717Z"
    }
   },
   "outputs": [],
   "source": [
    "a1.remove(3)"
   ]
  },
  {
   "cell_type": "code",
   "execution_count": 51,
   "metadata": {
    "ExecuteTime": {
     "end_time": "2019-09-16T19:09:39.378619Z",
     "start_time": "2019-09-16T19:09:39.372619Z"
    }
   },
   "outputs": [
    {
     "data": {
      "text/plain": [
       "[2, 1, 3, 4, 4, [5, 6, 7, 8]]"
      ]
     },
     "execution_count": 51,
     "metadata": {},
     "output_type": "execute_result"
    }
   ],
   "source": [
    "a1"
   ]
  },
  {
   "cell_type": "code",
   "execution_count": 52,
   "metadata": {
    "ExecuteTime": {
     "end_time": "2019-09-16T19:09:41.480551Z",
     "start_time": "2019-09-16T19:09:41.475551Z"
    }
   },
   "outputs": [],
   "source": [
    "b = a2.pop()"
   ]
  },
  {
   "cell_type": "code",
   "execution_count": 53,
   "metadata": {
    "ExecuteTime": {
     "end_time": "2019-09-16T19:09:43.313492Z",
     "start_time": "2019-09-16T19:09:43.308492Z"
    }
   },
   "outputs": [
    {
     "data": {
      "text/plain": [
       "8"
      ]
     },
     "execution_count": 53,
     "metadata": {},
     "output_type": "execute_result"
    }
   ],
   "source": [
    "b"
   ]
  },
  {
   "cell_type": "markdown",
   "metadata": {},
   "source": [
    "## 리스트 기반 슽택\n",
    "* 스택은 추상화된 저장소 중 하나로 인덱스를 사용하지 않고 요소를 저장소에 넣고 꺼내는 연산으로만 구성\n",
    "* 넣거나 꺼내는 곳이 같으므로 넣을 때는 데이터가 위로 쌓이고 꺼낼 떄는 아래로 제거됨\n",
    "* 항상 마지막에 넣ㅇ느 요소를 꺼내므로 이전 상태를 보관하고 복원하는 백트래킹 연산에 적용"
   ]
  },
  {
   "cell_type": "code",
   "execution_count": null,
   "metadata": {},
   "outputs": [],
   "source": []
  }
 ],
 "metadata": {
  "kernelspec": {
   "display_name": "Python 3",
   "language": "python",
   "name": "python3"
  },
  "language_info": {
   "codemirror_mode": {
    "name": "ipython",
    "version": 3
   },
   "file_extension": ".py",
   "mimetype": "text/x-python",
   "name": "python",
   "nbconvert_exporter": "python",
   "pygments_lexer": "ipython3",
   "version": "3.7.3"
  },
  "toc": {
   "base_numbering": 1,
   "nav_menu": {},
   "number_sections": true,
   "sideBar": true,
   "skip_h1_title": false,
   "title_cell": "Table of Contents",
   "title_sidebar": "Contents",
   "toc_cell": true,
   "toc_position": {
    "height": "calc(100% - 180px)",
    "left": "10px",
    "top": "150px",
    "width": "212.431px"
   },
   "toc_section_display": true,
   "toc_window_display": true
  },
  "varInspector": {
   "cols": {
    "lenName": 16,
    "lenType": 16,
    "lenVar": 40
   },
   "kernels_config": {
    "python": {
     "delete_cmd_postfix": "",
     "delete_cmd_prefix": "del ",
     "library": "var_list.py",
     "varRefreshCmd": "print(var_dic_list())"
    },
    "r": {
     "delete_cmd_postfix": ") ",
     "delete_cmd_prefix": "rm(",
     "library": "var_list.r",
     "varRefreshCmd": "cat(var_dic_list()) "
    }
   },
   "types_to_exclude": [
    "module",
    "function",
    "builtin_function_or_method",
    "instance",
    "_Feature"
   ],
   "window_display": false
  }
 },
 "nbformat": 4,
 "nbformat_minor": 2
}
