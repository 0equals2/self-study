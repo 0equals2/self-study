{
 "cells": [
  {
   "cell_type": "markdown",
   "metadata": {
    "toc": true
   },
   "source": [
    "<h1>Table of Contents<span class=\"tocSkip\"></span></h1>\n",
    "<div class=\"toc\"><ul class=\"toc-item\"><li><span><a href=\"#식과-연산자\" data-toc-modified-id=\"식과-연산자-1\"><span class=\"toc-item-num\">1&nbsp;&nbsp;</span>식과 연산자</a></span><ul class=\"toc-item\"><li><span><a href=\"#식과-연산자\" data-toc-modified-id=\"식과-연산자-1.1\"><span class=\"toc-item-num\">1.1&nbsp;&nbsp;</span>식과 연산자</a></span></li><li><span><a href=\"#산술식\" data-toc-modified-id=\"산술식-1.2\"><span class=\"toc-item-num\">1.2&nbsp;&nbsp;</span>산술식</a></span></li><li><span><a href=\"#파이썬-연산자\" data-toc-modified-id=\"파이썬-연산자-1.3\"><span class=\"toc-item-num\">1.3&nbsp;&nbsp;</span>파이썬 연산자</a></span></li><li><span><a href=\"#우선-순위와-결합-법칙\" data-toc-modified-id=\"우선-순위와-결합-법칙-1.4\"><span class=\"toc-item-num\">1.4&nbsp;&nbsp;</span>우선 순위와 결합 법칙</a></span></li><li><span><a href=\"#연산자-중복\" data-toc-modified-id=\"연산자-중복-1.5\"><span class=\"toc-item-num\">1.5&nbsp;&nbsp;</span>연산자 중복</a></span></li></ul></li><li><span><a href=\"#연산자1\" data-toc-modified-id=\"연산자1-2\"><span class=\"toc-item-num\">2&nbsp;&nbsp;</span>연산자1</a></span><ul class=\"toc-item\"><li><span><a href=\"#대입-연산자\" data-toc-modified-id=\"대입-연산자-2.1\"><span class=\"toc-item-num\">2.1&nbsp;&nbsp;</span>대입 연산자</a></span></li><li><span><a href=\"#튜플-기반-대입-연산\" data-toc-modified-id=\"튜플-기반-대입-연산-2.2\"><span class=\"toc-item-num\">2.2&nbsp;&nbsp;</span>튜플 기반 대입 연산</a></span></li><li><span><a href=\"#산술-연산자\" data-toc-modified-id=\"산술-연산자-2.3\"><span class=\"toc-item-num\">2.3&nbsp;&nbsp;</span>산술 연산자</a></span></li></ul></li></ul></div>"
   ]
  },
  {
   "cell_type": "markdown",
   "metadata": {},
   "source": [
    "# 식과 연산자\n",
    "## 식과 연산자\n",
    "* 프로그램에서 실행하는 명령을 코드에서는 **문장**이라 하며 문장의 한 종류인 **식**은 계산을 표현하는 기본 수단\n",
    "* 식의 평가는 **결합 법칙과 우선 순위** 등을 고려해서 수행\n",
    "* 프로그램의 필수 요소 중 하나는 값의 변경 사항을 관리하는 **변수**이며 변수의 변경은 대입문을 통해 이뤄짐 (a = b)\n",
    "* 일반적인 대입문은 값을 한 메모리 영역에서 다른 영역으로 **복사**\n",
    "* 대입문은 평가될 표현식과 평가 결과가 저장될 목적지로 구분 (l-value 저장소 = r-value 표현식)\n",
    "* 연산 과정은 함수나 객체의 메소드로 은폐 가능"
   ]
  },
  {
   "cell_type": "markdown",
   "metadata": {},
   "source": [
    "## 산술식\n",
    "* 고급 프로그래밍 언어들은 수학과 유사한 산술식의 자동 평가가 언어의 주요 목적 중 하나\n",
    "* 산술식은 연산자, 피연산자, 괄호, 함수 호출자로 구성\n",
    "* 연산자의 위치에 따라 전위식, 중위식, 후위식으로 부름\n",
    "* 피연산자의 개수에 따라 한 개만 갖는 단항 연산자와 두 개를 갖는 이항 연산자로 구분\n",
    "* 이항 연산자는 중위식으로 표현하고 단항 연산자는 전위식 또는 후위식으로 표현\n",
    "* 파이썬의 단항 연산자는 비트 반전 ~, 음수 - / 양스 + 부호 표현만 존재\n",
    "* 산술식의 목적은 산술 계산 표현\n",
    "* 기본 연산은 동시성을 갖지 않으므로 한 시점에 단 하나의 연산만 수행"
   ]
  },
  {
   "cell_type": "markdown",
   "metadata": {},
   "source": [
    "## 파이썬 연산자\n",
    "* 파이썬은 C언어와 유사한 연산자 제공\n",
    "* 논리 연산은 기호 대신 not or and 키워드를 사용\n",
    "* 객체의 식별자를 비교하는 is , not is 와 컨테이너에 포함된 요소를 검사하는 in, not in 추가\n",
    "\n",
    "** (거듭제곱)  * (곱셈) /(나눗셈) //(정수 결과 나눗셈) %(나머지) <<(왼쪽 비트 이동) >>(오른쪽 비트 이동) &(비트 단위 곱셈) ^(비트 단위 배타적 덧셈) | (비트 단위 덧셈) < (작다) > (크다) <= (작거나 같다) >= (크거나 같다) ==(같다) !=(같지 않다) is(같다) is not(같지 않다) in(컨테이너 포함 비교) not in(컨테이너 포함 비교) not(논리 부정) and(논리 곱) or(논리 합) = += -= *= /= //= %= **= (대입, 복합대입[해당 연산 수행 후 대입])\n",
    "\n",
    "     == != 값에 대한 비교\n",
    "     is is not 참조에 대한 비교\n",
    "     in not in 컨테이너 포함 비교"
   ]
  },
  {
   "cell_type": "markdown",
   "metadata": {},
   "source": [
    "## 우선 순위와 결합 법칙\n",
    "* 우선 순위는 식에서 연산자들의 계산 순서를 결정\n",
    "* 산술 > 시프트 > 비트 > 비교 > 논리 연산자 순\n",
    "* 결합 법칙은 동일한 우선 순위 연산자들이 인접해 나타날 때 어느 쪽이 먼저 평가될지 결정\n",
    "* 일반적으로는 왼쪽에서 오른쪽으로 적용\n",
    "* 괄호는 우선 순위와 결합 법칙 변경 > 괄호 우선"
   ]
  },
  {
   "cell_type": "code",
   "execution_count": 4,
   "metadata": {
    "ExecuteTime": {
     "end_time": "2019-09-15T17:36:09.868793Z",
     "start_time": "2019-09-15T17:36:09.862794Z"
    }
   },
   "outputs": [
    {
     "name": "stdout",
     "output_type": "stream",
     "text": [
      "16 5 True 5\n"
     ]
    }
   ],
   "source": [
    "a = 1 << 2 * 2 #1<<4    10000(2) = 16\n",
    "b = 1 | 2 << 1  \n",
    "c = 0 == 1 >> 1 # 1을 오른쪽으로 한번 시프트하면 0이 됨\n",
    "d = 2 * 3 and 4 | 2 >>  1 #산술연산 먼저 6, 비트 연산 다음 5, and는 둘 중 작은 값 선택\n",
    "\n",
    "print (a, b, c, d)"
   ]
  },
  {
   "cell_type": "markdown",
   "metadata": {},
   "source": [
    "## 연산자 중복\n",
    "* 연산자 중복은 동일한 연산 기호가 상황에 따라 다른 연산을 수행하는 것\n",
    "* 시스템은 기본적으로 정수 연산과 실수 연산을 구분하므로 연산 규칙도 개별적으로 정의해야 함\n",
    "* 사용자는 수학적 의미와 동일하게 같은 연산 기호 사용 요구\n",
    "* 의미가 유사한 연산에 동일한 기호를 사용하면 일관성 유지\n",
    "* 중복 연산자의 선택은 피연산자의 타입에 의존"
   ]
  },
  {
   "cell_type": "markdown",
   "metadata": {},
   "source": [
    "# 연산자1\n",
    "## 대입 연산자\n",
    "* 대입 연산자 = 는 프로그래밍 언어의 중심 구조 중 하나\n",
    "* 변수에 저장된 참조를 동적으로 변경하는 매커니즘 제공\n",
    "* 대부분의 연산은 최종 결과를 얻기까지 여러 연산이 유기적으로 결합\n",
    "* 대입 연산이 연속으로 표현되면 객체의 참조를 하나 이상의 목적지 변수에 대입\n",
    "* 복합 대입 연산자는 다른 연산자와 대입 연산자가 결합된 축약 형태"
   ]
  },
  {
   "cell_type": "code",
   "execution_count": 5,
   "metadata": {
    "ExecuteTime": {
     "end_time": "2019-09-15T17:43:51.660138Z",
     "start_time": "2019-09-15T17:43:51.656141Z"
    }
   },
   "outputs": [],
   "source": [
    "a = b = c = 10\n",
    "a += 1 \n",
    "b *= 2+3 #오른쪽 식이 먼저 평가됨"
   ]
  },
  {
   "cell_type": "markdown",
   "metadata": {},
   "source": [
    "## 튜플 기반 대입 연산\n",
    "* 대입 연산은 1:1 만 지원, r-value가 2개 이상이면 내부적으로 튜플 객체 이용\n",
    "* r-value에 위치한 튜플 객체의 요소 개수와 l-value에 위치한 변수의 개수 검사\n",
    "* 변수 개수와 튜플의 요소의 개수가 동일하면 튜플 객체의 요소를 풀어 각 변수에 차례로 대입\n",
    "* 변수가 하나면 튜플 객체의 참조 대입\n",
    "* 그 외는 오류"
   ]
  },
  {
   "cell_type": "code",
   "execution_count": 6,
   "metadata": {
    "ExecuteTime": {
     "end_time": "2019-09-15T17:46:24.126509Z",
     "start_time": "2019-09-15T17:46:24.119511Z"
    }
   },
   "outputs": [],
   "source": [
    "a = 2\n",
    "b = 4\n",
    "c = 6\n",
    "\n",
    "first, second, third = a * 10, b * 20, c * 30 # 튜플 객체가 만들어짐, 왼쪽 변수의 개수에 맞춰 대입\n",
    "obj = a * 10, b * 20, c * 30"
   ]
  },
  {
   "cell_type": "code",
   "execution_count": 7,
   "metadata": {
    "ExecuteTime": {
     "end_time": "2019-09-15T17:46:44.745849Z",
     "start_time": "2019-09-15T17:46:44.741859Z"
    }
   },
   "outputs": [
    {
     "name": "stdout",
     "output_type": "stream",
     "text": [
      "20 80 180 (20, 80, 180)\n"
     ]
    }
   ],
   "source": [
    "print(first, second,third, obj)"
   ]
  },
  {
   "cell_type": "code",
   "execution_count": 8,
   "metadata": {
    "ExecuteTime": {
     "end_time": "2019-09-15T17:47:58.339478Z",
     "start_time": "2019-09-15T17:47:58.328480Z"
    }
   },
   "outputs": [
    {
     "data": {
      "text/plain": [
       "int"
      ]
     },
     "execution_count": 8,
     "metadata": {},
     "output_type": "execute_result"
    }
   ],
   "source": [
    "type(first)"
   ]
  },
  {
   "cell_type": "markdown",
   "metadata": {},
   "source": [
    "## 산술 연산자\n",
    "* 산술 연산자는 모든 연산의 기본\n",
    "* 덧셈, 뺼셈, 곱셈, 단항 부호는 C언어와 동일\n",
    "* 나눗셈 / 는 실수 결과 , // 정수 결과 반환 > 단 //는 피연산자 타입이 실수면 소수점 0 포함\n",
    "* 나머지 %는 나눗셈 연산 결과에서 나머지를 반환하는 것으로 실수 타입에도 적용 가능"
   ]
  },
  {
   "cell_type": "code",
   "execution_count": null,
   "metadata": {},
   "outputs": [],
   "source": []
  }
 ],
 "metadata": {
  "kernelspec": {
   "display_name": "Python 3",
   "language": "python",
   "name": "python3"
  },
  "language_info": {
   "codemirror_mode": {
    "name": "ipython",
    "version": 3
   },
   "file_extension": ".py",
   "mimetype": "text/x-python",
   "name": "python",
   "nbconvert_exporter": "python",
   "pygments_lexer": "ipython3",
   "version": "3.7.3"
  },
  "toc": {
   "base_numbering": 1,
   "nav_menu": {},
   "number_sections": true,
   "sideBar": true,
   "skip_h1_title": false,
   "title_cell": "Table of Contents",
   "title_sidebar": "Contents",
   "toc_cell": true,
   "toc_position": {
    "height": "calc(100% - 180px)",
    "left": "10px",
    "top": "150px",
    "width": "165px"
   },
   "toc_section_display": true,
   "toc_window_display": true
  },
  "varInspector": {
   "cols": {
    "lenName": 16,
    "lenType": 16,
    "lenVar": 40
   },
   "kernels_config": {
    "python": {
     "delete_cmd_postfix": "",
     "delete_cmd_prefix": "del ",
     "library": "var_list.py",
     "varRefreshCmd": "print(var_dic_list())"
    },
    "r": {
     "delete_cmd_postfix": ") ",
     "delete_cmd_prefix": "rm(",
     "library": "var_list.r",
     "varRefreshCmd": "cat(var_dic_list()) "
    }
   },
   "types_to_exclude": [
    "module",
    "function",
    "builtin_function_or_method",
    "instance",
    "_Feature"
   ],
   "window_display": false
  }
 },
 "nbformat": 4,
 "nbformat_minor": 2
}
