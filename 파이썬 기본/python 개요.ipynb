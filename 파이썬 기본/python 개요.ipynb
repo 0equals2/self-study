{
 "cells": [
  {
   "cell_type": "markdown",
   "metadata": {},
   "source": [
    "# 파이썬 개요"
   ]
  },
  {
   "cell_type": "markdown",
   "metadata": {},
   "source": [
    "## 파이썬 기초 용어, 함수 등\n",
    "* 모듈 : 이름으루 구분되는 변수, 함수, 클래스\n",
    "* 식별이름 : 변수, 함수, 클래스, 모듈 또는 다른 개체를 식별하는데 사용되는 이름\n",
    "* 키워드 : 식별 이름으로 지정할 수 없는 프로그램 전체에 영향을 미치는 이름\n",
    "* 영역 : 식별 이름의 효력이 미치는 범위\n",
    "* 상수 : 변경되지 않는 값\n",
    "* 파이썬 상수 : 내장 타입 객체로 고유 속성과 메소드를 가짐"
   ]
  },
  {
   "cell_type": "markdown",
   "metadata": {},
   "source": [
    "## 파이썬 특징\n",
    "C, C++, javascript 등과 다르게 명령어 해석기 방식의 스크립트 언어!  \n",
    "명령 순으로 실행  \n",
    "main() 함수를 정의할 필요가 無, 함수 정의 위치도 중요하지 않다.  \n",
    "복합 구문을 중괄호{} 아닌 들여쓰기(tab)로 구분  \n",
    "C 언어처럼 명령을 끝내는 기호가 존재하지 않는다  \n",
    "모든 것을 *객체* 로 취급, 변수는 참조 타입 하나로 통일  \n",
    "함수는 일반화된 정의를 가짐, 객체지향 및 함수형 패러다임 지원(최신 프로그래밍)  \n",
    "스크립트 언어이기 때문에 #으로 주석  "
   ]
  },
  {
   "cell_type": "markdown",
   "metadata": {},
   "source": [
    "C파이썬 : C언어로 구현된 명령어 해석기  \n",
    "자이썬 : 자바 가상 머신용 명령어 해석기  \n",
    "IronPython : c#으로 구현된 .NET 플랫폼 용 명령어 해석기  \n",
    "PyPy : 파이썬으로 작성된 파이썬 명령어 해석기  "
   ]
  },
  {
   "cell_type": "markdown",
   "metadata": {},
   "source": [
    " 파이썬은 스크립트 언어이므로 main()과 같은 함수 정의가 필수가 아니다\n",
    " 첫 번째 구문부터 차례대로 실행됨"
   ]
  },
  {
   "cell_type": "code",
   "execution_count": 2,
   "metadata": {},
   "outputs": [
    {
     "name": "stdout",
     "output_type": "stream",
     "text": [
      "hello world\n"
     ]
    }
   ],
   "source": [
    "#파이썬 helloworld\n",
    "print(\"hello world\")"
   ]
  },
  {
   "cell_type": "markdown",
   "metadata": {},
   "source": [
    "## 주석! \n",
    "- 코드에 대한 설명 표현 방식\n",
    "- 한 줄 주석은 기존 스크립트 언어와 같이 # 기호로 표시\n",
    "- 여러줄 주석은 작은 따옴표 또는 큰따옴표 3개를 사용"
   ]
  },
  {
   "cell_type": "code",
   "execution_count": 3,
   "metadata": {},
   "outputs": [],
   "source": [
    "# 한 줄 주석"
   ]
  },
  {
   "cell_type": "code",
   "execution_count": 4,
   "metadata": {},
   "outputs": [
    {
     "data": {
      "text/plain": [
       "'\\nprint(1+3)\\n\\n'"
      ]
     },
     "execution_count": 4,
     "metadata": {},
     "output_type": "execute_result"
    }
   ],
   "source": [
    "'''\n",
    "여러 줄 \n",
    "주석\n",
    "'''\n",
    "\"\"\"\n",
    "print(1+3)\n",
    "\n",
    "\"\"\""
   ]
  },
  {
   "cell_type": "markdown",
   "metadata": {},
   "source": [
    "## 표준 출력\n",
    "내장 함수 print()는 데이터를 문자열로 변환해 표준 출력 버퍼에 전달  \n",
    "출력 대상은 타입에 관계없이 상수나 변수를 사용해 2개 이상일 경우 쉼표로 구분  \n",
    "end , sep 인자로 종료나 구분 문자 지정 가능  \n",
    "형식 지정자가 포함된 문자열을 인자로 사용하면 % 기호로 형식 지정자에 대응하는 대상 연결"
   ]
  },
  {
   "cell_type": "code",
   "execution_count": 5,
   "metadata": {},
   "outputs": [
    {
     "name": "stdout",
     "output_type": "stream",
     "text": [
      "1\n",
      "1.0 Hello World\n",
      "1 1.0 Hello World\n",
      "1, 1.0, Hello World\n",
      "a = 1, b= 1.000000, c =Hello World\n"
     ]
    }
   ],
   "source": [
    "print(1)    #int\n",
    "print(1.0, end=\" \")    #float\n",
    "print(\"Hello World\")    #str\n",
    "\n",
    "print(1, 1.0, \"Hello World\")\n",
    "print(1, 1.0, \"Hello World\", sep=\", \")\n",
    "\n",
    "print(\"a = %d, b= %f, c =%s\" % (1, 1.0, \"Hello World\"))"
   ]
  },
  {
   "cell_type": "markdown",
   "metadata": {},
   "source": [
    "## 표준 입력\n",
    "내장 함수 input() 은 표준 입력 버퍼에 저장된 문자열을 읽어서 반환  \n",
    "표준 입력 버퍼가 빈 상태에서 input()이 실행되면 사용자가 enter 키를 누를 때까찌 입력 대기 상태로 유지  \n",
    "입력된 문자열을 정수로 취급하려면 내장 함수 int()로 변환해야 한다  "
   ]
  },
  {
   "cell_type": "code",
   "execution_count": 6,
   "metadata": {},
   "outputs": [
    {
     "name": "stdout",
     "output_type": "stream",
     "text": [
      "안녕하세요\n",
      "Yes or No : Yes\n",
      "number : 30\n"
     ]
    }
   ],
   "source": [
    "user_input = input()\n",
    "user_input = input(\"Yes or No : \")\n",
    "user_input = int(input(\"number : \"))"
   ]
  },
  {
   "cell_type": "markdown",
   "metadata": {},
   "source": [
    "## 식별 이름\n",
    "변수나 함수, 클래스 등의 프로그램 요소를 고유하게 구분  \n",
    "일반적인 프로그래밍 언어 규칙과 같다  \n",
    "파이썬은 유니코드를 지원, 고로 한글도 가능하다\n",
    "클래스 이름은 CamelCase로 표기 (낙타 등과 같이 대문자로 문자를 구분하는 방식)  \n",
    "const 상수를 지원하지 않으므로 , const 의미의 변수는 모두 CAPITAL로 표기  \n",
    "변수나 함수는 lower_case로 표기  "
   ]
  },
  {
   "cell_type": "markdown",
   "metadata": {},
   "source": [
    "## 키워드\n",
    "키워드는 의미가 프로그램 전체에 미치므로 식별이름으로 사용불가  \n",
    "객체 지향 및 함수형 프로그래밍 지원 키워드 포함  \n",
    "구조적 예외 처리 지원 키워드 포함  \n",
    "\n",
    "False  class  finally  is  return  None  continue  for  lambda  try  True  def  from  nonlocal  while  and  del  global  not  with  as  elif  if  or  yield  assert  else  import  pass  break  except  in  raise"
   ]
  },
  {
   "cell_type": "markdown",
   "metadata": {},
   "source": [
    "## 영역\n",
    "영역은 식별 이름의 효력이 미치는 범위  \n",
    "최상위 영역에서 하위 영역으로 계층 구조를 이룸  \n",
    "상위 영역에서 하위 영역의 접근은 노출된 이름을 통해 간접적으로 접근  \n",
    "하위 영역에서 상위 영역의 접근은 상황에 따라 다름  \n",
    "\n",
    "하위 영역 시작은 구문 끝에 콜론을 붙이며 들여쓰기 단계에 이해 소속이 구분됨"
   ]
  },
  {
   "cell_type": "code",
   "execution_count": 9,
   "metadata": {},
   "outputs": [],
   "source": [
    "def example(n):              #함수 영역   |    하위영역                             ┑\n",
    "    def inner(n):              #함수 영역                                               │\n",
    "        pass                   #함수 영역                                               │\n",
    "\n",
    "for i in range(1):                    #제어 영역   |     하위영역                        │    #모듈영역\n",
    "    pass                       #제어 영역                                            ┘"
   ]
  },
  {
   "cell_type": "markdown",
   "metadata": {},
   "source": [
    "## 객체\n",
    "\n",
    "파이썬은 모든 것을 객체로 취급  : 1, 2, 3, True, False 등도 객체  \n",
    "객체는 자신의 속성과 메소드를 가짐  \n",
    "속성은 객체의 내부 상태를 나타내는 변수  \n",
    "메소드는 객체 자신의 고유 연산을 정의한 함수  \n",
    "다른 객체의 속성에 접근하거나 메소드를 호출하려면 참조 변수나 객체 이름 필요"
   ]
  },
  {
   "cell_type": "markdown",
   "metadata": {},
   "source": [
    "## 모듈\n",
    "파이썬의 기본 실행 단위로 하나의 파일이 모듈  \n",
    "이름으로 구분되는 변수 ,함수, 클래스의 정의를 가짐  \n",
    "모듈도 하나의 *객체* 이므로 다른 모듈에서 정의한 기능을 사용하려면 import 문으로 모듈 객체 생성 및 참조  \n",
    "import <모듈> 구문은 모듈 이름에 해당하는 파일을 읽어와 *객체* 로 만든 후 참조 대입 (.py 확장자 제외)  \n",
    "<모듈>.<이름> 구문으로 해당 모듈에 정의된 이름 사용  "
   ]
  },
  {
   "cell_type": "markdown",
   "metadata": {},
   "source": [
    "ex)  \n",
    "a.py  \n",
    "def mod(whoami):  \n",
    "    print(whoami)  \n",
    "    \n",
    "msg = \"It's a\"  \n",
    "\n",
    "b.py  \n",
    "msg = \"It's b\"  \n",
    "\n",
    "import a  \n",
    "print(a.msg)  \n",
    "a.mod()  "
   ]
  },
  {
   "cell_type": "markdown",
   "metadata": {},
   "source": [
    " ## 상수\n",
    " 변경되지 않는 값으로 변수에 대입되거나 연산의 피연산자로 사용  \n",
    " 수학에서는 어떤 값인지는 몰라도 절대 변하지 않는 값\n",
    " 프로그래밍 언어에서는 타입이 부여되는 변하지 않는 값으로 리터럴 상수와 심볼릭 상수로 구분  \n",
    " 리터럴 상수는 글자 표현 그대로의 의미가 있어서 이름이 없는 상수  \n",
    " 심볼릭 상수는 C언어의 const 또는 #define과 같이 이름이 부여된 상수"
   ]
  },
  {
   "cell_type": "markdown",
   "metadata": {},
   "source": [
    "## 파이썬 상수\n",
    "변하지 않는 값이 아닌 내장 타입 객체   (초기화된 객체)\n",
    "자신의 고유 속성과 메소드를 지님  \n",
    "사용자가 원하는 속성으로 초기화한 객체를 생성하거나 내부적으로 미리 만들어진 객체를 사용한다는 의미  \n",
    "숫자 상수와 튜플은 기존 상수 개념과 호환성 유지  \n",
    "* 숫자, 논리, 튜플 < 이뮤터블 객체\n",
    "* 리스트 , 집합, 딕셔너리 < 뮤터블 객체  \n",
    "내장 타입은 숫자, 논리, 컨테이너 타입 제공"
   ]
  },
  {
   "cell_type": "code",
   "execution_count": null,
   "metadata": {},
   "outputs": [],
   "source": []
  }
 ],
 "metadata": {
  "kernelspec": {
   "display_name": "Python 3",
   "language": "python",
   "name": "python3"
  },
  "language_info": {
   "codemirror_mode": {
    "name": "ipython",
    "version": 3
   },
   "file_extension": ".py",
   "mimetype": "text/x-python",
   "name": "python",
   "nbconvert_exporter": "python",
   "pygments_lexer": "ipython3",
   "version": "3.7.3"
  }
 },
 "nbformat": 4,
 "nbformat_minor": 2
}
