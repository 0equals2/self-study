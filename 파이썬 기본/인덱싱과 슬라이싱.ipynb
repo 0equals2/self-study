{
 "cells": [
  {
   "cell_type": "markdown",
   "metadata": {
    "toc": true
   },
   "source": [
    "<h1>Table of Contents<span class=\"tocSkip\"></span></h1>\n",
    "<div class=\"toc\"><ul class=\"toc-item\"><li><span><a href=\"#인덱싱과-슬라이싱\" data-toc-modified-id=\"인덱싱과-슬라이싱-1\"><span class=\"toc-item-num\">1&nbsp;&nbsp;</span>인덱싱과 슬라이싱</a></span><ul class=\"toc-item\"><li><span><a href=\"#인덱싱\" data-toc-modified-id=\"인덱싱-1.1\"><span class=\"toc-item-num\">1.1&nbsp;&nbsp;</span>인덱싱</a></span></li><li><span><a href=\"#슬라이싱\" data-toc-modified-id=\"슬라이싱-1.2\"><span class=\"toc-item-num\">1.2&nbsp;&nbsp;</span>슬라이싱</a></span></li><li><span><a href=\"#슬라이싱-간격\" data-toc-modified-id=\"슬라이싱-간격-1.3\"><span class=\"toc-item-num\">1.3&nbsp;&nbsp;</span>슬라이싱 간격</a></span></li><li><span><a href=\"#문자열-인덱싱과-슬라이싱\" data-toc-modified-id=\"문자열-인덱싱과-슬라이싱-1.4\"><span class=\"toc-item-num\">1.4&nbsp;&nbsp;</span>문자열 인덱싱과 슬라이싱</a></span></li><li><span><a href=\"#튜플-인덱싱과-슬라이싱\" data-toc-modified-id=\"튜플-인덱싱과-슬라이싱-1.5\"><span class=\"toc-item-num\">1.5&nbsp;&nbsp;</span>튜플 인덱싱과 슬라이싱</a></span></li><li><span><a href=\"#리스트-인덱싱과-슬라이싱\" data-toc-modified-id=\"리스트-인덱싱과-슬라이싱-1.6\"><span class=\"toc-item-num\">1.6&nbsp;&nbsp;</span>리스트 인덱싱과 슬라이싱</a></span></li><li><span><a href=\"#리스트-인덱싱과-원형-리스트\" data-toc-modified-id=\"리스트-인덱싱과-원형-리스트-1.7\"><span class=\"toc-item-num\">1.7&nbsp;&nbsp;</span>리스트 인덱싱과 원형 리스트</a></span></li></ul></li><li><span><a href=\"#연결,-반복,-요소검사,-변경불가\" data-toc-modified-id=\"연결,-반복,-요소검사,-변경불가-2\"><span class=\"toc-item-num\">2&nbsp;&nbsp;</span>연결, 반복, 요소검사, 변경불가</a></span><ul class=\"toc-item\"><li><span><a href=\"#연결하기\" data-toc-modified-id=\"연결하기-2.1\"><span class=\"toc-item-num\">2.1&nbsp;&nbsp;</span>연결하기</a></span></li><li><span><a href=\"#반복하기\" data-toc-modified-id=\"반복하기-2.2\"><span class=\"toc-item-num\">2.2&nbsp;&nbsp;</span>반복하기</a></span></li><li><span><a href=\"#요소-검사\" data-toc-modified-id=\"요소-검사-2.3\"><span class=\"toc-item-num\">2.3&nbsp;&nbsp;</span>요소 검사</a></span></li><li><span><a href=\"#변경-불가\" data-toc-modified-id=\"변경-불가-2.4\"><span class=\"toc-item-num\">2.4&nbsp;&nbsp;</span>변경 불가</a></span></li></ul></li></ul></div>"
   ]
  },
  {
   "cell_type": "markdown",
   "metadata": {},
   "source": [
    "# 인덱싱과 슬라이싱\n",
    "## 인덱싱\n",
    "* 인덱싱은 컨테이너에 포함된 객체 위치를 참조할 때 저장 순서나 키 이용\n",
    "* 시퀀스의 인덱스는 저장 순서 의미\n",
    "* 시작 위치 기준으로 순 방향 접근은 0부터 1씩 증가, 마지막 위치를 기준으로 역 방향 접근은 -1 부터 1씩 감소\n",
    "* 딕셔너리의 인덱스는 키 의미, **집합은 인덱싱을 지원하지 않음**"
   ]
  },
  {
   "cell_type": "code",
   "execution_count": 1,
   "metadata": {
    "ExecuteTime": {
     "end_time": "2019-09-17T17:01:05.842845Z",
     "start_time": "2019-09-17T17:01:05.837844Z"
    }
   },
   "outputs": [],
   "source": [
    "s = \"you\"\n",
    "l = [1, 2, 3, 4]\n",
    "t = tuple(l)\n",
    "e = set(l)\n",
    "d = {1:\"A\", 2:\"B\", 3:\"C\", 4:\"D\"}"
   ]
  },
  {
   "cell_type": "code",
   "execution_count": 2,
   "metadata": {
    "ExecuteTime": {
     "end_time": "2019-09-17T17:01:07.371923Z",
     "start_time": "2019-09-17T17:01:07.358924Z"
    }
   },
   "outputs": [
    {
     "data": {
      "text/plain": [
       "'u'"
      ]
     },
     "execution_count": 2,
     "metadata": {},
     "output_type": "execute_result"
    }
   ],
   "source": [
    "s[2]"
   ]
  },
  {
   "cell_type": "code",
   "execution_count": 3,
   "metadata": {
    "ExecuteTime": {
     "end_time": "2019-09-17T17:01:10.276808Z",
     "start_time": "2019-09-17T17:01:10.271811Z"
    }
   },
   "outputs": [
    {
     "data": {
      "text/plain": [
       "3"
      ]
     },
     "execution_count": 3,
     "metadata": {},
     "output_type": "execute_result"
    }
   ],
   "source": [
    "l[2]"
   ]
  },
  {
   "cell_type": "code",
   "execution_count": 4,
   "metadata": {
    "ExecuteTime": {
     "end_time": "2019-09-17T17:01:12.997102Z",
     "start_time": "2019-09-17T17:01:12.991104Z"
    }
   },
   "outputs": [
    {
     "data": {
      "text/plain": [
       "3"
      ]
     },
     "execution_count": 4,
     "metadata": {},
     "output_type": "execute_result"
    }
   ],
   "source": [
    "t[2]"
   ]
  },
  {
   "cell_type": "code",
   "execution_count": 7,
   "metadata": {
    "ExecuteTime": {
     "end_time": "2019-09-17T17:01:45.033559Z",
     "start_time": "2019-09-17T17:01:45.021562Z"
    }
   },
   "outputs": [
    {
     "ename": "TypeError",
     "evalue": "'set' object is not subscriptable",
     "output_type": "error",
     "traceback": [
      "\u001b[1;31m---------------------------------------------------------------------------\u001b[0m",
      "\u001b[1;31mTypeError\u001b[0m                                 Traceback (most recent call last)",
      "\u001b[1;32m<ipython-input-7-5b5c9b93a683>\u001b[0m in \u001b[0;36m<module>\u001b[1;34m\u001b[0m\n\u001b[1;32m----> 1\u001b[1;33m \u001b[0me\u001b[0m\u001b[1;33m[\u001b[0m\u001b[1;36m3\u001b[0m\u001b[1;33m]\u001b[0m \u001b[1;31m# 집합은 인덱싱을 지원하지 않음\u001b[0m\u001b[1;33m\u001b[0m\u001b[1;33m\u001b[0m\u001b[0m\n\u001b[0m",
      "\u001b[1;31mTypeError\u001b[0m: 'set' object is not subscriptable"
     ]
    }
   ],
   "source": [
    "e[3] # 집합은 인덱싱을 지원하지 않음"
   ]
  },
  {
   "cell_type": "code",
   "execution_count": 6,
   "metadata": {
    "ExecuteTime": {
     "end_time": "2019-09-17T17:01:19.318315Z",
     "start_time": "2019-09-17T17:01:19.311315Z"
    }
   },
   "outputs": [
    {
     "data": {
      "text/plain": [
       "'B'"
      ]
     },
     "execution_count": 6,
     "metadata": {},
     "output_type": "execute_result"
    }
   ],
   "source": [
    "d[2]"
   ]
  },
  {
   "cell_type": "markdown",
   "metadata": {},
   "source": [
    "## 슬라이싱\n",
    "* 슬라이싱은 기존 시퀀스에서 지정한 범위를 잘라서 조각 모음 수행\n",
    "* [begin : end] : 잘라낼 범위의 시작과 끝 지정\n",
    "* end 를 생략하면 begin부터 마지막 요소까지 자름\n",
    "* begin 을 생략하면 첫 번째 요소부터 end -1 까지 자름\n",
    "* begin < 0 또는 end < 0 은 마지막 위치 기준"
   ]
  },
  {
   "cell_type": "code",
   "execution_count": 8,
   "metadata": {
    "ExecuteTime": {
     "end_time": "2019-09-17T17:04:17.003304Z",
     "start_time": "2019-09-17T17:04:16.999302Z"
    }
   },
   "outputs": [],
   "source": [
    "s = \"you and me\"\n",
    "l = list(s)\n",
    "t = tuple(l)"
   ]
  },
  {
   "cell_type": "code",
   "execution_count": 9,
   "metadata": {
    "ExecuteTime": {
     "end_time": "2019-09-17T17:04:17.485286Z",
     "start_time": "2019-09-17T17:04:17.479287Z"
    }
   },
   "outputs": [
    {
     "data": {
      "text/plain": [
       "'e'"
      ]
     },
     "execution_count": 9,
     "metadata": {},
     "output_type": "execute_result"
    }
   ],
   "source": [
    "s[-1:]"
   ]
  },
  {
   "cell_type": "code",
   "execution_count": 10,
   "metadata": {
    "ExecuteTime": {
     "end_time": "2019-09-17T17:04:25.152560Z",
     "start_time": "2019-09-17T17:04:25.145559Z"
    }
   },
   "outputs": [
    {
     "data": {
      "text/plain": [
       "['y', 'o', 'u', ' ', 'a', 'n', 'd', ' ']"
      ]
     },
     "execution_count": 10,
     "metadata": {},
     "output_type": "execute_result"
    }
   ],
   "source": [
    "l[:-2]"
   ]
  },
  {
   "cell_type": "code",
   "execution_count": 11,
   "metadata": {
    "ExecuteTime": {
     "end_time": "2019-09-17T17:04:31.461891Z",
     "start_time": "2019-09-17T17:04:31.456891Z"
    }
   },
   "outputs": [
    {
     "data": {
      "text/plain": [
       "('u',)"
      ]
     },
     "execution_count": 11,
     "metadata": {},
     "output_type": "execute_result"
    }
   ],
   "source": [
    "t[2:3]"
   ]
  },
  {
   "cell_type": "markdown",
   "metadata": {},
   "source": [
    "## 슬라이싱 간격\n",
    "* 슬라이싱으로 범위를 자를 때 간격을 지정하면 간격 만큼 스텝을 이동하며 조각 모음\n",
    "* 간격을 설정하지 않으면 디폴트 값인 1이 적용되어 범위에 포함된 모든 요소를 잘라 모음\n",
    "* [begin : end : stride] 간격단위로 잘라 조각 모음"
   ]
  },
  {
   "cell_type": "code",
   "execution_count": 12,
   "metadata": {
    "ExecuteTime": {
     "end_time": "2019-09-17T17:06:17.037103Z",
     "start_time": "2019-09-17T17:06:17.032103Z"
    }
   },
   "outputs": [],
   "source": [
    "s = \"banana\"\n",
    "l = [1, 2, 3, 4, 5, 6, 7, 8, 9, 10]\n",
    "t = tuple(l)"
   ]
  },
  {
   "cell_type": "code",
   "execution_count": 13,
   "metadata": {
    "ExecuteTime": {
     "end_time": "2019-09-17T17:06:24.221220Z",
     "start_time": "2019-09-17T17:06:24.216221Z"
    }
   },
   "outputs": [
    {
     "data": {
      "text/plain": [
       "'bnn'"
      ]
     },
     "execution_count": 13,
     "metadata": {},
     "output_type": "execute_result"
    }
   ],
   "source": [
    "s[0: :2]"
   ]
  },
  {
   "cell_type": "code",
   "execution_count": 14,
   "metadata": {
    "ExecuteTime": {
     "end_time": "2019-09-17T17:06:41.421285Z",
     "start_time": "2019-09-17T17:06:41.415287Z"
    }
   },
   "outputs": [
    {
     "data": {
      "text/plain": [
       "[1, 4]"
      ]
     },
     "execution_count": 14,
     "metadata": {},
     "output_type": "execute_result"
    }
   ],
   "source": [
    "l[ : -4 : 3]"
   ]
  },
  {
   "cell_type": "code",
   "execution_count": 15,
   "metadata": {
    "ExecuteTime": {
     "end_time": "2019-09-17T17:06:54.468841Z",
     "start_time": "2019-09-17T17:06:54.463838Z"
    }
   },
   "outputs": [
    {
     "data": {
      "text/plain": [
       "(10, 7, 4)"
      ]
     },
     "execution_count": 15,
     "metadata": {},
     "output_type": "execute_result"
    }
   ],
   "source": [
    "t[-1 : 1: -3]"
   ]
  },
  {
   "cell_type": "markdown",
   "metadata": {},
   "source": [
    "## 문자열 인덱싱과 슬라이싱\n",
    "* 문자열은 변경할 수 없는 객체이므로 인덱싱이나 슬라이싱을 적용할 때 r-value로만 사용\n",
    "* 수정이 필요하면 새로운 문자열 생성"
   ]
  },
  {
   "cell_type": "code",
   "execution_count": 16,
   "metadata": {
    "ExecuteTime": {
     "end_time": "2019-09-17T17:09:54.132408Z",
     "start_time": "2019-09-17T17:09:54.128407Z"
    }
   },
   "outputs": [],
   "source": [
    "s = \"you and i together forever\""
   ]
  },
  {
   "cell_type": "code",
   "execution_count": 17,
   "metadata": {
    "ExecuteTime": {
     "end_time": "2019-09-17T17:09:59.862528Z",
     "start_time": "2019-09-17T17:09:59.856529Z"
    }
   },
   "outputs": [
    {
     "data": {
      "text/plain": [
       "'you a'"
      ]
     },
     "execution_count": 17,
     "metadata": {},
     "output_type": "execute_result"
    }
   ],
   "source": [
    "s[0:5]"
   ]
  },
  {
   "cell_type": "code",
   "execution_count": 18,
   "metadata": {
    "ExecuteTime": {
     "end_time": "2019-09-17T17:10:21.886225Z",
     "start_time": "2019-09-17T17:10:21.881215Z"
    }
   },
   "outputs": [
    {
     "data": {
      "text/plain": [
       "'d i to'"
      ]
     },
     "execution_count": 18,
     "metadata": {},
     "output_type": "execute_result"
    }
   ],
   "source": [
    "s[6:12]"
   ]
  },
  {
   "cell_type": "code",
   "execution_count": 19,
   "metadata": {
    "ExecuteTime": {
     "end_time": "2019-09-17T17:10:27.167303Z",
     "start_time": "2019-09-17T17:10:27.161303Z"
    }
   },
   "outputs": [
    {
     "data": {
      "text/plain": [
       "'forever'"
      ]
     },
     "execution_count": 19,
     "metadata": {},
     "output_type": "execute_result"
    }
   ],
   "source": [
    "s[19:]"
   ]
  },
  {
   "cell_type": "code",
   "execution_count": 20,
   "metadata": {
    "ExecuteTime": {
     "end_time": "2019-09-17T17:10:34.670685Z",
     "start_time": "2019-09-17T17:10:34.664685Z"
    }
   },
   "outputs": [
    {
     "data": {
      "text/plain": [
       "' together forever'"
      ]
     },
     "execution_count": 20,
     "metadata": {},
     "output_type": "execute_result"
    }
   ],
   "source": [
    "s[-17:]"
   ]
  },
  {
   "cell_type": "code",
   "execution_count": 21,
   "metadata": {
    "ExecuteTime": {
     "end_time": "2019-09-17T17:10:42.865696Z",
     "start_time": "2019-09-17T17:10:42.859696Z"
    }
   },
   "outputs": [
    {
     "data": {
      "text/plain": [
       "'you and i together'"
      ]
     },
     "execution_count": 21,
     "metadata": {},
     "output_type": "execute_result"
    }
   ],
   "source": [
    "s[:18]"
   ]
  },
  {
   "cell_type": "code",
   "execution_count": 22,
   "metadata": {
    "ExecuteTime": {
     "end_time": "2019-09-17T17:10:50.341278Z",
     "start_time": "2019-09-17T17:10:50.336279Z"
    }
   },
   "outputs": [
    {
     "data": {
      "text/plain": [
       "'e'"
      ]
     },
     "execution_count": 22,
     "metadata": {},
     "output_type": "execute_result"
    }
   ],
   "source": [
    "s[13: -12]"
   ]
  },
  {
   "cell_type": "markdown",
   "metadata": {},
   "source": [
    "## 튜플 인덱싱과 슬라이싱\n",
    "* 문자열처럼 튜플도 변경할수 없는 객체이므로 인덱싱이나 슬라이싱을 적용할 때 r-value로만 사용\n",
    "* 수정이 필요하면 새로운 튜플 생성 (원하는 값 추출, 결합을 통해)"
   ]
  },
  {
   "cell_type": "code",
   "execution_count": 23,
   "metadata": {
    "ExecuteTime": {
     "end_time": "2019-09-17T17:12:30.797943Z",
     "start_time": "2019-09-17T17:12:30.793943Z"
    }
   },
   "outputs": [],
   "source": [
    "t = (1, 2, 3, 4, 5)"
   ]
  },
  {
   "cell_type": "code",
   "execution_count": 24,
   "metadata": {
    "ExecuteTime": {
     "end_time": "2019-09-17T17:12:44.697079Z",
     "start_time": "2019-09-17T17:12:44.691079Z"
    }
   },
   "outputs": [],
   "source": [
    "a = t[0]\n",
    "b = t[-1]"
   ]
  },
  {
   "cell_type": "code",
   "execution_count": 25,
   "metadata": {
    "ExecuteTime": {
     "end_time": "2019-09-17T17:12:57.855017Z",
     "start_time": "2019-09-17T17:12:57.845017Z"
    }
   },
   "outputs": [
    {
     "ename": "TypeError",
     "evalue": "'tuple' object does not support item assignment",
     "output_type": "error",
     "traceback": [
      "\u001b[1;31m---------------------------------------------------------------------------\u001b[0m",
      "\u001b[1;31mTypeError\u001b[0m                                 Traceback (most recent call last)",
      "\u001b[1;32m<ipython-input-25-717e4d340df6>\u001b[0m in \u001b[0;36m<module>\u001b[1;34m\u001b[0m\n\u001b[1;32m----> 1\u001b[1;33m \u001b[0mt\u001b[0m\u001b[1;33m[\u001b[0m\u001b[1;36m0\u001b[0m\u001b[1;33m]\u001b[0m \u001b[1;33m=\u001b[0m \u001b[1;36m100\u001b[0m \u001b[1;31m#오류\u001b[0m\u001b[1;33m\u001b[0m\u001b[1;33m\u001b[0m\u001b[0m\n\u001b[0m",
      "\u001b[1;31mTypeError\u001b[0m: 'tuple' object does not support item assignment"
     ]
    }
   ],
   "source": [
    "t[0] = 100 #오류"
   ]
  },
  {
   "cell_type": "code",
   "execution_count": 27,
   "metadata": {
    "ExecuteTime": {
     "end_time": "2019-09-17T17:13:51.565314Z",
     "start_time": "2019-09-17T17:13:51.562315Z"
    }
   },
   "outputs": [],
   "source": [
    "new_t = (-1, 0) + t[2: -2] + (10, 20)"
   ]
  },
  {
   "cell_type": "code",
   "execution_count": 28,
   "metadata": {
    "ExecuteTime": {
     "end_time": "2019-09-17T17:13:56.414487Z",
     "start_time": "2019-09-17T17:13:56.408490Z"
    }
   },
   "outputs": [
    {
     "data": {
      "text/plain": [
       "(-1, 0, 3, 10, 20)"
      ]
     },
     "execution_count": 28,
     "metadata": {},
     "output_type": "execute_result"
    }
   ],
   "source": [
    "new_t"
   ]
  },
  {
   "cell_type": "markdown",
   "metadata": {},
   "source": [
    "## 리스트 인덱싱과 슬라이싱\n",
    "* 리스트는 변경 가능한 객체이므로 인덱싱과 슬라이싱 모두 l-value 가능\n",
    "* 슬라이싱으로 변경할 때는 반드시 반복형 객체 사용"
   ]
  },
  {
   "cell_type": "code",
   "execution_count": 29,
   "metadata": {
    "ExecuteTime": {
     "end_time": "2019-09-17T17:15:20.268223Z",
     "start_time": "2019-09-17T17:15:20.264222Z"
    }
   },
   "outputs": [],
   "source": [
    "a = [[1, 2, 3], [4, 5, 6], [7, 8, 9]]\n",
    "a[0][0] = 10"
   ]
  },
  {
   "cell_type": "code",
   "execution_count": 30,
   "metadata": {
    "ExecuteTime": {
     "end_time": "2019-09-17T17:15:21.654137Z",
     "start_time": "2019-09-17T17:15:21.650136Z"
    }
   },
   "outputs": [
    {
     "data": {
      "text/plain": [
       "[[10, 2, 3], [4, 5, 6], [7, 8, 9]]"
      ]
     },
     "execution_count": 30,
     "metadata": {},
     "output_type": "execute_result"
    }
   ],
   "source": [
    "a"
   ]
  },
  {
   "cell_type": "code",
   "execution_count": 31,
   "metadata": {
    "ExecuteTime": {
     "end_time": "2019-09-17T17:15:25.917313Z",
     "start_time": "2019-09-17T17:15:25.912313Z"
    }
   },
   "outputs": [
    {
     "data": {
      "text/plain": [
       "3"
      ]
     },
     "execution_count": 31,
     "metadata": {},
     "output_type": "execute_result"
    }
   ],
   "source": [
    "len(a)"
   ]
  },
  {
   "cell_type": "code",
   "execution_count": 32,
   "metadata": {
    "ExecuteTime": {
     "end_time": "2019-09-17T17:15:38.599317Z",
     "start_time": "2019-09-17T17:15:38.595307Z"
    }
   },
   "outputs": [
    {
     "data": {
      "text/plain": [
       "[10, 2, 3, 4, 5, 6]"
      ]
     },
     "execution_count": 32,
     "metadata": {},
     "output_type": "execute_result"
    }
   ],
   "source": [
    "a[0] + a[1]"
   ]
  },
  {
   "cell_type": "code",
   "execution_count": 34,
   "metadata": {
    "ExecuteTime": {
     "end_time": "2019-09-17T17:15:52.453380Z",
     "start_time": "2019-09-17T17:15:52.449381Z"
    }
   },
   "outputs": [
    {
     "data": {
      "text/plain": [
       "[7, 8, 9]"
      ]
     },
     "execution_count": 34,
     "metadata": {},
     "output_type": "execute_result"
    }
   ],
   "source": [
    "a[1:3][1]"
   ]
  },
  {
   "cell_type": "code",
   "execution_count": 35,
   "metadata": {
    "ExecuteTime": {
     "end_time": "2019-09-17T17:16:01.984852Z",
     "start_time": "2019-09-17T17:16:01.978852Z"
    }
   },
   "outputs": [
    {
     "data": {
      "text/plain": [
       "8"
      ]
     },
     "execution_count": 35,
     "metadata": {},
     "output_type": "execute_result"
    }
   ],
   "source": [
    "a[1:3][1][1]"
   ]
  },
  {
   "cell_type": "code",
   "execution_count": 36,
   "metadata": {
    "ExecuteTime": {
     "end_time": "2019-09-17T17:16:30.632458Z",
     "start_time": "2019-09-17T17:16:30.627457Z"
    }
   },
   "outputs": [
    {
     "data": {
      "text/plain": [
       "[5]"
      ]
     },
     "execution_count": 36,
     "metadata": {},
     "output_type": "execute_result"
    }
   ],
   "source": [
    "a[1][1:2]"
   ]
  },
  {
   "cell_type": "code",
   "execution_count": 37,
   "metadata": {
    "ExecuteTime": {
     "end_time": "2019-09-17T17:16:43.869878Z",
     "start_time": "2019-09-17T17:16:43.864878Z"
    }
   },
   "outputs": [
    {
     "data": {
      "text/plain": [
       "2"
      ]
     },
     "execution_count": 37,
     "metadata": {},
     "output_type": "execute_result"
    }
   ],
   "source": [
    "a[0][1]"
   ]
  },
  {
   "cell_type": "markdown",
   "metadata": {},
   "source": [
    "## 리스트 인덱싱과 원형 리스트\n",
    "* 연결 리스트의 요소를 노드라 부르며, 노드는 데이터와 다른 노드의 참조로 구성\n",
    "* 마지막 노드의 참조가 처음 노드를 가리키면 원형 리스트"
   ]
  },
  {
   "cell_type": "code",
   "execution_count": 38,
   "metadata": {
    "ExecuteTime": {
     "end_time": "2019-09-17T17:24:47.299048Z",
     "start_time": "2019-09-17T17:24:47.294047Z"
    }
   },
   "outputs": [],
   "source": [
    "#첫 번째 노드\n",
    "head_tail = [1, None]\n",
    "\n",
    "n = head_tail\n",
    "n[1] = [2, None]"
   ]
  },
  {
   "cell_type": "code",
   "execution_count": 40,
   "metadata": {
    "ExecuteTime": {
     "end_time": "2019-09-17T17:24:53.392869Z",
     "start_time": "2019-09-17T17:24:53.387867Z"
    }
   },
   "outputs": [
    {
     "data": {
      "text/plain": [
       "[1, [2, None]]"
      ]
     },
     "execution_count": 40,
     "metadata": {},
     "output_type": "execute_result"
    }
   ],
   "source": [
    "n"
   ]
  },
  {
   "cell_type": "code",
   "execution_count": 41,
   "metadata": {
    "ExecuteTime": {
     "end_time": "2019-09-17T17:25:08.832448Z",
     "start_time": "2019-09-17T17:25:08.828449Z"
    }
   },
   "outputs": [],
   "source": [
    "n = n[1]\n",
    "n[1] = [3, None]"
   ]
  },
  {
   "cell_type": "code",
   "execution_count": 42,
   "metadata": {
    "ExecuteTime": {
     "end_time": "2019-09-17T17:25:10.232406Z",
     "start_time": "2019-09-17T17:25:10.226406Z"
    }
   },
   "outputs": [
    {
     "data": {
      "text/plain": [
       "[2, [3, None]]"
      ]
     },
     "execution_count": 42,
     "metadata": {},
     "output_type": "execute_result"
    }
   ],
   "source": [
    "n"
   ]
  },
  {
   "cell_type": "code",
   "execution_count": 44,
   "metadata": {
    "ExecuteTime": {
     "end_time": "2019-09-17T17:48:17.902667Z",
     "start_time": "2019-09-17T17:48:17.900667Z"
    }
   },
   "outputs": [],
   "source": [
    "n = n[1]"
   ]
  },
  {
   "cell_type": "code",
   "execution_count": 45,
   "metadata": {
    "ExecuteTime": {
     "end_time": "2019-09-17T17:48:19.712729Z",
     "start_time": "2019-09-17T17:48:19.707732Z"
    }
   },
   "outputs": [
    {
     "data": {
      "text/plain": [
       "[3, None]"
      ]
     },
     "execution_count": 45,
     "metadata": {},
     "output_type": "execute_result"
    }
   ],
   "source": [
    "n"
   ]
  },
  {
   "cell_type": "code",
   "execution_count": 46,
   "metadata": {
    "ExecuteTime": {
     "end_time": "2019-09-17T17:48:31.080301Z",
     "start_time": "2019-09-17T17:48:31.076302Z"
    }
   },
   "outputs": [],
   "source": [
    "n[1] = [4, head_tail]"
   ]
  },
  {
   "cell_type": "code",
   "execution_count": 47,
   "metadata": {
    "ExecuteTime": {
     "end_time": "2019-09-17T17:48:33.922371Z",
     "start_time": "2019-09-17T17:48:33.899370Z"
    }
   },
   "outputs": [
    {
     "data": {
      "text/plain": [
       "[3, [4, [1, [2, [...]]]]]"
      ]
     },
     "execution_count": 47,
     "metadata": {},
     "output_type": "execute_result"
    }
   ],
   "source": [
    "n"
   ]
  },
  {
   "cell_type": "code",
   "execution_count": 48,
   "metadata": {
    "ExecuteTime": {
     "end_time": "2019-09-17T17:50:42.395408Z",
     "start_time": "2019-09-17T17:50:42.390407Z"
    }
   },
   "outputs": [],
   "source": [
    "#노트 탐색\n",
    "data = [0, 0, 0, 0, 0]\n",
    "node = head_tail\n",
    "data[0] = node[0]\n",
    "n = node[1]\n",
    "data[1] = n[0]"
   ]
  },
  {
   "cell_type": "code",
   "execution_count": 49,
   "metadata": {
    "ExecuteTime": {
     "end_time": "2019-09-17T17:51:27.064080Z",
     "start_time": "2019-09-17T17:51:27.060081Z"
    }
   },
   "outputs": [],
   "source": [
    "data[2] = n[0]\n",
    "n = n[1]\n",
    "data[3] = n[0]"
   ]
  },
  {
   "cell_type": "code",
   "execution_count": 50,
   "metadata": {
    "ExecuteTime": {
     "end_time": "2019-09-17T17:51:56.285926Z",
     "start_time": "2019-09-17T17:51:56.281927Z"
    }
   },
   "outputs": [],
   "source": [
    "# 마지막 다음은 다시 첫 번째\n",
    "n = n[1]\n",
    "data[4] = n[0]"
   ]
  },
  {
   "cell_type": "code",
   "execution_count": 51,
   "metadata": {
    "ExecuteTime": {
     "end_time": "2019-09-17T17:51:57.707885Z",
     "start_time": "2019-09-17T17:51:57.701886Z"
    }
   },
   "outputs": [
    {
     "data": {
      "text/plain": [
       "[1, 2, 2, 3, 4]"
      ]
     },
     "execution_count": 51,
     "metadata": {},
     "output_type": "execute_result"
    }
   ],
   "source": [
    "data"
   ]
  },
  {
   "cell_type": "markdown",
   "metadata": {},
   "source": [
    "# 연결, 반복, 요소검사, 변경불가\n",
    "## 연결하기\n",
    "* 연결하기는 동일 타입의 시퀀스를 결합해 새로운 객체 생성\n",
    "* 덧셈 연산자 + 재사용\n",
    "* 시퀀스 + 시퀀스"
   ]
  },
  {
   "cell_type": "code",
   "execution_count": 52,
   "metadata": {
    "ExecuteTime": {
     "end_time": "2019-09-17T17:53:18.536256Z",
     "start_time": "2019-09-17T17:53:18.530263Z"
    }
   },
   "outputs": [],
   "source": [
    "s = \"Apple\"\n",
    "l = [1, 2, 3, 4]\n",
    "t = tuple(l)"
   ]
  },
  {
   "cell_type": "code",
   "execution_count": 53,
   "metadata": {
    "ExecuteTime": {
     "end_time": "2019-09-17T17:54:31.259231Z",
     "start_time": "2019-09-17T17:54:31.254234Z"
    }
   },
   "outputs": [],
   "source": [
    "r1 = s + s \n",
    "r2 = l + l"
   ]
  },
  {
   "cell_type": "code",
   "execution_count": 55,
   "metadata": {
    "ExecuteTime": {
     "end_time": "2019-09-17T17:54:51.815623Z",
     "start_time": "2019-09-17T17:54:51.809623Z"
    }
   },
   "outputs": [
    {
     "data": {
      "text/plain": [
       "[1, 2, 3, 4, 'A', 'p', 'p', 'l', 'e']"
      ]
     },
     "execution_count": 55,
     "metadata": {},
     "output_type": "execute_result"
    }
   ],
   "source": [
    "l + list(s)"
   ]
  },
  {
   "cell_type": "code",
   "execution_count": 56,
   "metadata": {
    "ExecuteTime": {
     "end_time": "2019-09-17T17:54:57.717455Z",
     "start_time": "2019-09-17T17:54:57.711455Z"
    }
   },
   "outputs": [
    {
     "data": {
      "text/plain": [
       "(1, 2, 3, 4, 1, 2, 3, 4)"
      ]
     },
     "execution_count": 56,
     "metadata": {},
     "output_type": "execute_result"
    }
   ],
   "source": [
    "t + t"
   ]
  },
  {
   "cell_type": "code",
   "execution_count": 57,
   "metadata": {
    "ExecuteTime": {
     "end_time": "2019-09-17T17:55:02.462006Z",
     "start_time": "2019-09-17T17:55:02.455006Z"
    }
   },
   "outputs": [
    {
     "data": {
      "text/plain": [
       "(1, 2, 3, 4, 1, 2, 3, 4)"
      ]
     },
     "execution_count": 57,
     "metadata": {},
     "output_type": "execute_result"
    }
   ],
   "source": [
    "t + tuple(l)"
   ]
  },
  {
   "cell_type": "markdown",
   "metadata": {},
   "source": [
    "## 반복하기\n",
    "* 반복하기는 동일 타입의 시퀀스를 반복 횟수만큼 결합해 새로운 객체 생성\n",
    "* 곱셈 연산자 * 재사용\n",
    "* 시퀀스 * 횟수"
   ]
  },
  {
   "cell_type": "code",
   "execution_count": 58,
   "metadata": {
    "ExecuteTime": {
     "end_time": "2019-09-17T18:30:45.865211Z",
     "start_time": "2019-09-17T18:30:45.860212Z"
    }
   },
   "outputs": [],
   "source": [
    "s = \"Apple\"\n",
    "l = [1, 2, 3, 4]\n",
    "t = tuple(l)"
   ]
  },
  {
   "cell_type": "code",
   "execution_count": 59,
   "metadata": {
    "ExecuteTime": {
     "end_time": "2019-09-17T18:30:52.284510Z",
     "start_time": "2019-09-17T18:30:52.279510Z"
    }
   },
   "outputs": [
    {
     "data": {
      "text/plain": [
       "'===================='"
      ]
     },
     "execution_count": 59,
     "metadata": {},
     "output_type": "execute_result"
    }
   ],
   "source": [
    "\"=\" * 20"
   ]
  },
  {
   "cell_type": "code",
   "execution_count": 60,
   "metadata": {
    "ExecuteTime": {
     "end_time": "2019-09-17T18:30:56.243788Z",
     "start_time": "2019-09-17T18:30:56.239781Z"
    }
   },
   "outputs": [
    {
     "data": {
      "text/plain": [
       "'AppleApple'"
      ]
     },
     "execution_count": 60,
     "metadata": {},
     "output_type": "execute_result"
    }
   ],
   "source": [
    "s * 2"
   ]
  },
  {
   "cell_type": "code",
   "execution_count": 61,
   "metadata": {
    "ExecuteTime": {
     "end_time": "2019-09-17T18:31:00.756043Z",
     "start_time": "2019-09-17T18:31:00.752043Z"
    }
   },
   "outputs": [
    {
     "data": {
      "text/plain": [
       "[1, 2, 3, 4, 1, 2, 3, 4]"
      ]
     },
     "execution_count": 61,
     "metadata": {},
     "output_type": "execute_result"
    }
   ],
   "source": [
    "l * 2"
   ]
  },
  {
   "cell_type": "code",
   "execution_count": 62,
   "metadata": {
    "ExecuteTime": {
     "end_time": "2019-09-17T18:31:04.965892Z",
     "start_time": "2019-09-17T18:31:04.959891Z"
    }
   },
   "outputs": [
    {
     "data": {
      "text/plain": [
       "(1, 2, 3, 4, 1, 2, 3, 4)"
      ]
     },
     "execution_count": 62,
     "metadata": {},
     "output_type": "execute_result"
    }
   ],
   "source": [
    "t * 2"
   ]
  },
  {
   "cell_type": "code",
   "execution_count": 63,
   "metadata": {
    "ExecuteTime": {
     "end_time": "2019-09-17T18:31:49.926709Z",
     "start_time": "2019-09-17T18:31:49.920709Z"
    }
   },
   "outputs": [
    {
     "data": {
      "text/plain": [
       "[[1], [2], [1], [2]]"
      ]
     },
     "execution_count": 63,
     "metadata": {},
     "output_type": "execute_result"
    }
   ],
   "source": [
    "[[1],[2]] * 2"
   ]
  },
  {
   "cell_type": "markdown",
   "metadata": {},
   "source": [
    "## 요소 검사\n",
    "* in 키워드는 어떤객체가 컨테이너의 요소로 포함되어 있는지 검사\n",
    "* <검사> in <컨테이너>\n",
    "* 딕셔너리는 키만 검사"
   ]
  },
  {
   "cell_type": "code",
   "execution_count": 64,
   "metadata": {
    "ExecuteTime": {
     "end_time": "2019-09-17T20:43:44.675744Z",
     "start_time": "2019-09-17T20:43:44.666744Z"
    }
   },
   "outputs": [],
   "source": [
    "s = \"Apple\"\n",
    "l = [1, [2, 3], 4]\n",
    "t = tuple(l)\n",
    "e = (2, 3, 1, 1, 4)\n",
    "d= {1: \"A\", 2: \"B\", 3: \"C\", 4: \"D\"}"
   ]
  },
  {
   "cell_type": "code",
   "execution_count": 65,
   "metadata": {
    "ExecuteTime": {
     "end_time": "2019-09-17T20:43:49.687669Z",
     "start_time": "2019-09-17T20:43:49.681669Z"
    }
   },
   "outputs": [
    {
     "data": {
      "text/plain": [
       "True"
      ]
     },
     "execution_count": 65,
     "metadata": {},
     "output_type": "execute_result"
    }
   ],
   "source": [
    "'pp' in s"
   ]
  },
  {
   "cell_type": "code",
   "execution_count": 66,
   "metadata": {
    "ExecuteTime": {
     "end_time": "2019-09-17T20:43:55.118742Z",
     "start_time": "2019-09-17T20:43:55.111732Z"
    }
   },
   "outputs": [
    {
     "data": {
      "text/plain": [
       "True"
      ]
     },
     "execution_count": 66,
     "metadata": {},
     "output_type": "execute_result"
    }
   ],
   "source": [
    "[2, 3] in l"
   ]
  },
  {
   "cell_type": "code",
   "execution_count": 67,
   "metadata": {
    "ExecuteTime": {
     "end_time": "2019-09-17T20:44:00.797784Z",
     "start_time": "2019-09-17T20:44:00.793786Z"
    }
   },
   "outputs": [
    {
     "data": {
      "text/plain": [
       "False"
      ]
     },
     "execution_count": 67,
     "metadata": {},
     "output_type": "execute_result"
    }
   ],
   "source": [
    "(2, 3) in t"
   ]
  },
  {
   "cell_type": "code",
   "execution_count": 68,
   "metadata": {
    "ExecuteTime": {
     "end_time": "2019-09-17T20:44:10.702930Z",
     "start_time": "2019-09-17T20:44:10.696931Z"
    }
   },
   "outputs": [
    {
     "data": {
      "text/plain": [
       "True"
      ]
     },
     "execution_count": 68,
     "metadata": {},
     "output_type": "execute_result"
    }
   ],
   "source": [
    "3 in e"
   ]
  },
  {
   "cell_type": "code",
   "execution_count": 69,
   "metadata": {
    "ExecuteTime": {
     "end_time": "2019-09-17T20:44:13.746012Z",
     "start_time": "2019-09-17T20:44:13.740012Z"
    }
   },
   "outputs": [
    {
     "data": {
      "text/plain": [
       "True"
      ]
     },
     "execution_count": 69,
     "metadata": {},
     "output_type": "execute_result"
    }
   ],
   "source": [
    "1 in d"
   ]
  },
  {
   "cell_type": "code",
   "execution_count": 70,
   "metadata": {
    "ExecuteTime": {
     "end_time": "2019-09-17T20:44:23.840229Z",
     "start_time": "2019-09-17T20:44:23.834230Z"
    }
   },
   "outputs": [
    {
     "data": {
      "text/plain": [
       "False"
      ]
     },
     "execution_count": 70,
     "metadata": {},
     "output_type": "execute_result"
    }
   ],
   "source": [
    "(2, 3) in e"
   ]
  },
  {
   "cell_type": "markdown",
   "metadata": {},
   "source": [
    "## 변경 불가\n",
    "* 객체의 속성 변경 유무에 따라 뮤터블과 이뮤터블 객체로 구분\n",
    "* 뮤터블 객체는 변경 가능하고 이뮤터블 객체는 불가\n",
    "* 이뮤터블 객체는 변경이 불가능하므로 요구 사항으로 초기화된 새로운 객체 생성\n",
    "* 이뮤터블 객체의 변경 상황이 발생하면 요구 사항으로 초기화된 새로운 객체를 생성한 후 참조 변경"
   ]
  },
  {
   "cell_type": "code",
   "execution_count": 72,
   "metadata": {
    "ExecuteTime": {
     "end_time": "2019-09-17T20:46:36.164134Z",
     "start_time": "2019-09-17T20:46:36.160124Z"
    }
   },
   "outputs": [],
   "source": [
    "s = \"Congraturations\"\n",
    "s1 = s[:8] + 'l' + s[9:]"
   ]
  },
  {
   "cell_type": "code",
   "execution_count": 73,
   "metadata": {
    "ExecuteTime": {
     "end_time": "2019-09-17T20:47:05.262229Z",
     "start_time": "2019-09-17T20:47:05.257231Z"
    }
   },
   "outputs": [],
   "source": [
    "l = list(s)\n",
    "l[8] = 'l'\n",
    "s2 = \"\".join(l)"
   ]
  },
  {
   "cell_type": "code",
   "execution_count": 74,
   "metadata": {
    "ExecuteTime": {
     "end_time": "2019-09-17T20:47:07.120389Z",
     "start_time": "2019-09-17T20:47:07.114389Z"
    }
   },
   "outputs": [
    {
     "data": {
      "text/plain": [
       "'Congratulations'"
      ]
     },
     "execution_count": 74,
     "metadata": {},
     "output_type": "execute_result"
    }
   ],
   "source": [
    "s1"
   ]
  },
  {
   "cell_type": "code",
   "execution_count": 75,
   "metadata": {
    "ExecuteTime": {
     "end_time": "2019-09-17T20:47:08.423537Z",
     "start_time": "2019-09-17T20:47:08.417537Z"
    }
   },
   "outputs": [
    {
     "data": {
      "text/plain": [
       "'Congratulations'"
      ]
     },
     "execution_count": 75,
     "metadata": {},
     "output_type": "execute_result"
    }
   ],
   "source": [
    "s2"
   ]
  },
  {
   "cell_type": "code",
   "execution_count": 76,
   "metadata": {
    "ExecuteTime": {
     "end_time": "2019-09-17T20:47:21.118547Z",
     "start_time": "2019-09-17T20:47:21.113548Z"
    }
   },
   "outputs": [
    {
     "data": {
      "text/plain": [
       "'Congraturations'"
      ]
     },
     "execution_count": 76,
     "metadata": {},
     "output_type": "execute_result"
    }
   ],
   "source": [
    "s"
   ]
  }
 ],
 "metadata": {
  "kernelspec": {
   "display_name": "Python 3",
   "language": "python",
   "name": "python3"
  },
  "language_info": {
   "codemirror_mode": {
    "name": "ipython",
    "version": 3
   },
   "file_extension": ".py",
   "mimetype": "text/x-python",
   "name": "python",
   "nbconvert_exporter": "python",
   "pygments_lexer": "ipython3",
   "version": "3.7.3"
  },
  "toc": {
   "base_numbering": 1,
   "nav_menu": {},
   "number_sections": true,
   "sideBar": true,
   "skip_h1_title": false,
   "title_cell": "Table of Contents",
   "title_sidebar": "Contents",
   "toc_cell": true,
   "toc_position": {},
   "toc_section_display": true,
   "toc_window_display": true
  },
  "varInspector": {
   "cols": {
    "lenName": 16,
    "lenType": 16,
    "lenVar": 40
   },
   "kernels_config": {
    "python": {
     "delete_cmd_postfix": "",
     "delete_cmd_prefix": "del ",
     "library": "var_list.py",
     "varRefreshCmd": "print(var_dic_list())"
    },
    "r": {
     "delete_cmd_postfix": ") ",
     "delete_cmd_prefix": "rm(",
     "library": "var_list.r",
     "varRefreshCmd": "cat(var_dic_list()) "
    }
   },
   "types_to_exclude": [
    "module",
    "function",
    "builtin_function_or_method",
    "instance",
    "_Feature"
   ],
   "window_display": false
  }
 },
 "nbformat": 4,
 "nbformat_minor": 2
}
