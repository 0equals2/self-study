{
 "cells": [
  {
   "cell_type": "markdown",
   "metadata": {},
   "source": [
    "# 변수\n",
    "## 변수와 변수복사\n",
    "변수는 메모리 블록에 대한 추상화로 저장소의 **기본 접근 단위**   \n",
    "변수는 이름, 주소, 값, 타입, 존속 기간, 영역을 속성으로 가짐  \n",
    "변수는 상수를 저장하는 *그릇*과 같은 저장 공간으로 상수처럼 타입을 가짐  \n",
    "상수는 리터럴 표현으로 타입이 결정되지만 변수는 선언을 통해 타입을 결정  \n",
    "상수를 변수에 대입할 때 서로의 타입이 다르면 변수 타입에 맞춰 변환한 후 저장  \n",
    "호환 가능한 타입으로 변환할 수 없을 때 오류 발생  "
   ]
  },
  {
   "cell_type": "code",
   "execution_count": 3,
   "metadata": {},
   "outputs": [],
   "source": [
    "def ten():\n",
    "    a = 10    #함수 ten()에 소속된 a\n",
    "    \n",
    "def one():\n",
    "    a = 1    #함수 one()에 소속된 a\n",
    "    \n",
    "def fibo(n):\n",
    "    if n <= 1: #각 재귀 함수에 소속된 n\n",
    "        return 1\n",
    "    return fibo(n-1) + fibo(n-2)"
   ]
  },
  {
   "cell_type": "markdown",
   "metadata": {},
   "source": [
    "모든 파이썬 변수는 객체의 참조를 저장하는 참조 변수이므로 저장소라기 보단 레이블에 가까움  \n",
    "참조는 정수와 호환되므로 변수의 타입은 참조 타입으로 통일  \n",
    "별도의 선언문 불필요  \n",
    "하나의 변수는 여러 객체를 바꿔가며 참조 가능   \n",
    "실행 과정에서 동적으로 객체의 타입 정보 파악  "
   ]
  },
  {
   "cell_type": "markdown",
   "metadata": {},
   "source": [
    "변수에 대한 모든 연산은 참조하고 있는 대상에 대한 연산  \n",
    "변수는 사용하기 전에 대상 대입 필요  \n",
    "변수에 대입되는 대상은 초기화된 객체, 빈 객체, 참조 없음(None) 중 하나  \n",
    "레이블 개념이므로 참조 대상은 지속적으로 바뀔 수 있음"
   ]
  },
  {
   "cell_type": "code",
   "execution_count": 4,
   "metadata": {},
   "outputs": [],
   "source": [
    "a = 3.14\n",
    "a = 10\n",
    "a = \"Hello World\"\n",
    "a = [1, 2, 3]"
   ]
  },
  {
   "cell_type": "code",
   "execution_count": 5,
   "metadata": {},
   "outputs": [],
   "source": [
    "b = a\n",
    "b = None"
   ]
  },
  {
   "cell_type": "markdown",
   "metadata": {},
   "source": [
    "## 숫자 참조 변수\n",
    "정수 및 실수, 복소수 객체 참조 > 정수에 대한 나머지 연산을 포함해 산술연산 연산 결과 참조  \n",
    "정수부 + 소수부로 구성되는 실수 객체 중 정수부와 정수 객체는 메모리가 허용하는 범위의 매우 큰 정수 관리 "
   ]
  },
  {
   "cell_type": "code",
   "execution_count": 12,
   "metadata": {},
   "outputs": [],
   "source": [
    "a = 1300\n",
    "b = 0.175\n",
    "\n",
    "c = a * b\n",
    "c1 = round(a * b)\n",
    "\n",
    "import math\n",
    "c2 = math.ceil(a * b)"
   ]
  },
  {
   "cell_type": "code",
   "execution_count": 11,
   "metadata": {},
   "outputs": [
    {
     "data": {
      "text/plain": [
       "227.49999999999997"
      ]
     },
     "execution_count": 11,
     "metadata": {},
     "output_type": "execute_result"
    }
   ],
   "source": [
    "c"
   ]
  },
  {
   "cell_type": "code",
   "execution_count": 10,
   "metadata": {},
   "outputs": [
    {
     "data": {
      "text/plain": [
       "227"
      ]
     },
     "execution_count": 10,
     "metadata": {},
     "output_type": "execute_result"
    }
   ],
   "source": [
    "c1"
   ]
  },
  {
   "cell_type": "code",
   "execution_count": 13,
   "metadata": {},
   "outputs": [
    {
     "data": {
      "text/plain": [
       "228"
      ]
     },
     "execution_count": 13,
     "metadata": {},
     "output_type": "execute_result"
    }
   ],
   "source": [
    "c2"
   ]
  },
  {
   "cell_type": "markdown",
   "metadata": {},
   "source": [
    "## 논리 참조 변수\n",
    "논리 객체 참조 > 비교 연산이나 논리 연산 결과 참조\n",
    "정수 연산은 결과가 0일 때, False, 나머지는 True로 호환"
   ]
  },
  {
   "cell_type": "code",
   "execution_count": 14,
   "metadata": {},
   "outputs": [],
   "source": [
    "a = True\n",
    "b = False\n",
    "c = None\n",
    "d = 1> 10\n",
    "e = 1 != 10"
   ]
  },
  {
   "cell_type": "code",
   "execution_count": 20,
   "metadata": {},
   "outputs": [],
   "source": [
    "ret1 = a and b\n",
    "ret2 = a or b\n",
    "ret3 = not a"
   ]
  },
  {
   "cell_type": "code",
   "execution_count": 16,
   "metadata": {},
   "outputs": [
    {
     "data": {
      "text/plain": [
       "False"
      ]
     },
     "execution_count": 16,
     "metadata": {},
     "output_type": "execute_result"
    }
   ],
   "source": [
    "ret1"
   ]
  },
  {
   "cell_type": "code",
   "execution_count": 18,
   "metadata": {},
   "outputs": [
    {
     "data": {
      "text/plain": [
       "True"
      ]
     },
     "execution_count": 18,
     "metadata": {},
     "output_type": "execute_result"
    }
   ],
   "source": [
    "ret2"
   ]
  },
  {
   "cell_type": "code",
   "execution_count": 21,
   "metadata": {},
   "outputs": [
    {
     "data": {
      "text/plain": [
       "False"
      ]
     },
     "execution_count": 21,
     "metadata": {},
     "output_type": "execute_result"
    }
   ],
   "source": [
    "ret3"
   ]
  },
  {
   "cell_type": "markdown",
   "metadata": {},
   "source": [
    "## 문자열 참조\n",
    "문자열 참조 변수는 문자열 객체 참조  \n",
    "문자열 객체는 다국어를 표현할 수 있는 유니코드 문자열 관리 > 기본 인코딩은 UTF-8  \n",
    "문자열 객체에 포함된 메소드를 이용해 다양한 문자열 연산 수행"
   ]
  },
  {
   "cell_type": "markdown",
   "metadata": {},
   "source": [
    "## 바이트 문자열 참조 변수\n",
    "C언어와 호환되는 바이트 문자열 객체 참조  \n",
    "ASCII 코드 범위의 문자열만 지원하며 문자열 리터럴 앞에 접두사 b를 추가해 바잍 문자열 리터럴 표현  \n",
    "내장함수 bytearray()를 사용하면 수정이 불가능한 바이트 문자열로부터 수정이 가능한 바이트 배열 생성  \n",
    "내장 함수 ord()는 하나의 문자에 대응하는 ASCII 코드 반환, chr()는 역으로 ASCII 코드에 대응하는 하나의 문자 반환  "
   ]
  },
  {
   "cell_type": "code",
   "execution_count": 24,
   "metadata": {},
   "outputs": [],
   "source": [
    "a = \"Python\"\n",
    "b = b\"Python\"\n",
    "c = bytearray(b\"Happy\")\n",
    "c[0] = ord('h')\n",
    "d = chr(c[0])"
   ]
  },
  {
   "cell_type": "code",
   "execution_count": 26,
   "metadata": {},
   "outputs": [
    {
     "data": {
      "text/plain": [
       "'Python'"
      ]
     },
     "execution_count": 26,
     "metadata": {},
     "output_type": "execute_result"
    }
   ],
   "source": [
    "a"
   ]
  },
  {
   "cell_type": "code",
   "execution_count": 27,
   "metadata": {},
   "outputs": [
    {
     "data": {
      "text/plain": [
       "b'Python'"
      ]
     },
     "execution_count": 27,
     "metadata": {},
     "output_type": "execute_result"
    }
   ],
   "source": [
    "b"
   ]
  },
  {
   "cell_type": "code",
   "execution_count": 28,
   "metadata": {},
   "outputs": [
    {
     "data": {
      "text/plain": [
       "bytearray(b'happy')"
      ]
     },
     "execution_count": 28,
     "metadata": {},
     "output_type": "execute_result"
    }
   ],
   "source": [
    "c"
   ]
  },
  {
   "cell_type": "code",
   "execution_count": 29,
   "metadata": {},
   "outputs": [
    {
     "data": {
      "text/plain": [
       "'h'"
      ]
     },
     "execution_count": 29,
     "metadata": {},
     "output_type": "execute_result"
    }
   ],
   "source": [
    "d"
   ]
  },
  {
   "cell_type": "markdown",
   "metadata": {},
   "source": [
    "# 참조변수\n",
    "## 리스트 참조 변수\n",
    "타입에 관계없이 모든 값을 순차적으로 저장하는 시퀀스 컨테이너 중 리스트 객체 참조  \n",
    "리스트는 일반화된 동적 배열로 추상화된 인덱서를 통해 특정 위치 접근 가능"
   ]
  },
  {
   "cell_type": "code",
   "execution_count": 2,
   "metadata": {},
   "outputs": [],
   "source": [
    "a = [1, 2, 3] # 리스트(1차원 배열)\n",
    "b = [[1, 2, 3], [4 ,5, 6]] #리스트 객체를 관리하는 대상(2차원 배열)\n",
    "c = [[[1, 2, 3], [4, 5, 6]], [[7, 8, 9], [10, 11, 12]]] # 대상을 가리키고 각 대상은 다시 대상을 가리키고, 이 대상이 실제 리스트 객체를 가리킴 (3차원 배열)"
   ]
  },
  {
   "cell_type": "code",
   "execution_count": 4,
   "metadata": {},
   "outputs": [
    {
     "data": {
      "text/plain": [
       "2"
      ]
     },
     "execution_count": 4,
     "metadata": {},
     "output_type": "execute_result"
    }
   ],
   "source": [
    "a[1]"
   ]
  },
  {
   "cell_type": "code",
   "execution_count": 5,
   "metadata": {},
   "outputs": [
    {
     "data": {
      "text/plain": [
       "2"
      ]
     },
     "execution_count": 5,
     "metadata": {},
     "output_type": "execute_result"
    }
   ],
   "source": [
    "b[0][1]"
   ]
  },
  {
   "cell_type": "code",
   "execution_count": 6,
   "metadata": {},
   "outputs": [
    {
     "data": {
      "text/plain": [
       "2"
      ]
     },
     "execution_count": 6,
     "metadata": {},
     "output_type": "execute_result"
    }
   ],
   "source": [
    "c[0][0][1]"
   ]
  },
  {
   "cell_type": "markdown",
   "metadata": {},
   "source": [
    "### 튜플 참조 변수\n",
    "한 번 생성되면 크기나 요소를 **변경할 수 없는 읽기 전용** 리스트인 튜플 참조  \n",
    "변경에 대비할 필요가 없으므로 리스트에 비해 속도나 메모리 효율이 좋음  \n",
    "리스트와 튜플은 상호 변환 가능  "
   ]
  },
  {
   "cell_type": "code",
   "execution_count": 7,
   "metadata": {},
   "outputs": [],
   "source": [
    "a = [1, 2, 3]\n",
    "b = tuple(a)\n",
    "c = list(b)\n",
    "ret1 = a #[1, 2, 3]\n",
    "ret2 = b #1, 2, 3)\n",
    "ret3 = c #[1, 2, 3]"
   ]
  },
  {
   "cell_type": "markdown",
   "metadata": {},
   "source": [
    "#### 왜? 튜플이 필요한가\n",
    "대입이나 반환은 하나의 대상만 허용하는데, 튜플을 이용하면 n개의 대상에 대한 대입이나 반환 처리 가능  \n",
    "n개의 대상을 묶어 하나의 시퀀스로 처리  \n",
    "빠른 성능을 위해 리스트보다는 튜플 사용"
   ]
  },
  {
   "cell_type": "code",
   "execution_count": 8,
   "metadata": {},
   "outputs": [
    {
     "name": "stdout",
     "output_type": "stream",
     "text": [
      "a = 20, b = 10\n",
      "<class 'tuple'>\n",
      "a = 1, b = 2, c = 3, d = 4\n"
     ]
    }
   ],
   "source": [
    "a = 10\n",
    "b = 20\n",
    "a, b = b, a\n",
    "print(\"a = {0}, b = {1}\".format(a, b))\n",
    "\n",
    "data = 1, 2, 3, 4\n",
    "print(type(data))\n",
    "\n",
    "a, b, c, d = data\n",
    "print(\"a = %d, b = %d, c = %d, d = %d\"%(a, b, c, d))"
   ]
  },
  {
   "cell_type": "markdown",
   "metadata": {},
   "source": [
    "### 딕셔너리 참조 변수\n",
    "연관 컨테이너의 일종인 딕셔너리 참조 > 대상을 키와 값의 쌍으로 관리하므로 넣은 순서는 유지하지 않음  \n",
    "내장 함수 hash()로 키에 대한 해쉬 값을 얻고 이를 해쉬 테이블에 반영해 값의 저장 위치 결정  \n",
    "딕셔너리의 성능은 해쉬 연산 속도 및 키 충돌을 보완하는 추가 연산에 의존"
   ]
  },
  {
   "cell_type": "code",
   "execution_count": 9,
   "metadata": {},
   "outputs": [],
   "source": [
    "ret1 = hash(\"raspberry\")\n",
    "ret2 = hash(\"apple\")\n",
    "\n",
    "a = {\"raspberry\": \"#123!\", \"apple\": \"123456\"}\n",
    "\n",
    "ret3 = hash(1)\n",
    "ret4 = hash(2)\n",
    "\n",
    "b = {1:\"raspberry\", 2:\"apple\"}"
   ]
  },
  {
   "cell_type": "code",
   "execution_count": 10,
   "metadata": {},
   "outputs": [
    {
     "data": {
      "text/plain": [
       "7866667390668582983"
      ]
     },
     "execution_count": 10,
     "metadata": {},
     "output_type": "execute_result"
    }
   ],
   "source": [
    "ret1"
   ]
  },
  {
   "cell_type": "code",
   "execution_count": 11,
   "metadata": {},
   "outputs": [
    {
     "data": {
      "text/plain": [
       "257104104659324860"
      ]
     },
     "execution_count": 11,
     "metadata": {},
     "output_type": "execute_result"
    }
   ],
   "source": [
    "ret2"
   ]
  },
  {
   "cell_type": "code",
   "execution_count": 12,
   "metadata": {},
   "outputs": [
    {
     "data": {
      "text/plain": [
       "{1: 'raspberry', 2: 'apple'}"
      ]
     },
     "execution_count": 12,
     "metadata": {},
     "output_type": "execute_result"
    }
   ],
   "source": [
    "b"
   ]
  },
  {
   "cell_type": "code",
   "execution_count": 13,
   "metadata": {},
   "outputs": [
    {
     "data": {
      "text/plain": [
       "1"
      ]
     },
     "execution_count": 13,
     "metadata": {},
     "output_type": "execute_result"
    }
   ],
   "source": [
    "ret3"
   ]
  },
  {
   "cell_type": "code",
   "execution_count": 14,
   "metadata": {},
   "outputs": [
    {
     "data": {
      "text/plain": [
       "2"
      ]
     },
     "execution_count": 14,
     "metadata": {},
     "output_type": "execute_result"
    }
   ],
   "source": [
    "ret4"
   ]
  },
  {
   "cell_type": "markdown",
   "metadata": {},
   "source": [
    "### 다양한 딕셔너리 표현\n",
    "다양한 타입으로 키와 값 표현이 가능하나 리스트와 딕셔너리, 집합은 해쉬 연산에 대한 정의가 없어 키로 사용할 수 없다.  \n",
    "시퀀스가 아니므로 리스트나 튜플처럼 연결 관계를 만들 수 없다."
   ]
  },
  {
   "cell_type": "code",
   "execution_count": 16,
   "metadata": {},
   "outputs": [],
   "source": [
    "a = {1: \"you\", \"me\":2}\n",
    "b = {1.234:[1, [2, [3, None]]], (1, 2): \"yeah\", True:{\"it's me\":2}} #튜플, 불, 실수\n",
    "c = {} #빈 딕셔너리"
   ]
  },
  {
   "cell_type": "markdown",
   "metadata": {},
   "source": [
    "### 집합 참조 변수\n",
    "중복되지 않는 대상을 저장하는 집합 참조  \n",
    "집합에 넣는 대상이 곧 키 이므로 중복을 허용하지 않음  \n",
    "키는 해쉬 연산대상으로 리스트와 딕셔너리, 집합은 집합에 넣을 수 없음  \n",
    "정수의 해쉬 연산 결과는 값 자체이므로 오름 차순 정렬 의미 > 딕셔너리도 동일  \n",
    "다른 타입은 해쉬 연산 결과가 다르므로 순서를 유지하지 않음  "
   ]
  },
  {
   "cell_type": "code",
   "execution_count": 18,
   "metadata": {},
   "outputs": [],
   "source": [
    "data = {1, \"apple\", (2, 3)}"
   ]
  },
  {
   "cell_type": "code",
   "execution_count": 19,
   "metadata": {},
   "outputs": [],
   "source": [
    "list1 = [1, 2, 2, 3, 2, 7, 1]"
   ]
  },
  {
   "cell_type": "code",
   "execution_count": 20,
   "metadata": {},
   "outputs": [
    {
     "data": {
      "text/plain": [
       "{1, 2, 3, 7}"
      ]
     },
     "execution_count": 20,
     "metadata": {},
     "output_type": "execute_result"
    }
   ],
   "source": [
    "set(list1)"
   ]
  },
  {
   "cell_type": "code",
   "execution_count": 21,
   "metadata": {},
   "outputs": [
    {
     "data": {
      "text/plain": [
       "[1, 2, 3, 7]"
      ]
     },
     "execution_count": 21,
     "metadata": {},
     "output_type": "execute_result"
    }
   ],
   "source": [
    "list(set(list1))"
   ]
  },
  {
   "cell_type": "code",
   "execution_count": 25,
   "metadata": {},
   "outputs": [],
   "source": [
    "string1 = \"boy meets girl\"\n",
    "set2 = set(string1)\n",
    "string2 = ' '.join(set2)\n",
    "set3 = ()"
   ]
  },
  {
   "cell_type": "code",
   "execution_count": 26,
   "metadata": {},
   "outputs": [
    {
     "data": {
      "text/plain": [
       "{' ', 'b', 'e', 'g', 'i', 'l', 'm', 'o', 'r', 's', 't', 'y'}"
      ]
     },
     "execution_count": 26,
     "metadata": {},
     "output_type": "execute_result"
    }
   ],
   "source": [
    "set2"
   ]
  },
  {
   "cell_type": "code",
   "execution_count": 27,
   "metadata": {},
   "outputs": [
    {
     "data": {
      "text/plain": [
       "'g m e o r i b l s   t y'"
      ]
     },
     "execution_count": 27,
     "metadata": {},
     "output_type": "execute_result"
    }
   ],
   "source": [
    "string2"
   ]
  },
  {
   "cell_type": "markdown",
   "metadata": {},
   "source": [
    "# 변수 복사"
   ]
  },
  {
   "cell_type": "markdown",
   "metadata": {},
   "source": [
    "## 변수와 변수 대입 연산\n",
    "변수를 다른 변수에 대입하면 r-value에 저장된 참조만 l-value 에 복사  \n",
    "실제 객체 복사는 복사 연산 수행 시간과 객체 중복에 따른 메모리 사용 측면에서 비용 발생  \n",
    "이뮤터블 객체의 참조 공유는 빠른 복사 시간과 객체의 중복을 배제해 메모리 효율을 높이므로 권장 사항  \n",
    "뮤터블 객체의 참조 공유는 한 쪽에서 객체를 변경하면 다른 쪽에도 반영된 결과를 보임"
   ]
  },
  {
   "cell_type": "code",
   "execution_count": 28,
   "metadata": {},
   "outputs": [],
   "source": [
    "l1 = [1, 2, 3]\n",
    "l2 = l1\n",
    "l2.remove(2)"
   ]
  },
  {
   "cell_type": "code",
   "execution_count": 29,
   "metadata": {},
   "outputs": [
    {
     "data": {
      "text/plain": [
       "[1, 3]"
      ]
     },
     "execution_count": 29,
     "metadata": {},
     "output_type": "execute_result"
    }
   ],
   "source": [
    "l2"
   ]
  },
  {
   "cell_type": "code",
   "execution_count": 30,
   "metadata": {},
   "outputs": [
    {
     "data": {
      "text/plain": [
       "[1, 3]"
      ]
     },
     "execution_count": 30,
     "metadata": {},
     "output_type": "execute_result"
    }
   ],
   "source": [
    "l1"
   ]
  },
  {
   "cell_type": "markdown",
   "metadata": {},
   "source": [
    "## 얕은 복사\n",
    "얕은 복사는 기존 객체를 복사할 때 다른 객체의 참조가 포함되어 있으면 참조만 복사  \n",
    "copy 패키지의 copy()함수는 얕은 복사 지원  \n",
    "복사 시간은 속성이 참조하는 객체의 크기와 관계 없음"
   ]
  },
  {
   "cell_type": "code",
   "execution_count": 37,
   "metadata": {},
   "outputs": [],
   "source": [
    "from copy import copy\n",
    "l1 = [1, 2, 3, 4]\n",
    "l2 = [1, [2, 3], 4]\n",
    "new_l1 = copy(l1)\n",
    "new_l2 = copy(l2) # 참조가 포함(새로 만들어지는 게 아님)"
   ]
  },
  {
   "cell_type": "code",
   "execution_count": 32,
   "metadata": {},
   "outputs": [
    {
     "data": {
      "text/plain": [
       "[1, 2, 3, 4]"
      ]
     },
     "execution_count": 32,
     "metadata": {},
     "output_type": "execute_result"
    }
   ],
   "source": [
    "new_l1"
   ]
  },
  {
   "cell_type": "code",
   "execution_count": 38,
   "metadata": {},
   "outputs": [
    {
     "data": {
      "text/plain": [
       "[1, [2, 3], 4]"
      ]
     },
     "execution_count": 38,
     "metadata": {},
     "output_type": "execute_result"
    }
   ],
   "source": [
    "new_l2"
   ]
  },
  {
   "cell_type": "markdown",
   "metadata": {},
   "source": [
    "## 깊은 복사\n",
    "깊은 복사는 기존 객체를 복사할 때 참조하고 있는 객체까찌 모두 복사  \n",
    "copy 패키지의 deepcopy()함수는 깊은 복사 지원  \n",
    "복사 시간은 참조하는 객체의 크기에 의존  "
   ]
  },
  {
   "cell_type": "code",
   "execution_count": 34,
   "metadata": {},
   "outputs": [],
   "source": [
    "from copy import copy, deepcopy\n",
    "\n",
    "l1 = [1, 2, 3, 4]\n",
    "l2 = [1, [2, 3], 4]  # 참조가 포함\n",
    "\n",
    "new_l1 = copy(l1)#얕은 복사\n",
    "new_l2 = deepcopy(l2) #깊은 복사, 대상도 그대로 복사가 됨"
   ]
  },
  {
   "cell_type": "code",
   "execution_count": 35,
   "metadata": {},
   "outputs": [
    {
     "data": {
      "text/plain": [
       "[1, 2, 3, 4]"
      ]
     },
     "execution_count": 35,
     "metadata": {},
     "output_type": "execute_result"
    }
   ],
   "source": [
    "new_l1"
   ]
  },
  {
   "cell_type": "code",
   "execution_count": 36,
   "metadata": {},
   "outputs": [
    {
     "data": {
      "text/plain": [
       "[1, [2, 3], 4]"
      ]
     },
     "execution_count": 36,
     "metadata": {},
     "output_type": "execute_result"
    }
   ],
   "source": [
    "new_l2"
   ]
  },
  {
   "cell_type": "markdown",
   "metadata": {},
   "source": [
    "### 객체 복사 유형\n",
    "객체의 타입 변환은 얕은 복사  \n",
    "뮤터블 객체의 슬라이싱은 얕은 복사, deepcopy()는 깊은 복사  \n",
    "이뮤터블 객체는 슬라이싱과 deepcopy() 모두 복사가 아닌 참조 공유  "
   ]
  },
  {
   "cell_type": "code",
   "execution_count": 39,
   "metadata": {},
   "outputs": [],
   "source": [
    "from copy import deepcopy\n",
    "l = [1, [2, 3], 4]  #리스트 뮤터블\n",
    "t = (1, (2, 3), 4)  #튜플 이뮤터블\n",
    "\n",
    "new_l1 = l[ : ] # 전체& 참조만 공유\n",
    "new_l2 = deepcopy(l) #새로운 객체가 생김\n",
    "\n",
    "new_t1 = t[ : ] #참조만 공유\n",
    "new_t2 = deepcopy(t) #새로운 객체가 생기지 않음\n",
    "\n",
    "l2 = list(t) #얕은 복사\n",
    "t2 = tuple(l) #얕은 복사"
   ]
  },
  {
   "cell_type": "markdown",
   "metadata": {},
   "source": [
    "# 정리\n",
    "## 변수의 특징\n",
    "* 변수 : 메모리 블록에 대한 추상화로 저장소의 기본 접근 단위\n",
    "* 변수의 속성 : 이름, 주소, 값, 타입, 존속기간, 영역\n",
    "* 변수는 상수를 저장하는 그릇과 같은 저장 공간으로 상수처럼 타입을 가짐\n",
    "* 파이썬 변수: 모든 파이썬 변수는 객체의 참조를 저장하는 참조변수이므로 저장소 보단 레이블\n",
    "* 모든 변수는 초기화된 객체, 빈 객체, 참조 없음(none)중 하나를 대입\n",
    "* 숫자 참조 변수: 정수 및 실수, 복소수 객체를 참조하는데 정수에 대한 나머지 연산을 포함해 산술 연산 결과를 참조할 때 사용\n",
    "* 논리 참조 변수 : 논리 객체를 참조함, 정수연산은 결과가 0일때 flase, 나머지는 true로 호환\n",
    "* 문자열 참조 변수: 문자열 객체를 참조하는 변수로 다국어를 표현할 수 있는 유니코드 문자열을 관리\n",
    "* 바이트 문자열 참조 변수: C언어와 호환되는 바이트 문자열 객체를 참조할 때 사용\n",
    " - bytearray() :  수정이 불가능한 바이트 문자열로부터 수정이 가능한 바이트 배열을 생성하는 내장함수\n",
    " - ord(): 하나의 문자에 대응하는 아스키코드를 반환, 역으로 chr()은 아스키 코드에 대응하는 문자를 반환하는 내장함수"
   ]
  },
  {
   "cell_type": "markdown",
   "metadata": {},
   "source": [
    "## 참조변수\n",
    "* 리스트 참조변수: 타입에 관계없이 모든 값을 순차적으로 저장하는 시퀀스 컨테이너 중 리스트 객체를 참조하는 변수\n",
    "* 튜플 참조변수: 한번 생성되면 크기나 요소를 변경할 수 없는 읽기 전용 리스트인 튜플을 참조하는 변수\n",
    "* 딕셔너리 참조변수: 연관 컨테이너의 일종인 딕셔너리를 참조하는 변수, 대상을 키와 값의 쌍으로 관리하므로 넣은 순서는 유지 안 함\n",
    "-hash() : 키에 대한 해쉬 값을 얻고 이를 해쉬 테이블에 반영해 값의 저장 위치 결정하는 내장함수\n",
    "* 집합 참조변수 : 중복되지 않은 대상을 저장하는 집합을 참조할 때 사용"
   ]
  },
  {
   "cell_type": "markdown",
   "metadata": {},
   "source": [
    "## 변수 복사\n",
    "* 실제 객체 복사 : 복사 연산 수행 시간과 객체 중복에 따른 메모리 사용 측면에서 비용 발생\n",
    "* 이뮤터블 객체 : 참조만 공유하는 방법으로 빠른 복사시간과 객체의 중복을 배제해 메모리 효율을 높임\n",
    "* 뮤터블 객체 : 참조 공유는 한 쪽에서 객체를 변경하면 다른 쪽에도 반영된 결과를 보임\n",
    "* 얕은 복사: 기존 객체를 복사할 때 다른 객체의 참조가 포함되어 있으면 참조만 복사\n",
    "* 깊은 복사: 기존 객체를 복사할 때 참조하고 있는 객체까지 모두 복사\n",
    " - copy() : 얕은 복사를 지원하는 함수\n",
    " - deepcopy() : 깊은 복사를 지원하는 함수"
   ]
  },
  {
   "cell_type": "code",
   "execution_count": null,
   "metadata": {},
   "outputs": [],
   "source": []
  }
 ],
 "metadata": {
  "kernelspec": {
   "display_name": "Python 3",
   "language": "python",
   "name": "python3"
  },
  "language_info": {
   "codemirror_mode": {
    "name": "ipython",
    "version": 3
   },
   "file_extension": ".py",
   "mimetype": "text/x-python",
   "name": "python",
   "nbconvert_exporter": "python",
   "pygments_lexer": "ipython3",
   "version": "3.7.3"
  }
 },
 "nbformat": 4,
 "nbformat_minor": 2
}
