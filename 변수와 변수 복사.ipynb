{
 "cells": [
  {
   "cell_type": "markdown",
   "metadata": {},
   "source": [
    "# 변수\n",
    "## 변수와 변수복사\n",
    "변수는 메모리 블록에 대한 추상화로 저장소의 **기본 접근 단위**   \n",
    "변수는 이름, 주소, 값, 타입, 존속 기간, 영역을 속성으로 가짐  \n",
    "변수는 상수를 저장하는 *그릇*과 같은 저장 공간으로 상수처럼 타입을 가짐  \n",
    "상수는 리터럴 표현으로 타입이 결정되지만 변수는 선언을 통해 타입을 결정  \n",
    "상수를 변수에 대입할 때 서로의 타입이 다르면 변수 타입에 맞춰 변환한 후 저장  \n",
    "호환 가능한 타입으로 변환할 수 없을 때 오류 발생  "
   ]
  },
  {
   "cell_type": "code",
   "execution_count": 3,
   "metadata": {},
   "outputs": [],
   "source": [
    "def ten():\n",
    "    a = 10    #함수 ten()에 소속된 a\n",
    "    \n",
    "def one():\n",
    "    a = 1    #함수 one()에 소속된 a\n",
    "    \n",
    "def fibo(n):\n",
    "    if n <= 1: #각 재귀 함수에 소속된 n\n",
    "        return 1\n",
    "    return fibo(n-1) + fibo(n-2)"
   ]
  },
  {
   "cell_type": "markdown",
   "metadata": {},
   "source": [
    "모든 파이썬 변수는 객체의 참조를 저장하는 참조 변수이므로 저장소라기 보단 레이블에 가까움  \n",
    "참조는 정수와 호환되므로 변수의 타입은 참조 타입으로 통일  \n",
    "별도의 선언문 불필요  \n",
    "하나의 변수는 여러 객체를 바꿔가며 참조 가능   \n",
    "실행 과정에서 동적으로 객체의 타입 정보 파악  "
   ]
  },
  {
   "cell_type": "markdown",
   "metadata": {},
   "source": [
    "변수에 대한 모든 연산은 참조하고 있는 대상에 대한 연산  \n",
    "변수는 사용하기 전에 대상 대입 필요  \n",
    "변수에 대입되는 대상은 초기화된 객체, 빈 객체, 참조 없음(None) 중 하나  \n",
    "레이블 개념이므로 참조 대상은 지속적으로 바뀔 수 있음"
   ]
  },
  {
   "cell_type": "code",
   "execution_count": 4,
   "metadata": {},
   "outputs": [],
   "source": [
    "a = 3.14\n",
    "a = 10\n",
    "a = \"Hello World\"\n",
    "a = [1, 2, 3]"
   ]
  },
  {
   "cell_type": "code",
   "execution_count": 5,
   "metadata": {},
   "outputs": [],
   "source": [
    "b = a\n",
    "b = None"
   ]
  },
  {
   "cell_type": "markdown",
   "metadata": {},
   "source": [
    "## 숫자 참조 변수\n",
    "정수 및 실수, 복소수 객체 참조 > 정수에 대한 나머지 연산을 포함해 산술연산 연산 결과 참조  \n",
    "정수부 + 소수부로 구성되는 실수 객체 중 정수부와 정수 객체는 메모리가 허용하는 범위의 매우 큰 정수 관리 "
   ]
  },
  {
   "cell_type": "code",
   "execution_count": 12,
   "metadata": {},
   "outputs": [],
   "source": [
    "a = 1300\n",
    "b = 0.175\n",
    "\n",
    "c = a * b\n",
    "c1 = round(a * b)\n",
    "\n",
    "import math\n",
    "c2 = math.ceil(a * b)"
   ]
  },
  {
   "cell_type": "code",
   "execution_count": 11,
   "metadata": {},
   "outputs": [
    {
     "data": {
      "text/plain": [
       "227.49999999999997"
      ]
     },
     "execution_count": 11,
     "metadata": {},
     "output_type": "execute_result"
    }
   ],
   "source": [
    "c"
   ]
  },
  {
   "cell_type": "code",
   "execution_count": 10,
   "metadata": {},
   "outputs": [
    {
     "data": {
      "text/plain": [
       "227"
      ]
     },
     "execution_count": 10,
     "metadata": {},
     "output_type": "execute_result"
    }
   ],
   "source": [
    "c1"
   ]
  },
  {
   "cell_type": "code",
   "execution_count": 13,
   "metadata": {},
   "outputs": [
    {
     "data": {
      "text/plain": [
       "228"
      ]
     },
     "execution_count": 13,
     "metadata": {},
     "output_type": "execute_result"
    }
   ],
   "source": [
    "c2"
   ]
  },
  {
   "cell_type": "markdown",
   "metadata": {},
   "source": [
    "## 논리 참조 변수\n",
    "논리 객체 참조 > 비교 연산이나 논리 연산 결과 참조\n",
    "정수 연산은 결과가 0일 때, False, 나머지는 True로 호환"
   ]
  },
  {
   "cell_type": "code",
   "execution_count": 14,
   "metadata": {},
   "outputs": [],
   "source": [
    "a = True\n",
    "b = False\n",
    "c = None\n",
    "d = 1> 10\n",
    "e = 1 != 10"
   ]
  },
  {
   "cell_type": "code",
   "execution_count": 20,
   "metadata": {},
   "outputs": [],
   "source": [
    "ret1 = a and b\n",
    "ret2 = a or b\n",
    "ret3 = not a"
   ]
  },
  {
   "cell_type": "code",
   "execution_count": 16,
   "metadata": {},
   "outputs": [
    {
     "data": {
      "text/plain": [
       "False"
      ]
     },
     "execution_count": 16,
     "metadata": {},
     "output_type": "execute_result"
    }
   ],
   "source": [
    "ret1"
   ]
  },
  {
   "cell_type": "code",
   "execution_count": 18,
   "metadata": {},
   "outputs": [
    {
     "data": {
      "text/plain": [
       "True"
      ]
     },
     "execution_count": 18,
     "metadata": {},
     "output_type": "execute_result"
    }
   ],
   "source": [
    "ret2"
   ]
  },
  {
   "cell_type": "code",
   "execution_count": 21,
   "metadata": {},
   "outputs": [
    {
     "data": {
      "text/plain": [
       "False"
      ]
     },
     "execution_count": 21,
     "metadata": {},
     "output_type": "execute_result"
    }
   ],
   "source": [
    "ret3"
   ]
  },
  {
   "cell_type": "markdown",
   "metadata": {},
   "source": [
    "## 문자열 참조\n",
    "문자열 참조 변수는 문자열 객체 참조  \n",
    "문자열 객체는 다국어를 표현할 수 있는 유니코드 문자열 관리 > 기본 인코딩은 UTF-8  \n",
    "문자열 객체에 포함된 메소드를 이용해 다양한 문자열 연산 수행"
   ]
  },
  {
   "cell_type": "markdown",
   "metadata": {},
   "source": [
    "## 바이트 문자열 참조 변수\n",
    "C언어와 호환되는 바이트 문자열 객체 참조  \n",
    "ASCII 코드 범위의 문자열만 지원하며 문자열 리터럴 앞에 접두사 b를 추가해 바잍 문자열 리터럴 표현  \n",
    "내장함수 bytearray()를 사용하면 수정이 불가능한 바이트 문자열로부터 수정이 가능한 바이트 배열 생성  \n",
    "내장 함수 ord()는 하나의 문자에 대응하는 ASCII 코드 반환, chr()는 역으로 ASCII 코드에 대응하는 하나의 문자 반환  "
   ]
  },
  {
   "cell_type": "code",
   "execution_count": 24,
   "metadata": {},
   "outputs": [],
   "source": [
    "a = \"Python\"\n",
    "b = b\"Python\"\n",
    "c = bytearray(b\"Happy\")\n",
    "c[0] = ord('h')\n",
    "d = chr(c[0])"
   ]
  },
  {
   "cell_type": "code",
   "execution_count": 26,
   "metadata": {},
   "outputs": [
    {
     "data": {
      "text/plain": [
       "'Python'"
      ]
     },
     "execution_count": 26,
     "metadata": {},
     "output_type": "execute_result"
    }
   ],
   "source": [
    "a"
   ]
  },
  {
   "cell_type": "code",
   "execution_count": 27,
   "metadata": {},
   "outputs": [
    {
     "data": {
      "text/plain": [
       "b'Python'"
      ]
     },
     "execution_count": 27,
     "metadata": {},
     "output_type": "execute_result"
    }
   ],
   "source": [
    "b"
   ]
  },
  {
   "cell_type": "code",
   "execution_count": 28,
   "metadata": {},
   "outputs": [
    {
     "data": {
      "text/plain": [
       "bytearray(b'happy')"
      ]
     },
     "execution_count": 28,
     "metadata": {},
     "output_type": "execute_result"
    }
   ],
   "source": [
    "c"
   ]
  },
  {
   "cell_type": "code",
   "execution_count": 29,
   "metadata": {},
   "outputs": [
    {
     "data": {
      "text/plain": [
       "'h'"
      ]
     },
     "execution_count": 29,
     "metadata": {},
     "output_type": "execute_result"
    }
   ],
   "source": [
    "d"
   ]
  },
  {
   "cell_type": "code",
   "execution_count": null,
   "metadata": {},
   "outputs": [],
   "source": [
    "# 참조변수"
   ]
  }
 ],
 "metadata": {
  "kernelspec": {
   "display_name": "Python 3",
   "language": "python",
   "name": "python3"
  },
  "language_info": {
   "codemirror_mode": {
    "name": "ipython",
    "version": 3
   },
   "file_extension": ".py",
   "mimetype": "text/x-python",
   "name": "python",
   "nbconvert_exporter": "python",
   "pygments_lexer": "ipython3",
   "version": "3.6.8"
  }
 },
 "nbformat": 4,
 "nbformat_minor": 2
}
